{
 "metadata": {
  "name": "",
  "signature": "sha256:1793000ac9d07330ac47f19007b2b794d4b9a9e2673eab8cb7e5d6d0b26662ec"
 },
 "nbformat": 3,
 "nbformat_minor": 0,
 "worksheets": [
  {
   "cells": [
    {
     "cell_type": "code",
     "collapsed": false,
     "input": [
      "from IPython.core.display import HTML\n",
      "def css_styling():\n",
      "    styles = open(\"../styles/custom.css\", \"r\").read()\n",
      "    return HTML(styles)\n",
      "css_styling()"
     ],
     "language": "python",
     "metadata": {
      "cellrole": "header"
     },
     "outputs": [
      {
       "html": [
        "<link href='http://fonts.googleapis.com/css?family=Fenix' rel='stylesheet' type='text/css'>\n",
        "<link href='http://fonts.googleapis.com/css?family=Alegreya+Sans:100,300,400,500,700,800,900,100italic,300italic,400italic,500italic,700italic,800italic,900italic' rel='stylesheet' type='text/css'>\n",
        "<link href='http://fonts.googleapis.com/css?family=Source+Code+Pro:300,400' rel='stylesheet' type='text/css'>\n",
        "<style>\n",
        "    @font-face {\n",
        "        font-family: \"Computer Modern\";\n",
        "        src: url('http://mirrors.ctan.org/fonts/cm-unicode/fonts/otf/cmunss.otf');\n",
        "    }\n",
        "    div.cell{\n",
        "        width:800px;\n",
        "        margin-left:5% !important;\n",
        "        margin-right:auto;\n",
        "    }\n",
        "    h1 {\n",
        "        font-family: 'Alegreya Sans', sans-serif;\n",
        "    }\n",
        "    h2 {\n",
        "        font-family: 'Alegreya Sans', sans-serif;\n",
        "        color:#CD2305;\n",
        "    }\n",
        "    h3{\n",
        "\t\tfont-family: 'Fenix', serif;\n",
        "        margin-top:12px;\n",
        "        margin-bottom: 3px;\n",
        "        color:#CD2305;\n",
        "       }\n",
        "\th4{\n",
        "\t\tfont-family: 'Fenix', serif;\n",
        "        color:#CD2305;\n",
        "       }\n",
        "    h5 {\n",
        "        font-family: 'Alegreya Sans', sans-serif;\n",
        "        color:#CD2305;\n",
        "    }\t   \n",
        "    div.text_cell_render{\n",
        "        font-family: 'Alegreya Sans',Computer Modern, \"Helvetica Neue\", Arial, Helvetica, Geneva, sans-serif; \n",
        "        /*font-family: 'Alegreya Sans', sans-serif;*/\n",
        "        font-size: 120%;\n",
        "        line-height: 120%;\n",
        "        width:55em;\n",
        "        margin-left:-10% !important;\n",
        "\n",
        "    }\n",
        "    .CodeMirror{\n",
        "            font-family: 'Bitstream Vera Sans Mono','Lucida Console',monospace;\n",
        "\t\t\tfont-size: 90%;\n",
        "    }\n",
        "/*    .prompt{\n",
        "        display: None;\n",
        "    }*/\n",
        "    .text_cell_render h1 {\n",
        "        font-weight: 200;\n",
        "        font-size: 24pt;\n",
        "\t\tline-height: 100%;\n",
        "        color:#CD2305;\n",
        "        margin-bottom: 0.5em;\n",
        "        margin-top: 0.5em;\n",
        "        display: block;\n",
        "    }\t\n",
        "    .text_cell_render h5 {\n",
        "        font-weight: 300;\n",
        "        font-size: 16pt;\n",
        "        color: #CD2305;\n",
        "        font-style: italic;\n",
        "        margin-bottom: .5em;\n",
        "        margin-top: 0.5em;\n",
        "        display: block;\n",
        "    }\n",
        "    \n",
        "    .warning{\n",
        "        color: rgb( 240, 20, 20 )\n",
        "        }  \n",
        "</style>\n",
        "<script>\n",
        "    MathJax.Hub.Config({\n",
        "                        TeX: {\n",
        "                           extensions: [\"AMSmath.js\"]\n",
        "                           },\n",
        "                tex2jax: {\n",
        "                    inlineMath: [ ['$','$'], [\"\\\\(\",\"\\\\)\"] ],\n",
        "                    displayMath: [ ['$$','$$'], [\"\\\\[\",\"\\\\]\"] ]\n",
        "                },\n",
        "                displayAlign: 'center', // Change this to 'center' to center equations.\n",
        "                \"HTML-CSS\": {\n",
        "                    styles: {'.MathJax_Display': {\"margin\": 4}}\n",
        "                }\n",
        "        });\n",
        "</script>"
       ],
       "metadata": {},
       "output_type": "pyout",
       "prompt_number": 1,
       "text": [
        "<IPython.core.display.HTML at 0x108339fd0>"
       ]
      }
     ],
     "prompt_number": 1
    },
    {
     "cell_type": "markdown",
     "metadata": {},
     "source": [
      "<figure>\n",
      "<IMG SRC=\"../lectures/images/PhysicsLogo.jpg\" WIDTH=100 ALIGN=\"right\">\n",
      "</figure>\n",
      "# [Physics 411](http://jklymak.github.io/Phy411/) Time Series Analysis\n",
      "*Jody Klymak*\n"
     ]
    },
    {
     "cell_type": "heading",
     "level": 1,
     "metadata": {},
     "source": [
      "Assignment 3"
     ]
    },
    {
     "cell_type": "heading",
     "level": 2,
     "metadata": {},
     "source": [
      "Q1: Lag correlations of weather time series"
     ]
    },
    {
     "cell_type": "code",
     "collapsed": false,
     "input": [
      "hourdata=np.genfromtxt('http://web.uvic.ca/~jklymak/Phy411/Data/AllHourly.txt')[[6,28],2:]\n",
      "dc = hourdata[0,:]\n",
      "jb=hourdata[1,:]"
     ],
     "language": "python",
     "metadata": {},
     "outputs": [],
     "prompt_number": 36
    },
    {
     "cell_type": "markdown",
     "metadata": {},
     "source": [
      "a**1** From the hourly time series at Deep Cove (`dc`), calculate the *lag correlation co-efficient* $\\rho_{xx}(\\tau)$ out to a lag of $\\tau=30\\ \\mathrm{days}$ (Umm, remember this data is hourly!).  (also rememebr to remove the mean of $dc$ before trying to to the calculations).  \n",
      "\n",
      "Comment on the resulting plot."
     ]
    },
    {
     "cell_type": "code",
     "collapsed": false,
     "input": [
      "# CODE"
     ],
     "language": "python",
     "metadata": {},
     "outputs": [],
     "prompt_number": 1
    },
    {
     "cell_type": "markdown",
     "metadata": {},
     "source": [
      "COMMENT HERE"
     ]
    },
    {
     "cell_type": "markdown",
     "metadata": {},
     "source": [
      "*2* Now, instead of doing the whole year, look at just the winter months and the summer months and compare the lag correlations (no need to do this for the whole time series, just choose one winter and one summer).  Make sure to indicate which lag correlation is which on the plots.\n",
      "\n",
      "Comment below on the different charcter of these two lag correlations."
     ]
    },
    {
     "cell_type": "code",
     "collapsed": false,
     "input": [
      "#CODE"
     ],
     "language": "python",
     "metadata": {},
     "outputs": [],
     "prompt_number": 2
    },
    {
     "cell_type": "markdown",
     "metadata": {},
     "source": [
      "COMMENT HERE"
     ]
    },
    {
     "cell_type": "heading",
     "level": 2,
     "metadata": {},
     "source": [
      "Q2 Emperically show that the expected value of a finite spectrum approaches the true spectrum as T goes to infinity."
     ]
    },
    {
     "cell_type": "markdown",
     "metadata": {},
     "source": [
      "**1** Consider the process $x(t) = \\int_{t-b}^t y(t) \\ \\mathrm{dt}$ where $y(t)$ is uncorrelated white noise so that $R_{yy}(\\tau)=\\delta(\\tau)$.  Compute $R_{xx}(\\tau)$."
     ]
    },
    {
     "cell_type": "markdown",
     "metadata": {},
     "source": [
      "ANSWER HERE (or send me a PDF).  This is analytical.  If you need help on writing equations in latex see the examples in the lecture notes and/or [ftp://ftp.ams.org/ams/doc/amsmath/short-math-guide.pdf](ftp://ftp.ams.org/ams/doc/amsmath/short-math-guide.pdf)\n"
     ]
    },
    {
     "cell_type": "markdown",
     "metadata": {},
     "source": [
      "**2** Show emperically that you have the right *lag auto correlation* by computing the lag correlation of a random discrete timeseries $x(t)$.  Hint: have a look at `np.convolve` to do the integration. Hint 2: Make sure your time series is long enough to get a nice representation of $R_{xx}(\\tau)$.  Show what happens if N is too small and what happens if it gets larger.\n",
      "(Hint to do this well, I needed N to get pretty large, like 5e6,  I used `N in [500, 5000, 50000, 5e6]`, but my machine has a good amount of memory.  Don't *test* on the bigger values, just add them for the final product)."
     ]
    },
    {
     "cell_type": "code",
     "collapsed": false,
     "input": [
      "# CODE HERE"
     ],
     "language": "python",
     "metadata": {},
     "outputs": [],
     "prompt_number": 3
    },
    {
     "cell_type": "markdown",
     "metadata": {},
     "source": [
      "**3** Derive (or look up) the power spectral density, $S_{xx}(f)$ of this process:"
     ]
    },
    {
     "cell_type": "markdown",
     "metadata": {},
     "source": [
      "ANSWER HERE.  "
     ]
    },
    {
     "cell_type": "markdown",
     "metadata": {},
     "source": [
      "**4** Demonstrate with finite values of $T$ that $\\lim_{T->\\infty}S_{xx}(f,T)$ does *not* converge to $S_{xx}(f)$.  Do this by taking longer values of $T$, fitting to the same set of $f$, and graphically showing that the spectral estimate does not improve.  (Do **not** use canned `fft` routines, unless you prove they work first.)\n",
      "\n",
      "Hints: \n",
      "  - When you choose your discrete values of $f$, make sure you don't choose them to be too high (i.e. if you define $\\Delta t=1 \\ \\mathrm{s}$ in your time series above, then there is no need to have frequencies greater than 1 Hz; actually no need to have them greater than 0.5 Hz, as we will see in the next lecture).\n",
      "  - I would recommend writing a small funtion to do the integration for the Fourier Transform so that you are not rewriting the same code.  To do this, you would do something like:\n",
      "\n",
      "```python\n",
      "def dft(x,dt,f): \n",
      "    # where x is your time series, dt is the sample rate in seconds, \n",
      "    # and f are the frequencies in Hz you want the Fourier Series calculated on\n",
      "    \n",
      "    # Your code in here\n",
      "    return X # where X is your Fourier tranform\n",
      "```\n",
      "\n",
      "  - Choose the length of your spectra to go up by decades (i.e. 500,5000,...)\n",
      "\n"
     ]
    },
    {
     "cell_type": "code",
     "collapsed": false,
     "input": [
      "# CODE HERE"
     ],
     "language": "python",
     "metadata": {},
     "outputs": [],
     "prompt_number": 1
    },
    {
     "cell_type": "markdown",
     "metadata": {},
     "source": [
      "COMMENT HERE"
     ]
    },
    {
     "cell_type": "markdown",
     "metadata": {},
     "source": [
      "**5** Now demonstrate that the *expected value* of $E\\left[\\lim_{T->\\infty}S_{xx}(f,T)\\right]$ approaches $S_{xx}(f)$ by *averaging* a number of your moderate lengthed spectral estimates together.  Comment on the form of the spectrum relative to how you made the timeseries.\n",
      "\n",
      "Hints:\n",
      "  \n",
      "  - Just do what you did above, but average the results of `navg` non-overlapping segments of data.  \n",
      "  - This gets computationally expensive, I did `navg` of `1, 5, 50, 200` and got nice results.  Test you code on just `navg` of `1` and `5`, and when its working add the higher numbers."
     ]
    },
    {
     "cell_type": "code",
     "collapsed": false,
     "input": [
      "# CODE HERE"
     ],
     "language": "python",
     "metadata": {},
     "outputs": [],
     "prompt_number": 4
    },
    {
     "cell_type": "markdown",
     "metadata": {},
     "source": [
      "COMMENT HERE"
     ]
    },
    {
     "cell_type": "code",
     "collapsed": false,
     "input": [],
     "language": "python",
     "metadata": {},
     "outputs": []
    }
   ],
   "metadata": {}
  }
 ]
}