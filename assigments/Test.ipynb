{
 "metadata": {
  "name": "",
  "signature": "sha256:056334f598dd096fb9f69fba45b237d076c8f238b36f6355e26420a6601ff436"
 },
 "nbformat": 3,
 "nbformat_minor": 0,
 "worksheets": [
  {
   "cells": [
    {
     "cell_type": "markdown",
     "metadata": {},
     "source": [
      "\\begin{equation}\n",
      "    x^2 = \\int_0^3 y^4\\ \\mathrm{d}x\n",
      "\\end{equation}"
     ]
    },
    {
     "cell_type": "markdown",
     "metadata": {},
     "source": [
      "Test"
     ]
    },
    {
     "cell_type": "code",
     "collapsed": false,
     "input": [
      "a=[8.8,\n",
      "9.2,\n",
      "8.1,\n",
      "3.2,\n",
      "8.5,\n",
      "9.7,\n",
      "8.2,\n",
      "8.9,\n",
      "8.5,\n",
      "8.8,\n",
      "7.3,\n",
      "8.6,\n",
      "8.9,\n",
      "9.8,\n",
      "7.5,\n",
      "9.9,\n",
      "8.1]\n",
      "hist(a,arange(0,11))"
     ],
     "language": "python",
     "metadata": {},
     "outputs": [
      {
       "metadata": {},
       "output_type": "pyout",
       "prompt_number": 5,
       "text": [
        "(array([  0.,   0.,   0.,   1.,   0.,   0.,   0.,   2.,  10.,   4.]),\n",
        " array([ 0,  1,  2,  3,  4,  5,  6,  7,  8,  9, 10]),\n",
        " <a list of 10 Patch objects>)"
       ]
      },
      {
       "metadata": {},
       "output_type": "display_data",
       "png": "[encoded data removed]",
       "text": [
        "<matplotlib.figure.Figure at 0x109192190>"
       ]
      }
     ],
     "prompt_number": 5
    },
    {
     "cell_type": "code",
     "collapsed": false,
     "input": [],
     "language": "python",
     "metadata": {},
     "outputs": []
    }
   ],
   "metadata": {}
  }
 ]
}