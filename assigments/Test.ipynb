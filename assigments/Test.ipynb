{
 "metadata": {
  "name": "",
  "signature": "sha256:c88f47dd1306f0510abb38dae22668b95994fdc8595d4b5bc6b78a298da86a5e"
 },
 "nbformat": 3,
 "nbformat_minor": 0,
 "worksheets": [
  {
   "cells": [
    {
     "cell_type": "markdown",
     "metadata": {},
     "source": [
      "\\begin{equation}\n",
      "    x^2 = \\int_0^3 y^4\\ \\mathrm{d}x\n",
      "\\end{equation}"
     ]
    },
    {
     "cell_type": "markdown",
     "metadata": {},
     "source": [
      "Test"
     ]
    },
    {
     "cell_type": "code",
     "collapsed": false,
     "input": [],
     "language": "python",
     "metadata": {},
     "outputs": []
    }
   ],
   "metadata": {}
  }
 ]
}