{
 "cells": [
  {
   "cell_type": "markdown",
   "metadata": {
    "nbgrader": {
     "grade": false,
     "grade_id": "Header",
     "locked": true,
     "solution": false
    }
   },
   "source": [
    "<figure>\n",
    "<IMG SRC=\"../../lectures/images/PhysicsLogo.jpg\" WIDTH=100 ALIGN=\"right\">\n",
    "</figure>\n",
    "# [Physics 411](http://jklymak.github.io/Phy411/) Time Series Analysis\n",
    "*Jody Klymak*\n"
   ]
  },
  {
   "cell_type": "markdown",
   "metadata": {
    "nbgrader": {
     "grade": false,
     "grade_id": "Ass2",
     "locked": true,
     "solution": false
    }
   },
   "source": [
    "# Assignment 2"
   ]
  },
  {
   "cell_type": "markdown",
   "metadata": {
    "nbgrader": {
     "grade": false,
     "grade_id": "q1",
     "locked": true,
     "solution": false
    }
   },
   "source": [
    "## Q1: Show that the correlation co-efficient is indeed related to the fraction of varaince explained by a linear dependence."
   ]
  },
  {
   "cell_type": "markdown",
   "metadata": {
    "nbgrader": {
     "grade": false,
     "grade_id": "q1_1",
     "locked": true,
     "solution": false
    }
   },
   "source": [
    "**1** To start, make a $N(0,1)$ random variable $x$, with 200,000 entries.  Then make a linearly dependent variable $y_i= a x_i + n_i$, where a is some amplitude, and $n_i$ is a random noise varaible.  Assume that $n_i$ is distributed as $N(0,n)$, where $n$ is the noise level.\n",
    "\n",
    "Calculate the correlation co-efficient $r_{xy}$ between $x$ and $y$ for 40 different values of $n$, logarithmically spaced between 0.01 and 100. (hint use `np.logspace`).  \n",
    "\n",
    "Plot $r_{xy}$ versus the inverse of the noise $n$ normalized by the standard devaition of the signal $ax_i$: $\\frac{a s_x}{n}$   You may want to use `ax.loglog` to visualize the orders of magnitude.  \n",
    "\n",
    "Comment on the resulting comparison.\n",
    "\n",
    "#### Coding hint:\n",
    "\n",
    "You are going to need to generate 40 realizations of the random process, so do this in a `for`-loop, and save the results in an array that you initialize before the for-loop:\n",
    "```python\n",
    "r = np.zeros(40)\n",
    "for ind,n in enumerate(noisevalues):\n",
    "  # make your random variable\n",
    "  ...\n",
    "  # calculate r\n",
    "  r[ind]=...\n",
    "```\n",
    "<hr>"
   ]
  },
  {
   "cell_type": "code",
   "execution_count": 10,
   "metadata": {
    "collapsed": true,
    "nbgrader": {
     "grade": false,
     "grade_id": "q1_1b",
     "locked": true,
     "solution": false
    }
   },
   "outputs": [],
   "source": [
    "import numpy as np\n",
    "import matplotlib.pyplot as plt\n",
    "%matplotlib inline"
   ]
  },
  {
   "cell_type": "code",
   "execution_count": 11,
   "metadata": {
    "collapsed": false,
    "nbgrader": {
     "grade": true,
     "grade_id": "a1_1",
     "locked": false,
     "points": 2,
     "solution": true
    }
   },
   "outputs": [
    {
     "data": {
      "text/plain": [
       "<matplotlib.text.Text at 0x10bd7f250>"
      ]
     },
     "execution_count": 11,
     "metadata": {},
     "output_type": "execute_result"
    },
    {
     "data": {
      "image/png": "[encoded data removed]",
      "text/plain": [
       "<matplotlib.figure.Figure at 0x103fc8b10>"
      ]
     },
     "metadata": {},
     "output_type": "display_data"
    }
   ],
   "source": [
    "Ndat=200000\n",
    "a=1.\n",
    "x = np.random.randn(Ndat)\n",
    "\n",
    "ns=np.logspace(-2,2,40)\n",
    "r = np.zeros(40)\n",
    "for ind,n in enumerate(ns):\n",
    "    ni = n*np.random.randn(Ndat)\n",
    "    y = a*x+ni\n",
    "    \n",
    "    xx = x-np.mean(x)\n",
    "    yy = y-np.mean(y)\n",
    "    r[ind] = sum(xx*yy)/np.std(x)/np.std(y)/(Ndat-1)\n",
    " \n",
    "fig,ax=plt.subplots(1,1)\n",
    "ax.loglog(1./(ns/a/np.std(x)),1./(ns/a/np.std(x)),'k--',label='$a s_x / n$');\n",
    "ax.loglog(1./(ns/a/np.std(x)),r,label='r_{xy}') \n",
    "ax.legend(loc=2)\n",
    "ax.set_xlabel('$a s_x/n$')  \n",
    "ax.set_ylabel('$r_{xy}$')  \n",
    "ax.set_title('a=%1.2f'%a)\n",
    "    "
   ]
  },
  {
   "cell_type": "markdown",
   "metadata": {
    "nbgrader": {
     "grade": true,
     "grade_id": "a1_1b",
     "locked": false,
     "points": 1,
     "solution": true
    }
   },
   "source": [
    "So, as the signal comes out of the noise the correlation between $x(t)$ and $y(t)$ reaches 1.  "
   ]
  },
  {
   "cell_type": "markdown",
   "metadata": {
    "nbgrader": {
     "grade": false,
     "grade_id": "q1_2",
     "locked": true,
     "solution": false
    }
   },
   "source": [
    "**2** Repeat the above, but with a different value of $a$.  Comment on how (and why) $a$ changes the value of $r_{xy}$.  "
   ]
  },
  {
   "cell_type": "code",
   "execution_count": 12,
   "metadata": {
    "collapsed": false,
    "nbgrader": {
     "grade": true,
     "grade_id": "a1_2",
     "locked": false,
     "points": 1,
     "solution": true
    }
   },
   "outputs": [
    {
     "data": {
      "text/plain": [
       "<matplotlib.text.Text at 0x10bc03090>"
      ]
     },
     "execution_count": 12,
     "metadata": {},
     "output_type": "execute_result"
    },
    {
     "data": {
      "image/png": "[encoded data removed]",
      "text/plain": [
       "<matplotlib.figure.Figure at 0x10ae54cd0>"
      ]
     },
     "metadata": {},
     "output_type": "display_data"
    }
   ],
   "source": [
    "import numpy as np\n",
    "import matplotlib.pyplot as plt\n",
    "Ndat=200000\n",
    "a=10.\n",
    "x = np.random.randn(Ndat)\n",
    "\n",
    "ns=np.logspace(-2,2,40)\n",
    "r = np.zeros(40)\n",
    "for ind,n in enumerate(ns):\n",
    "    ni = n*np.random.randn(Ndat)\n",
    "    y = a*x+ni\n",
    "    \n",
    "    xx = x-np.mean(x)\n",
    "    yy = y-np.mean(y)\n",
    "    r[ind] = sum(xx*yy)/np.std(x)/np.std(y)/(Ndat-1)\n",
    " \n",
    "fig,ax=plt.subplots(1,1)\n",
    "ax.loglog(1./(ns/a/np.std(x)),1./(ns/a/np.std(x)),'k--',label='$a s_x / n$');\n",
    "ax.loglog(1./(ns/a/np.std(x)),r,label='r_{xy}') \n",
    "ax.legend(loc=2)\n",
    "ax.set_xlabel('$a s_x/n$')  \n",
    "ax.set_ylabel('$r_{xy}$')  \n",
    "ax.set_title('a=%1.2f'%a)"
   ]
  },
  {
   "cell_type": "markdown",
   "metadata": {
    "nbgrader": {
     "grade": true,
     "grade_id": "a1_2b",
     "locked": false,
     "points": 1,
     "solution": true
    }
   },
   "source": [
    "Because the amplitude of the signal is higher, it comes out of the noise sooner.."
   ]
  },
  {
   "cell_type": "markdown",
   "metadata": {
    "nbgrader": {
     "grade": false,
     "grade_id": "q2",
     "locked": true,
     "solution": false
    }
   },
   "source": [
    "## Q2: Monte Carlo on slopes and test versus student-t distribution"
   ]
  },
  {
   "cell_type": "markdown",
   "metadata": {
    "nbgrader": {
     "grade": false,
     "grade_id": "q2_1",
     "locked": true,
     "solution": false
    }
   },
   "source": [
    "**1** We stated without proof that the slope $b$ of a linear fit of $y$ to $x$ is distributed as a student-t distribution with $N-2$ degrees of freedom, with a standard devaition given by the standard deviation of $y$ around the fit model $\\tilde{y}$.   Lets test that emperically using a Monte Carlo technique.  \n",
    "\n",
    "First create an independet variable $x$ from 10 points from an $N(0,1)$ distribution.\n",
    "\n",
    "Next, using $n=1.0$, and $a=1.0$ create the dependent variables $y_i=a x_i + n_i$ where $n_i$ are drawn from the $N(0,n)$ distribution.  Calculate the slope $b$.  \n",
    "\n",
    "Do this 10000 times, and make a histogram of the resulting fits $b$.  Also histogram $s_{y|x}$ as defined in the notes.\n",
    "\n",
    "Comment on the histigrams\n",
    "\n",
    "<hr>"
   ]
  },
  {
   "cell_type": "code",
   "execution_count": 15,
   "metadata": {
    "collapsed": false,
    "nbgrader": {
     "grade": true,
     "grade_id": "a2_1",
     "locked": false,
     "points": 1,
     "solution": true
    }
   },
   "outputs": [
    {
     "data": {
      "text/plain": [
       "<matplotlib.text.Text at 0x10b810490>"
      ]
     },
     "execution_count": 15,
     "metadata": {},
     "output_type": "execute_result"
    },
    {
     "data": {
      "image/png": "[encoded data removed]",
      "text/plain": [
       "<matplotlib.figure.Figure at 0x1043dd090>"
      ]
     },
     "metadata": {},
     "output_type": "display_data"
    }
   ],
   "source": [
    "Ndat=30\n",
    "a=1.\n",
    "n=1.\n",
    "x = np.random.randn(Ndat)\n",
    "x=x-np.mean(x)\n",
    "\n",
    "NMonte = 10000\n",
    "b= np.zeros(NMonte)\n",
    "syx=np.zeros(NMonte)\n",
    "for ind in range(NMonte):\n",
    "    ni = np.random.randn(Ndat)*n\n",
    "    y = a*x+ni\n",
    "    yy = y-np.mean(y)\n",
    "    b[ind] = np.sum(yy*x)/np.sum(x*x)\n",
    "    # get the s_{y|x}\n",
    "    syx[ind]=np.sqrt(np.sum((y-b[ind]*x)**2)/(Ndat-2))\n",
    "fig,ax=plt.subplots(2,1,figsize=(6,8))\n",
    "nn,xbins,pp=ax[0].hist(b,40,normed=True);\n",
    "ax[0].set_xlabel('b')\n",
    "ax[0].set_ylabel('PDF')\n",
    "\n",
    "ax[1].hist(syx,40,normed=True);\n",
    "ax[1].set_xlabel('$s_{y|x}$')\n",
    "ax[1].set_ylabel('PDF')\n",
    "\n"
   ]
  },
  {
   "cell_type": "markdown",
   "metadata": {
    "nbgrader": {
     "grade": true,
     "grade_id": "a2_1b",
     "locked": false,
     "points": 1,
     "solution": true
    }
   },
   "source": [
    "There is relatively large spread in the slope fits for this small amount of data, with a rough standard deviation of about 20%.  "
   ]
  },
  {
   "cell_type": "markdown",
   "metadata": {
    "nbgrader": {
     "grade": false,
     "grade_id": "q2_2",
     "locked": true,
     "solution": false
    }
   },
   "source": [
    "**2** Assuming $s_{y|x}=1.$ (which is the same as our value of $n$), plot the student-t probability density function on the histogram of b and show that they compare favorably (if they don't you might need to check your work!)\n",
    "\n",
    "<hr>"
   ]
  },
  {
   "cell_type": "code",
   "execution_count": 21,
   "metadata": {
    "collapsed": false,
    "nbgrader": {
     "grade": true,
     "grade_id": "a2_2",
     "locked": false,
     "points": 1,
     "solution": true
    }
   },
   "outputs": [
    {
     "data": {
      "text/plain": [
       "[<matplotlib.lines.Line2D at 0x10fb52e90>]"
      ]
     },
     "execution_count": 21,
     "metadata": {},
     "output_type": "execute_result"
    },
    {
     "data": {
      "image/png": "[encoded data removed]",
      "text/plain": [
       "<matplotlib.figure.Figure at 0x10f8f6850>"
      ]
     },
     "metadata": {},
     "output_type": "display_data"
    }
   ],
   "source": [
    "fig,ax=plt.subplots(2,1,figsize=(6,8))\n",
    "nn,xbins,pp=ax[0].hist(b,40,normed=True);\n",
    "ax[0].set_xlabel('b')\n",
    "ax[0].set_ylabel('PDF')\n",
    "\n",
    "ax[1].hist(syx,40,normed=True);\n",
    "ax[1].set_xlabel('$s_{y|x}$')\n",
    "ax[1].set_ylabel('PDF')\n",
    "\n",
    "import scipy.stats as stats\n",
    "p=stats.t.pdf(xbins,df=Ndat-2,loc=1.,scale=1./np.sqrt(sum(x**2)))\n",
    "\n",
    "ax[0].plot(xbins,p,'r')\n"
   ]
  },
  {
   "cell_type": "markdown",
   "metadata": {
    "nbgrader": {
     "grade": false,
     "grade_id": "q2_3",
     "locked": true,
     "solution": false
    }
   },
   "source": [
    "**3** Do the same procedure for a different number of data points, and a different value for the noise level $n$.  Remember to scale your theoretical histogram by the new expected value of $s_{y|x}$."
   ]
  },
  {
   "cell_type": "code",
   "execution_count": 23,
   "metadata": {
    "collapsed": false,
    "nbgrader": {
     "grade": true,
     "grade_id": "a2_3",
     "locked": false,
     "points": 1,
     "solution": true
    }
   },
   "outputs": [
    {
     "data": {
      "text/plain": [
       "<matplotlib.text.Text at 0x10f96b4d0>"
      ]
     },
     "execution_count": 23,
     "metadata": {},
     "output_type": "execute_result"
    },
    {
     "data": {
      "image/png": "[encoded data removed]",
      "text/plain": [
       "<matplotlib.figure.Figure at 0x10cf9cdd0>"
      ]
     },
     "metadata": {},
     "output_type": "display_data"
    }
   ],
   "source": [
    "Ndat=100\n",
    "a=1.\n",
    "n=3.\n",
    "x = np.random.randn(Ndat)\n",
    "x=x-np.mean(x)\n",
    "\n",
    "NMonte = 10000\n",
    "b= np.zeros(NMonte)\n",
    "syx=np.zeros(NMonte)\n",
    "for ind in range(NMonte):\n",
    "    ni = np.random.randn(Ndat)*n\n",
    "    y = a*x+ni\n",
    "    yy = y-np.mean(y)\n",
    "    b[ind] = np.sum(yy*x)/np.sum(x*x)\n",
    "    # get the s_{y|x}\n",
    "    syx[ind]=np.sqrt(np.sum((y-b[ind]*x)**2)/(Ndat-2))\n",
    "fig,ax=plt.subplots(2,1,figsize=(6,8))\n",
    "nn,xbins,pp=ax[0].hist(b,40,normed=True);\n",
    "ax[0].set_xlabel('b')\n",
    "ax[0].set_ylabel('PDF')\n",
    "\n",
    "ax[1].hist(syx,40,normed=True);\n",
    "ax[1].set_xlabel('$s_{y|x}$')\n",
    "ax[1].set_ylabel('PDF')\n",
    "\n",
    "p=stats.t.pdf(xbins,df=Ndat-2,loc=1.,scale=np.mean(syx)/np.sqrt(sum(x**2)))\n",
    "\n",
    "ax[0].plot(xbins,p,'r')\n",
    "ax[0].set_title('n=3. and Ndat=100')\n"
   ]
  },
  {
   "cell_type": "markdown",
   "metadata": {
    "nbgrader": {
     "grade": false,
     "grade_id": "q3",
     "locked": true,
     "solution": false
    }
   },
   "source": [
    "## Q3: Linear comparison of Deep Cove data to James Bay temperature data"
   ]
  },
  {
   "cell_type": "markdown",
   "metadata": {
    "nbgrader": {
     "grade": false,
     "grade_id": "q3prol",
     "locked": true,
     "solution": false
    }
   },
   "source": [
    "Data was collected from a number of weather stations by the Victoria Weather Network.  In the file below is hourly temperature data (in degrees Celsius) and we will consider two of the stations in that file:"
   ]
  },
  {
   "cell_type": "code",
   "execution_count": 45,
   "metadata": {
    "collapsed": false,
    "nbgrader": {
     "grade": false,
     "grade_id": "q3a",
     "locked": true,
     "solution": false
    }
   },
   "outputs": [],
   "source": [
    "# Load the data:\n",
    "\n",
    "hourdata=np.genfromtxt('http://web.uvic.ca/~jklymak/Phy411/Data/AllHourly.txt')[[6,28],2:]\n",
    "dc = hourdata[0,:]\n",
    "jb=hourdata[1,:]\n",
    "dcc=dc[np.isfinite(dc+jb)]\n",
    "jb = jb[np.isfinite(dc+jb)]\n",
    "dc=dcc"
   ]
  },
  {
   "cell_type": "markdown",
   "metadata": {
    "nbgrader": {
     "grade": false,
     "grade_id": "q3_1",
     "locked": true,
     "solution": false
    }
   },
   "source": [
    "**1** Make a scatterplot of James Bay versus Deep Cove."
   ]
  },
  {
   "cell_type": "code",
   "execution_count": 39,
   "metadata": {
    "collapsed": false,
    "nbgrader": {
     "grade": true,
     "grade_id": "a3_1",
     "locked": false,
     "points": 1,
     "solution": true
    }
   },
   "outputs": [
    {
     "data": {
      "text/plain": [
       "<matplotlib.text.Text at 0x106378b50>"
      ]
     },
     "execution_count": 39,
     "metadata": {},
     "output_type": "execute_result"
    },
    {
     "data": {
      "image/png": "[encoded data removed]",
      "text/plain": [
       "<matplotlib.figure.Figure at 0x1109071d0>"
      ]
     },
     "metadata": {},
     "output_type": "display_data"
    }
   ],
   "source": [
    "fig,ax=plt.subplots(1,1)\n",
    "ax.plot(dc,jb,'.',markersize=2)\n",
    "ax.set_xlabel('Deep Cove $[^oC]$');ax.set_ylabel('James Bay $[^oC]$')\n"
   ]
  },
  {
   "cell_type": "markdown",
   "metadata": {
    "nbgrader": {
     "grade": false,
     "grade_id": "q3_2",
     "locked": true,
     "solution": false
    }
   },
   "source": [
    "**2** Compute the linear Correlation Co-efficient (without a canned routine)"
   ]
  },
  {
   "cell_type": "code",
   "execution_count": 40,
   "metadata": {
    "collapsed": false,
    "nbgrader": {
     "grade": true,
     "grade_id": "a3_2",
     "locked": false,
     "points": 1,
     "solution": true
    }
   },
   "outputs": [
    {
     "name": "stdout",
     "output_type": "stream",
     "text": [
      "22702\n",
      "0.965414194534\n"
     ]
    }
   ],
   "source": [
    "N=len(jb)\n",
    "print(N)\n",
    "x=dc\n",
    "y=jb\n",
    "rxy = (1./(N-1.))*np.sum((x-np.mean(x))*(y-np.mean(y)))/np.std(x)/np.std(y)\n",
    "print(rxy)"
   ]
  },
  {
   "cell_type": "markdown",
   "metadata": {
    "nbgrader": {
     "grade": false,
     "grade_id": "q3_3",
     "locked": true,
     "solution": false
    }
   },
   "source": [
    "**3** Fit a straight line to the James Bay data as a fucntion of the Deep Cove data, and add to the scatter plot made above.  Comment on the fit.\n",
    "\n",
    "<hr>"
   ]
  },
  {
   "cell_type": "code",
   "execution_count": 41,
   "metadata": {
    "collapsed": false,
    "nbgrader": {
     "grade": true,
     "grade_id": "a3_3",
     "locked": false,
     "points": 1,
     "solution": true
    }
   },
   "outputs": [
    {
     "data": {
      "text/plain": [
       "<matplotlib.legend.Legend at 0x1106e1b50>"
      ]
     },
     "execution_count": 41,
     "metadata": {},
     "output_type": "execute_result"
    },
    {
     "data": {
      "image/png": "[encoded data removed]",
      "text/plain": [
       "<matplotlib.figure.Figure at 0x1148ffe10>"
      ]
     },
     "metadata": {},
     "output_type": "display_data"
    }
   ],
   "source": [
    "xm = np.nanmean(dc)\n",
    "x = dc-xm\n",
    "ym=np.nanmean(jb)\n",
    "y = jb-ym\n",
    "\n",
    "b = np.nansum(x*y)-N*np.nanmean(x)*np.nanmean(y)\n",
    "b = b/(np.nansum(x**2)-N*np.nanmean(x)**2)\n",
    "\n",
    "fig,ax=plt.subplots(1,1)\n",
    "ax.plot(dc,jb,'.',markersize=2)\n",
    "ax.set_xlabel('Deep Cove $[^oC]$');ax.set_ylabel('James Bay $[^oC]$')\n",
    "\n",
    "\n",
    "ax.plot(x+xm,x*b+ym,'r',label='Fit b=%1.3f'%b)\n",
    "ax.plot(x+xm,x+xm,'k--',alpha=0.5)\n",
    "ax.legend(loc=2)"
   ]
  },
  {
   "cell_type": "markdown",
   "metadata": {
    "nbgrader": {
     "grade": true,
     "grade_id": "a3_3b",
     "locked": false,
     "points": 1,
     "solution": true
    }
   },
   "source": [
    "The fit passes through the data quite well, however there are clear and systematic regions where the two stations are not the same.  It is somewhat surprising that the degree of correlation is 0.96.  "
   ]
  },
  {
   "cell_type": "markdown",
   "metadata": {
    "nbgrader": {
     "grade": false,
     "grade_id": "q3_4",
     "locked": true,
     "solution": false
    }
   },
   "source": [
    "**4** Add the confidence intervals to your fit, and comment."
   ]
  },
  {
   "cell_type": "code",
   "execution_count": 42,
   "metadata": {
    "collapsed": false,
    "nbgrader": {
     "grade": true,
     "grade_id": "a3_4a",
     "locked": false,
     "points": 1,
     "solution": true
    }
   },
   "outputs": [
    {
     "name": "stdout",
     "output_type": "stream",
     "text": [
      "1.22369726043\n",
      "b=0.7565 +/- (0.7538,0.7591)\n"
     ]
    },
    {
     "data": {
      "image/png": "[encoded data removed]",
      "text/plain": [
       "<matplotlib.figure.Figure at 0x110439f90>"
      ]
     },
     "metadata": {},
     "output_type": "display_data"
    }
   ],
   "source": [
    "yhat = b*x\n",
    "syx=np.nansum((y-yhat)**2)/(N-2)\n",
    "syx=np.sqrt(syx)\n",
    "print syx\n",
    "import scipy.stats as stats\n",
    "\n",
    "fig,ax=plt.subplots(1,1)\n",
    "ax.plot(dc,jb,'.',markersize=2)\n",
    "ax.set_xlabel('Deep Cove $[^oC]$');ax.set_ylabel('James Bay $[^oC]$')\n",
    "\n",
    "intb=np.array(stats.t.interval(0.95,df=N-2))*syx/np.sqrt(np.nansum(x**2))\n",
    "lowb = b+intb[0]\n",
    "highb = b+intb[1]\n",
    "ax.fill_between(x+xm,x*lowb+ym,x*highb+ym)\n",
    "\n",
    "\n",
    "print 'b=%1.4f +/- (%1.4f,%1.4f)'%(b,lowb,highb)\n"
   ]
  },
  {
   "cell_type": "markdown",
   "metadata": {
    "nbgrader": {
     "grade": true,
     "grade_id": "a3_4b",
     "locked": false,
     "points": 1,
     "solution": true
    }
   },
   "source": [
    "The error in the fit is extremely small simply because there is so much data it is vanishingly unlikely that more data would change the fit (if the statistics of the underlying data don't change).  "
   ]
  },
  {
   "cell_type": "markdown",
   "metadata": {
    "nbgrader": {
     "grade": false,
     "grade_id": "q3_5",
     "locked": true,
     "solution": false
    }
   },
   "source": [
    "**5** Note that we have assumed that the Deep Cove data is independent and that the James Bay data is dependent.  There is no reason to assume this!  Do the fit in the other direction, and compare the slopes."
   ]
  },
  {
   "cell_type": "code",
   "execution_count": 43,
   "metadata": {
    "collapsed": false,
    "nbgrader": {
     "grade": true,
     "grade_id": "a3_5a",
     "locked": false,
     "points": 1,
     "solution": true
    }
   },
   "outputs": [
    {
     "name": "stdout",
     "output_type": "stream",
     "text": [
      "0.811691939535\n"
     ]
    },
    {
     "data": {
      "text/plain": [
       "<matplotlib.legend.Legend at 0x1114473d0>"
      ]
     },
     "execution_count": 43,
     "metadata": {},
     "output_type": "execute_result"
    },
    {
     "data": {
      "image/png": "[encoded data removed]",
      "text/plain": [
       "<matplotlib.figure.Figure at 0x10f946bd0>"
      ]
     },
     "metadata": {},
     "output_type": "display_data"
    }
   ],
   "source": [
    "b = np.nansum(x*y)-N*np.nanmean(x)*np.nanmean(y)\n",
    "b = b/(np.nansum(y**2)-N*np.nanmean(y)**2)\n",
    "print 1./b\n",
    "\n",
    "#Here x=xm+b*(y-ym)\n",
    "fig,ax=plt.subplots(1,1)\n",
    "ax.plot(dc,jb,'.',markersize=2)\n",
    "ax.set_xlabel('Deep Cove $[^oC]$');ax.set_ylabel('James Bay $[^oC]$')\n",
    "\n",
    "ax.plot(y*b+xm,y+ym,'g',label='Fit w/ JB as independent')\n",
    "ax.legend(loc=2)\n"
   ]
  },
  {
   "cell_type": "markdown",
   "metadata": {
    "nbgrader": {
     "grade": true,
     "grade_id": "a3_5b",
     "locked": false,
     "points": 1,
     "solution": true
    }
   },
   "source": [
    "Note however that the slope fit by assuming James Bay is independent is not the same as the slope assuming Deep Cove is independent.  So, despite having very accurate fits, the assumptions of the linear model are not reciprocal, and we should always be careful when fitting models that we check our assumptions.  (This particular inconsistency shows up a *lot* in the literature, where the paper chooses one variable to be independent, and does a linear fit, despite there being no reason to think that variable is the truly independent variable)."
   ]
  },
  {
   "cell_type": "markdown",
   "metadata": {
    "nbgrader": {
     "grade": false,
     "grade_id": "q3epilogue",
     "locked": true,
     "solution": false
    }
   },
   "source": [
    "**NOTE** There is a way to treat both axes independently called \"Neutral Regression\".  It is relatively simple, and involves normalizing the total distance of each point from the trend line. <a href=\"http://journals.ametsoc.org/doi/pdf/10.1175/1520-0426(1999)016%3C0876%3AAPFANR%3E2.0.CO%3B2\">(Marsden 1999)</a>. This technique is strongly preferred if there is no reason to think that one data set is dependent on the other.  A caveat is that the data sets shoudl be normalized before fitting so that the \"distance\" has meaning.  "
   ]
  }
 ],
 "metadata": {
  "celltoolbar": "Create Assignment",
  "kernelspec": {
   "display_name": "Python 2",
   "language": "python",
   "name": "python2"
  },
  "language_info": {
   "codemirror_mode": {
    "name": "ipython",
    "version": 2
   },
   "file_extension": ".py",
   "mimetype": "text/x-python",
   "name": "python",
   "nbconvert_exporter": "python",
   "pygments_lexer": "ipython2",
   "version": "2.7.10"
  }
 },
 "nbformat": 4,
 "nbformat_minor": 0
}
