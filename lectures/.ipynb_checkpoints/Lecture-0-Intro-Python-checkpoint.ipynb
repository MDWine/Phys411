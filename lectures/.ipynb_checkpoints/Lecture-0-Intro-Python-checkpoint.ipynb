{
 "metadata": {
  "name": "",
  "signature": "sha256:15dc81f4f1c05e259e83186116328ec64ec89486653bfb3b0c919bb693bbccae"
 },
 "nbformat": 3,
 "nbformat_minor": 0,
 "worksheets": [
  {
   "cells": [
    {
     "cell_type": "heading",
     "level": 1,
     "metadata": {},
     "source": [
      "Lecture 0: Introduction and Computing"
     ]
    },
    {
     "cell_type": "markdown",
     "metadata": {},
     "source": [
      "Hello this is the "
     ]
    },
    {
     "cell_type": "code",
     "collapsed": false,
     "input": [],
     "language": "python",
     "metadata": {},
     "outputs": []
    }
   ],
   "metadata": {}
  }
 ]
}