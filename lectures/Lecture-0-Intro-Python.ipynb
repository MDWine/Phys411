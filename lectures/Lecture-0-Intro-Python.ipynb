{
 "metadata": {
  "name": "",
  "signature": "sha256:319c74a344d16b75799e803326ea84cc3cf72b68c0f6ac3a771f8c5a77c26a85"
 },
 "nbformat": 3,
 "nbformat_minor": 0,
 "worksheets": [
  {
   "cells": [
    {
     "cell_type": "heading",
     "level": 1,
     "metadata": {},
     "source": [
      "Lecture: Intro to computing"
     ]
    },
    {
     "cell_type": "markdown",
     "metadata": {},
     "source": [
      "This is some stuff"
     ]
    },
    {
     "cell_type": "code",
     "collapsed": false,
     "input": [],
     "language": "python",
     "metadata": {},
     "outputs": []
    }
   ],
   "metadata": {}
  }
 ]
}