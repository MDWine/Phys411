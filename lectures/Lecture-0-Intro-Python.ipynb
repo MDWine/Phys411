{
 "metadata": {
  "name": "",
  "signature": "sha256:ba701617cdd8f330c50eec2535692564d4605e28e902232381a6adb8332dc4b9"
 },
 "nbformat": 3,
 "nbformat_minor": 0,
 "worksheets": [
  {
   "cells": [
    {
     "cell_type": "heading",
     "level": 1,
     "metadata": {},
     "source": [
      "Lecture 0: Introduction and Computing"
     ]
    },
    {
     "cell_type": "markdown",
     "metadata": {},
     "source": [
      "Hello this is the lecture 0"
     ]
    },
    {
     "cell_type": "code",
     "collapsed": false,
     "input": [],
     "language": "python",
     "metadata": {},
     "outputs": []
    }
   ],
   "metadata": {}
  }
 ]
}