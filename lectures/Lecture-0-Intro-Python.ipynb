{
 "metadata": {
  "name": "",
  "signature": "sha256:3781f1d30f0af43a5259a85289c9f72ab7ee4a5fdb129f18472114d8f9906b41"
 },
 "nbformat": 3,
 "nbformat_minor": 0,
 "worksheets": [
  {
   "cells": [
    {
     "cell_type": "heading",
     "level": 1,
     "metadata": {},
     "source": [
      "Lecture 0: Introduction and Computing"
     ]
    },
    {
     "cell_type": "markdown",
     "metadata": {},
     "source": []
    },
    {
     "cell_type": "code",
     "collapsed": false,
     "input": [],
     "language": "python",
     "metadata": {},
     "outputs": []
    }
   ],
   "metadata": {}
  }
 ]
}