{
 "metadata": {
  "name": "",
  "signature": "sha256:31d15a09b2b219b94d424e9bd56531ba4ddd914a8f0cfa57b37c535a5cf71525"
 },
 "nbformat": 3,
 "nbformat_minor": 0,
 "worksheets": [
  {
   "cells": [
    {
     "cell_type": "heading",
     "level": 1,
     "metadata": {},
     "source": [
      "Lecture 0: Introduction and Computing"
     ]
    },
    {
     "cell_type": "markdown",
     "metadata": {},
     "source": [
      "Hello this is the lecture 0  Ha ha ha"
     ]
    },
    {
     "cell_type": "markdown",
     "metadata": {},
     "source": [
      "Dates:\n",
      "\n",
      "   03,05,\n",
      "09,10,12,\n",
      "16,18,19,\n",
      "23,25,26,\n",
      "30,\n",
      "\n",
      "   01,03,\n",
      "07,08,10,\n",
      "14,15,17,\n",
      "21,22,24,\n",
      "28,29,31,\n",
      "\n",
      "04,05,07,\n",
      "     ,14,\n",
      "18,19,21,\n",
      "25,26,28,\n",
      "\n",
      "02,03"
     ]
    },
    {
     "cell_type": "code",
     "collapsed": false,
     "input": [],
     "language": "python",
     "metadata": {},
     "outputs": []
    }
   ],
   "metadata": {}
  }
 ]
}