{
 "metadata": {
  "name": "",
  "signature": "sha256:0cab263a4292e23c0a0d39a4d8d712d477e8656d91612dfb0c405fa15282ed7f"
 },
 "nbformat": 3,
 "nbformat_minor": 0,
 "worksheets": [
  {
   "cells": [
    {
     "cell_type": "code",
     "collapsed": false,
     "input": [
      "from IPython.core.display import HTML\n",
      "def css_styling():\n",
      "    styles = open(\"../styles/custom.css\", \"r\").read()\n",
      "    return HTML(styles)\n",
      "css_styling()"
     ],
     "language": "python",
     "metadata": {},
     "outputs": [
      {
       "html": [
        "<link href='http://fonts.googleapis.com/css?family=Fenix' rel='stylesheet' type='text/css'>\n",
        "<link href='http://fonts.googleapis.com/css?family=Alegreya+Sans:100,300,400,500,700,800,900,100italic,300italic,400italic,500italic,700italic,800italic,900italic' rel='stylesheet' type='text/css'>\n",
        "<link href='http://fonts.googleapis.com/css?family=Source+Code+Pro:300,400' rel='stylesheet' type='text/css'>\n",
        "<style>\n",
        "    @font-face {\n",
        "        font-family: \"Computer Modern\";\n",
        "        src: url('http://mirrors.ctan.org/fonts/cm-unicode/fonts/otf/cmunss.otf');\n",
        "    }\n",
        "    div.cell{\n",
        "        width:800px;\n",
        "        margin-left:5% !important;\n",
        "        margin-right:auto;\n",
        "    }\n",
        "    h1 {\n",
        "        font-family: 'Alegreya Sans', sans-serif;\n",
        "    }\n",
        "    h2 {\n",
        "        font-family: 'Alegreya Sans', sans-serif;\n",
        "        color:#CD2305;\n",
        "    }\n",
        "    h3{\n",
        "\t\tfont-family: 'Fenix', serif;\n",
        "        margin-top:12px;\n",
        "        margin-bottom: 3px;\n",
        "        color:#CD2305;\n",
        "       }\n",
        "\th4{\n",
        "\t\tfont-family: 'Fenix', serif;\n",
        "        color:#CD2305;\n",
        "       }\n",
        "    h5 {\n",
        "        font-family: 'Alegreya Sans', sans-serif;\n",
        "        color:#CD2305;\n",
        "    }\t   \n",
        "    div.text_cell_render{\n",
        "    /*    font-family: 'Alegreya Sans',Computer Modern, \"Helvetica Neue\", Arial, Helvetica, Geneva, sans-serif; */\n",
        "        font-family: 'Fenix', serif;\n",
        "        line-height: 105%;\n",
        "        font-size: 140%;\n",
        "        width:700px;\n",
        "        margin-left:-10% !important;\n",
        "\n",
        "    }\n",
        "    .CodeMirror{\n",
        "            font-family: 'Bitstream Vera Sans Mono','Lucida Console',monospace;\n",
        "\t\t\tfont-size: 90%;\n",
        "    }\n",
        "/*    .prompt{\n",
        "        display: None;\n",
        "    }*/\n",
        "    .text_cell_render h1 {\n",
        "        font-weight: 200;\n",
        "        font-size: 24pt;\n",
        "\t\tline-height: 100%;\n",
        "        color:#CD2305;\n",
        "        margin-bottom: 0.5em;\n",
        "        margin-top: 0.5em;\n",
        "        display: block;\n",
        "    }\t\n",
        "    .text_cell_render h5 {\n",
        "        font-weight: 300;\n",
        "        font-size: 16pt;\n",
        "        color: #CD2305;\n",
        "        font-style: italic;\n",
        "        margin-bottom: .5em;\n",
        "        margin-top: 0.5em;\n",
        "        display: block;\n",
        "    }\n",
        "    \n",
        "    .warning{\n",
        "        color: rgb( 240, 20, 20 )\n",
        "        }  \n",
        "</style>\n",
        "<script>\n",
        "    MathJax.Hub.Config({\n",
        "                        TeX: {\n",
        "                           extensions: [\"AMSmath.js\"]\n",
        "                           },\n",
        "                tex2jax: {\n",
        "                    inlineMath: [ ['$','$'], [\"\\\\(\",\"\\\\)\"] ],\n",
        "                    displayMath: [ ['$$','$$'], [\"\\\\[\",\"\\\\]\"] ]\n",
        "                },\n",
        "                displayAlign: 'center', // Change this to 'center' to center equations.\n",
        "                \"HTML-CSS\": {\n",
        "                    styles: {'.MathJax_Display': {\"margin\": 4}}\n",
        "                }\n",
        "        });\n",
        "</script>"
       ],
       "metadata": {},
       "output_type": "pyout",
       "prompt_number": 103,
       "text": [
        "<IPython.core.display.HTML at 0x10f9396d0>"
       ]
      }
     ],
     "prompt_number": 103
    },
    {
     "cell_type": "markdown",
     "metadata": {},
     "source": [
      "<figure>\n",
      "<IMG SRC=\"images/PhysicsLogo.jpg\" WIDTH=100 ALIGN=\"right\">\n",
      "</figure>\n",
      "# [Physics 411](http://jklymak.github.io/Phy411/) Time Series Analysis\n",
      "*Jody Klymak*\n"
     ]
    },
    {
     "cell_type": "heading",
     "level": 1,
     "metadata": {},
     "source": [
      "Lecture 1: Statistics of Random Variables"
     ]
    },
    {
     "cell_type": "markdown",
     "metadata": {},
     "source": [
      "  - [What is Timeseries Analysis?](#What-is-Time-Series-Analysis)\n",
      "  - [Computing in this course](#Computing-in-this-course)\n",
      "  - [Introduction to Python](#Introduction-to-Python)"
     ]
    },
    {
     "cell_type": "markdown",
     "metadata": {},
     "source": [
      "Before we delve into time series analysis proper, it helps to review (?) some concepts about the statistics of random variables.  "
     ]
    },
    {
     "cell_type": "heading",
     "level": 2,
     "metadata": {},
     "source": [
      "Random Variable Definitions "
     ]
    },
    {
     "cell_type": "markdown",
     "metadata": {},
     "source": [
      "A **[Random Variable](http://en.wikipedia.org/wiki/Random_variable)** is a random outcome of an experiment.  For instance, the results of a dice roll are one realization of a random variable associated with that dice.  If I weigh myself on a scale and take a reading, the result is a random variable associated with my real weight at that point in time, and any randomness of the scale.\n",
      "\n",
      "If we have a series of discrete measurements of the random variable ${x}$, we might index these by $k$, and call each realization $x(k)$.  So the first coin flip would be $x(1)$, the second $x(2)$.  \n",
      "\n",
      "Underlying these realizations of the random variable is a **[Probability Distribution](http://en.wikipedia.org/wiki/Probability_distribution)**.  This is defined as:\n",
      "\n",
      "$$P(x) = \\mathrm{prob} \\left[x(k)\\leq x\\right]$$\n",
      "\n",
      "For a well defined random variable $P(-\\infty)=0$ and $P(+\\infty)=1$, and $0\\leq P(x)\\leq 1$.  Note that $P(x)$ is dimensionless.  \n",
      "\n",
      "As an example, consider the dice roll random variable.  The probability of getting $x(k)\\lt 1$ is zero.  The probabilty of $x\\lt 2$ is $1/6$,  $x\\lt 3$ is $2/6$, etc.  We might plot this as a series of stair steps:\n",
      "\n",
      "<figure><IMG SRC=\"images/DiceCDF.png\" WIDTH=400 ALIGN=\"center\" ALT=\"Hi\"></figure>\n",
      "\n",
      "(note for the code used to make these plots, see [lectures/Notes01](http://nbviewer.ipython.org/github/jklymak/Phy411/blob/master/lectures/Notes01-Python.ipynb).  I'm not including the code to maintain readibility)\n",
      "\n",
      "Closely related to this is the **Probability Density Function** which is just the derivative of the *probability distribution*:\n",
      "\n",
      "$$p(x) = \\displaystyle\\lim_{\\Delta x\\to 0} \\mathrm{prob}\\left[\\frac{x\\lt x(k)\\lt x+\\Delta x}{\\Delta x}\\right] $$\n",
      "\n",
      "Note that $p(x)$ has units of $(\\Delta x)^{-1}$. Also note that it is related to the *probabilty distribution* as:\n",
      "\n",
      "$$ P(x) = \\int_{-\\infty}^x p(x)\\ \\mathrm{d}x.$$\n",
      "\n",
      "Because the result of the dice rolls $x(k)$ are discrete, the *probability density function* for the dice is formally undefined, but it can be represented as the sum of six delta functions centered at $x_0=1,2,3,4,5,6$:\n",
      "\n",
      "$$p(x) = \\frac{1}{6}\\sum_{x_0=1}^6 \\delta (x-x_0)$$"
     ]
    },
    {
     "cell_type": "heading",
     "level": 4,
     "metadata": {},
     "source": [
      "Example: Uniform Distribution: $U[a,b]$"
     ]
    },
    {
     "cell_type": "markdown",
     "metadata": {},
     "source": [
      "The uniform distribution has a *probability density function* that is uniform between $a$ and $b$, and zero elsewhere:\n",
      "\n",
      "$$p(x) = \\frac{1}{b-a}\\ \\  \\mathrm{if}\\ \\   a\\leq x\\leq b $$  \n",
      "\n",
      "The *probability distribution* is just the integral:\n",
      "\n",
      "$$P(x) = \\begin{cases}\n",
      "     0,              & x\\leq a\\\\\n",
      "    \\frac{x-a}{b-a},& \\text{if } a\\leq x\\leq b\\\\\n",
      "     1,              & b\\leq x\\\\\n",
      "   \\end{cases} $$\n",
      "\n",
      "<figure><IMG SRC=\"images/UniformDist.png\" WIDTH=400 ALIGN=\"center\" ALT=\"Hi\"></figure>\n",
      "\n"
     ]
    },
    {
     "cell_type": "heading",
     "level": 2,
     "metadata": {},
     "source": [
      "What questions might we ask about measurements or realizations of random variables?"
     ]
    },
    {
     "cell_type": "markdown",
     "metadata": {},
     "source": [
      "It is often desireable to repeat an experiment a number of times (generate a large set of $x(k)$) in order to determine the underlying statistics of the random variable. There are a number of questions scientists ask about the distribution, and it is helpful to consider a few of them here before we delve into more definitions.\n",
      "\n",
      "<figure>\n",
      "<IMG SRC=\"images/loaded-dice.jpg\" WIDTH=300 ALIGN=\"right\">\n",
      "</figure>\n",
      "\n",
      "Consider the dice as an easy example.  If we didn't know anything about dice, how would we quantify the statistics of the random variable? Or perhaps more relevantly, what would we do to check if this dice agreed with what we think we know about dice?  \n",
      "\n",
      "  1. The simplest thing would be to plot or tabulate the dice rolls and see if each value from 1 to 6 came up the same number of times as we would expect.  This would give a good feel for if the dice was fair.  \n",
      "\n",
      "  2. We might calculate the *mean* of the dice rolls and compare that mean to the *mean* we expect (what mean do you expect?)\n",
      "  \n",
      "  3. We might calculate higher moments like the *variance* (or the *skew*, or the *kurtosis*), and again compare them to the theoretical values we expect.  \n",
      "\n",
      "The *expected* value of the various statistics is something we would like to calculate theoretically, and *estimate* emperically from our data set.  \n",
      "\n",
      "This is all fine, but how do we know we have a fair dice?  What if the dice is biased towards a six by 1\\%?  A very important (and difficult) question is how confident are we that the dice is fair? Or relatedly, how many times would we have to roll the dice in order to assert that it is fair with some degree of confidence?  "
     ]
    },
    {
     "cell_type": "heading",
     "level": 3,
     "metadata": {},
     "source": [
      "Theoretical Statistical definitions"
     ]
    },
    {
     "cell_type": "markdown",
     "metadata": {},
     "source": [
      "If we know the probability density function $p(x)$ then we can calculate a number of statistical quantities from the function.  \n",
      "\n",
      "**Mean**: is defined the expected value of x.  This can be calculated as\n",
      " \n",
      "$$ \\mu_x=E[x(k)]=\\int_{-\\infty}^{\\infty} x\\, p(x)\\ \\mathrm{d}x$$\n",
      "\n",
      "For the dice:\n",
      "\n",
      "$$ \\mu_x = \\sum_{x_0=1}^6 \\frac{1}{6} x_0 = 3.5$$\n",
      "\n",
      "For the uniform distribution:\n",
      "\n",
      "$$ \\mu_x = \\int_a^b x \\frac{1}{b-a}\\ \\mathrm{d}x = \\frac{1}{b-a} \\frac{(b^2-a^2)}{2} =  \\frac{b+a}{2}$$\n",
      "\n",
      "both of which are hopefully what you expected.\n",
      "\n",
      "**Variance** is the expected value of the second momment:\n",
      "\n",
      "$$ \\mathrm{var}(x)=E\\left[(x(k)-\\mu_x)^2\\right]=\\int_{-\\infty}^{\\infty} (x-\\mu_x)^2\\, p(x)\\ \\mathrm{d}x$$\n",
      "\n",
      "For the dice:\n",
      "\n",
      "$$ \\mathrm{var}(x) \\sum_{x_0=1}^6 \\frac{1}{6} (x_0-3.5)^2 = 2.92 $$\n",
      "\n",
      "For the uniform distribution:\n",
      "\n",
      "\n",
      "$$ \\mathrm{var}(x) = \\int_a^b x- \\frac{1}{b-a}\\ \\mathrm{d}x = \\frac{1}{b-a} \\frac{(b^2-a^2)}{2} =  \\frac{b+a}{2}$$\n",
      "???"
     ]
    },
    {
     "cell_type": "code",
     "collapsed": false,
     "input": [
      "sum((arange(1.,6.0001)-3.5)**2)/6."
     ],
     "language": "python",
     "metadata": {},
     "outputs": [
      {
       "metadata": {},
       "output_type": "pyout",
       "prompt_number": 16,
       "text": [
        "2.9166666666666665"
       ]
      }
     ],
     "prompt_number": 16
    },
    {
     "cell_type": "code",
     "collapsed": false,
     "input": [
      "(arange(1.,6.0001)-3.5)**2"
     ],
     "language": "python",
     "metadata": {},
     "outputs": [
      {
       "metadata": {},
       "output_type": "pyout",
       "prompt_number": 17,
       "text": [
        "array([ 6.25,  2.25,  0.25,  0.25,  2.25,  6.25])"
       ]
      }
     ],
     "prompt_number": 17
    },
    {
     "cell_type": "code",
     "collapsed": false,
     "input": [],
     "language": "python",
     "metadata": {},
     "outputs": []
    }
   ],
   "metadata": {}
  }
 ]
}