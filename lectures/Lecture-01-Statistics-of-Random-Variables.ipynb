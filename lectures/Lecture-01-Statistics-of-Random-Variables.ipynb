{
 "cells": [
  {
   "cell_type": "markdown",
   "metadata": {},
   "source": [
    "<figure>\n",
    "<IMG SRC=\"images/PhysicsLogo.jpg\" WIDTH=100 ALIGN=\"right\">\n",
    "</figure>\n",
    "# [Physics 411](http://jklymak.github.io/Phy411/) Time Series Analysis\n",
    "*Jody Klymak*\n"
   ]
  },
  {
   "cell_type": "markdown",
   "metadata": {},
   "source": [
    "# Lecture 1: Statistics of Random Variables"
   ]
  },
  {
   "cell_type": "markdown",
   "metadata": {},
   "source": [
    "Before we delve into time series analysis proper, it helps to review (?) some concepts about the statistics of random variables.  "
   ]
  },
  {
   "cell_type": "markdown",
   "metadata": {},
   "source": [
    "## Random Variable Definitions "
   ]
  },
  {
   "cell_type": "markdown",
   "metadata": {},
   "source": [
    "A **[Random Variable](http://en.wikipedia.org/wiki/Random_variable)** is a random outcome of an experiment.  For instance, the results of a dice roll are one realization of a random variable associated with that dice.  If I weigh myself on a scale and take a reading, the result is a random variable associated with my real weight at that point in time, and any randomness of the scale.\n",
    "\n",
    "If we have a series of discrete measurements of the random variable ${x}$, we might index these by $k$, and call each realization $x(k)$.  So the first coin flip would be $x(1)$, the second $x(2)$.  \n",
    "\n",
    "Underlying these realizations of the random variable is a **[Probability Distribution](http://en.wikipedia.org/wiki/Probability_distribution)**.  This is defined as:\n",
    "\n",
    "$$P(x) = \\mathrm{prob} \\left[x(k)\\leq x\\right]$$\n",
    "\n",
    "For a well defined random variable $P(-\\infty)=0$ and $P(+\\infty)=1$, and $0\\leq P(x)\\leq 1$.  Note that $P(x)$ is dimensionless.  \n",
    "\n",
    "As an example, consider the dice roll random variable.  The probability of getting $x(k)\\lt 1$ is zero.  The probabilty of $x\\lt 2$ is $1/6$,  $x\\lt 3$ is $2/6$, etc.  We might plot this as a series of stair steps:\n",
    "\n",
    "<figure><IMG SRC=\"images/DiceCDF.png\" WIDTH=400 ALIGN=\"center\" ALT=\"Hi\"></figure>\n",
    "\n",
    "(note for the code used to make these plots, see [lectures/Notes01](http://nbviewer.ipython.org/github/jklymak/Phy411/blob/master/lectures/Notes01.ipynb).  I'm not including the code to maintain readibility)\n",
    "\n",
    "Closely related to this is the **Probability Density Function** which is just the derivative of the *probability distribution*:\n",
    "\n",
    "$$p(x) = \\displaystyle\\lim_{\\Delta x\\to 0} \\frac{1}{\\Delta x}\\mathrm{prob}\\left[x\\lt x(k)\\lt x+\\Delta x\\right] $$\n",
    "\n",
    "Note that $p(x)$ has units of $(\\Delta x)^{-1}$. Also note that it is related to the *probabilty distribution* as:\n",
    "\n",
    "$$ P(x) = \\int_{-\\infty}^x p(x)\\ \\mathrm{d}x.$$\n",
    "\n",
    "and over a limited interval:\n",
    "\n",
    "$$ \\mathrm{prob}(a\\leq x \\leq b) = \\int_{a}^b p(x)\\ \\mathrm{d}x.$$\n",
    "\n",
    "\n",
    "Because the result of the dice rolls $x(k)$ are discrete, the *probability density function* for the dice is formally undefined, but it can be represented as the sum of six delta functions centered at $x_0=1,2,3,4,5,6$:\n",
    "\n",
    "$$p(x) = \\frac{1}{6}\\sum_{x_0=1}^6 \\delta (x-x_0)$$"
   ]
  },
  {
   "cell_type": "markdown",
   "metadata": {},
   "source": [
    "### Example: Uniform Distribution: $U[a,b]$"
   ]
  },
  {
   "cell_type": "markdown",
   "metadata": {},
   "source": [
    "The uniform distribution has a *probability density function* that is uniform between $a$ and $b$, and zero elsewhere:\n",
    "\n",
    "$$p(x) = \\frac{1}{b-a}\\ \\  \\mathrm{if}\\ \\   a\\leq x\\leq b $$  \n",
    "\n",
    "The *probability distribution* is just the integral:\n",
    "\n",
    "$$P(x) = \\begin{cases}\n",
    "     0,              & x\\leq a\\\\\n",
    "    \\frac{x-a}{b-a},& \\text{if } a\\leq x\\leq b\\\\\n",
    "     1,              & b\\leq x\\\\\n",
    "   \\end{cases} $$\n",
    "\n",
    "<figure><IMG SRC=\"images/UniformDist.png\" WIDTH=400 ALIGN=\"center\" ALT=\"Hi\"></figure>\n",
    "\n"
   ]
  },
  {
   "cell_type": "markdown",
   "metadata": {},
   "source": [
    "## What questions might we ask about measurements or realizations of random variables?"
   ]
  },
  {
   "cell_type": "markdown",
   "metadata": {},
   "source": [
    "It is often desireable to repeat an experiment a number of times (generate a large set of $x(k)$) in order to determine the underlying statistics of the random variable. There are a number of questions scientists ask about the distribution, and it is helpful to consider a few of them here before we delve into more definitions.\n",
    "\n",
    "<figure>\n",
    "<IMG SRC=\"images/loaded-dice.jpg\" WIDTH=300 ALIGN=\"right\">\n",
    "</figure>\n",
    "\n",
    "Consider the dice as an easy example.  If we didn't know anything about dice, how would we quantify the statistics of the random variable? Or perhaps more relevantly, what would we do to check if this dice agreed with what we think we know about dice?  \n",
    "\n",
    "  1. The simplest thing would be to plot or tabulate the dice rolls and see if each value from 1 to 6 came up the same number of times as we would expect.  This would give a good feel for if the dice was fair.  \n",
    "\n",
    "  2. We might calculate the *mean* of the dice rolls and compare that mean to the *mean* we expect (what mean do you expect?)\n",
    "  \n",
    "  3. We might calculate higher moments like the *variance* (or the *skew*, or the *kurtosis*), and again compare them to the theoretical values we expect.  \n",
    "\n",
    "The *expected* value of the various statistics is something we would like to calculate theoretically, and *estimate* emperically from our data set.  \n",
    "\n",
    "This is all fine, but how do we know we have a fair dice?  What if the dice is biased towards a six by 1%?  A very important (and difficult) question is how confident are we that the dice is fair? Or relatedly, how many times would we have to roll the dice in order to assert that it is fair with some degree of confidence?  "
   ]
  },
  {
   "cell_type": "markdown",
   "metadata": {},
   "source": [
    "### Theoretical Statistical definitions"
   ]
  },
  {
   "cell_type": "markdown",
   "metadata": {},
   "source": [
    "If we know the probability density function $p(x)$ then we can calculate a number of statistical quantities.  \n",
    "\n",
    "**Mean**: is defined the expected value of x.  This can be calculated as\n",
    " \n",
    "$$ \\mu_x=E[x(k)]=\\int_{-\\infty}^{\\infty} x\\, p(x)\\ \\mathrm{d}x$$\n",
    "\n",
    "For the dice:\n",
    "\n",
    "$$ \\mu_x = \\sum_{x_0=1}^6 \\frac{1}{6} x_0 = 3.5$$\n",
    "\n",
    "For the uniform distribution:\n",
    "\n",
    "$$ \\mu_x = \\int_a^b x \\frac{1}{b-a}\\ \\mathrm{d}x = \\frac{1}{b-a} \\frac{(b^2-a^2)}{2} =  \\frac{b+a}{2}$$\n",
    "\n",
    "both of which are hopefully what you expected.\n",
    "\n",
    "**Variance** is the expected value of the second momment:\n",
    "\n",
    "$$ \\mathrm{var}(x)=E\\left[(x(k)-\\mu_x)^2\\right]=\\int_{-\\infty}^{\\infty} (x-\\mu_x)^2\\, p(x)\\ \\mathrm{d}x$$\n",
    "\n",
    "For the dice:\n",
    "\n",
    "$$ \\mathrm{var}(x) \\sum_{x_0=1}^6 \\frac{1}{6} (x_0-3.5)^2 = 2.92 $$\n",
    "\n",
    "For the uniform distribution this gets a little messy, but is more elgant if we assume the distribution is uniform over [-a/2,+a/2].  \n",
    "\n",
    "$$ \\mathrm{var}(x) = \\int_{-a/2}^{a/2} x^2 \\frac{1}{a}\\ \\mathrm{d}x = \\frac{a^2}{12}$$\n",
    "\n",
    "** Skew ** is the expected value of the third momment:\n",
    "\n",
    "$$ \\mathrm{skew}(x)=E\\left[(x(k)-\\mu_x)^3\\right]=\\int_{-\\infty}^{\\infty} (x-\\mu_x)^3\\, p(x)\\ \\mathrm{d}x$$\n",
    "\n",
    "and can represent how assymetrical the distribution is.  It is relatively straight forward to show that both the examples here have $\\mathrm{skew}(x)=0$.\n",
    "\n",
    "** Kurtosis ** is the expected value of the fourth momment:\n",
    "\n",
    "$$ \\mathrm{kurtosis}(x)=E\\left[(x(k)-\\mu_x)^4\\right]=\\int_{-\\infty}^{\\infty} (x-\\mu_x)^4\\, p(x)\\ \\mathrm{d}x$$\n",
    "\n",
    "and represents how \"peaked\" the distribution is, or how long the tails at high and low distances from the mean are.  \n",
    "\n",
    "For the uniform distribution over $[-a/2,+a/2]$:\n",
    "\n",
    "$$ \\mathrm{kurtosis}(x) = \\int_{-a/2}^{a/2} x^4 \\frac{1}{a}\\ \\mathrm{d}x = \\frac{a^4}{80}$$\n",
    "\n",
    "** Median ** \n",
    "\n",
    "This is the value at which the *probability distribution* reaches 1/2, i.e. $\\mathrm{prob}(x\\leq m) = 0.5$, where $m$ is the median.\n",
    "\n",
    "For the uniform distribution, and any symmetrical distribution, the median is the same as the mean.  For the discrete dice distribution the meaning of the median is formally undefined, as it can lie anywhere between 3 and 4.  "
   ]
  },
  {
   "cell_type": "markdown",
   "metadata": {},
   "source": [
    "## Parameter estimation from data populations"
   ]
  },
  {
   "cell_type": "markdown",
   "metadata": {},
   "source": [
    "Lets return to the question of the dice, and if it is \"fair\".  We might roll it a number of times and build a \"population\" of rolls, which we may represent as $\\{x_k\\}$.  For example, we roll it 20 times, and tabulate the results.  Then we roll it 200 times, etc:"
   ]
  },
  {
   "cell_type": "code",
   "execution_count": 78,
   "metadata": {
    "collapsed": false
   },
   "outputs": [
    {
     "name": "stdout",
     "output_type": "stream",
     "text": [
      "Numer of rolls: 20\n",
      "1     2     3     4     5     6     \n",
      "0.250  0.250  0.050  0.200  0.200  0.050  \n",
      "Mean: 3.000\n",
      "Variance: 2.700\n",
      "Skewness: 0.203\n",
      "Kurtosis: -1.395\n",
      "\n",
      "Numer of rolls: 200\n",
      "1     2     3     4     5     6     \n",
      "0.160  0.175  0.135  0.210  0.185  0.135  \n",
      "Mean: 3.490\n",
      "Variance: 2.740\n",
      "Skewness: -0.058\n",
      "Kurtosis: -1.221\n",
      "\n",
      "Numer of rolls: 2000\n",
      "1     2     3     4     5     6     \n",
      "0.158  0.169  0.169  0.173  0.160  0.171  \n",
      "Mean: 3.521\n",
      "Variance: 2.882\n",
      "Skewness: -0.002\n",
      "Kurtosis: -1.250\n",
      "\n",
      "Numer of rolls: 20000\n",
      "1     2     3     4     5     6     \n",
      "0.165  0.166  0.165  0.172  0.165  0.168  \n",
      "Mean: 3.509\n",
      "Variance: 2.906\n",
      "Skewness: -0.006\n",
      "Kurtosis: -1.261\n",
      "\n",
      "Numer of rolls: 2000000\n",
      "1     2     3     4     5     6     \n",
      "0.166  0.167  0.166  0.167  0.167  0.167  \n",
      "Mean: 3.502\n",
      "Variance: 2.918\n",
      "Skewness: -0.001\n",
      "Kurtosis: -1.269\n",
      "\n"
     ]
    }
   ],
   "source": [
    "def getrolls(N,doprint=False,theseed=None):\n",
    "    import numpy as np\n",
    "    import scipy.stats as stats\n",
    "    np.random.seed(seed=theseed) # This just makes the \"random\" result the same everytime \n",
    "                            # I run the code.\n",
    "    xx=np.random.rand(N)*5.999999999+0.99999999 # this will be from 1. to 6.99999999\n",
    "    xx=np.floor(xx) # this will return integers from 1 to 6\n",
    "    if doprint:\n",
    "        st=''\n",
    "        hd=''\n",
    "        for i in range(1,7):\n",
    "            inds = np.where(xx==i)[0]\n",
    "            hd = hd+'%d     '%i\n",
    "            st+='%1.3f  '%(float(len(inds))/float(N))\n",
    "        print 'Numer of rolls: %d' % N\n",
    "        print hd\n",
    "        print st\n",
    "        print 'Mean: %1.3f'%np.mean(xx)\n",
    "        print 'Variance: %1.3f'%np.var(xx)\n",
    "        print 'Skewness: %1.3f'%stats.skew(xx)\n",
    "        print 'Kurtosis: %1.3f'%stats.kurtosis(xx)\n",
    "        print ''\n",
    "    return xx\n",
    "xx=getrolls(20,doprint=True,theseed=789)\n",
    "xx=getrolls(200,doprint=True,theseed=789)\n",
    "xx=getrolls(2000,doprint=True,theseed=789)\n",
    "xx=getrolls(20000,doprint=True,theseed=789)\n",
    "xx=getrolls(2000000,doprint=True,theseed=789)\n"
   ]
  },
  {
   "cell_type": "markdown",
   "metadata": {},
   "source": [
    "Hopefully it is clear that the bigger the sample size the better we are at estimating the parameters of the underlying distribution $\\{x_k\\}$.  20 rolls does a poor job (or you would have to be very lucky for 20 rolls to do a good job), and 2 million rolls does a good job (or you would have to be exceedingly *unlucky* for it to do a poor job). \n",
    "\n",
    "What did we do here? We *estimated* the parameters, like the mean, from the population $\\{x_k\\}$.  For the mean, the **Sample Mean** it is what you would expect:\n",
    "\n",
    "$$\\overline{x} = \\frac{1}{N}\\sum_{i=1}^N x_i$$\n",
    "\n",
    "We might guess that the **Sample Variance** is:\n",
    "\n",
    "$$\\sigma^2_b = \\frac{1}{N}\\sum_{i=1}^N \\left(x_i-\\overline{x}\\right)^2$$\n",
    "\n",
    "but we will show below that this is a **biased estimator**.\n",
    "\n",
    "Hopefully it is clear that $\\overline{x}$ is itself a random variable.  If we repeat the test of rolling the dice 200 times, we will get different values of the mean. This random varibale $\\{\\overline{x}_n\\}$ will have a distribution, and mean and variance.\n",
    "\n",
    "To see what the distribution of $\\{\\overline{x}_n\\}$ is, lets run the 200-dice-roll experiment 2000 times and tabulate the results:"
   ]
  },
  {
   "cell_type": "code",
   "execution_count": 134,
   "metadata": {
    "collapsed": false
   },
   "outputs": [],
   "source": [
    "Nexpts = 2000\n",
    "means=zeros(Nexpts)\n",
    "for i in range(Nexpts):\n",
    "    xx=getrolls(200)\n",
    "    means[i]=np.mean(xx)\n",
    "means200=means"
   ]
  },
  {
   "cell_type": "code",
   "execution_count": 90,
   "metadata": {
    "collapsed": false
   },
   "outputs": [
    {
     "name": "stdout",
     "output_type": "stream",
     "text": [
      "Mean of the means: 3.498\n",
      "Standard deviation of the means: 0.122\n"
     ]
    },
    {
     "data": {
      "image/png": "[encoded data removed]",
      "text/plain": [
       "<matplotlib.figure.Figure at 0x10f942510>"
      ]
     },
     "metadata": {},
     "output_type": "display_data"
    }
   ],
   "source": [
    "fig=figure();ax=fig.add_subplot(1,1,1); \n",
    "ax.hist(means,30)\n",
    "ax.set_xlabel('$\\overline{x}\\ \\ N=200$');ax.set_ylabel('Occurences');ax.set_xlim([3.0,4.])\n",
    "print 'Mean of the means: %1.3f' % np.mean(means)\n",
    "print 'Standard deviation of the means: %1.3f' % np.std(means)"
   ]
  },
  {
   "cell_type": "markdown",
   "metadata": {},
   "source": [
    "Se we see that running the 200-roll experiement yields a great variety of outcomes in the calculated mean, with means as low as 3.1, and as high as 3.9.  However, the nice thing is that the mean of the estimates is very close to the expected value of 3.5.  This gives us some hope that the *sample mean*, $\\overline{x}$, is a good estimator of the *distribution mean*, $\\mu_x$.   \n",
    "\n",
    "What happens for 2000 2000-roll experiments? Hopefully each experiment will yield a better esitmate of $\\mu_x$ than the 200-roll experiments.  "
   ]
  },
  {
   "cell_type": "code",
   "execution_count": 135,
   "metadata": {
    "collapsed": false
   },
   "outputs": [],
   "source": [
    "Nexpts = 2000\n",
    "means=zeros(Nexpts)\n",
    "for i in range(Nexpts):\n",
    "    xx=getrolls(2000)\n",
    "    means[i]=np.mean(xx)\n",
    "means2000=means"
   ]
  },
  {
   "cell_type": "code",
   "execution_count": 131,
   "metadata": {
    "collapsed": false
   },
   "outputs": [
    {
     "name": "stdout",
     "output_type": "stream",
     "text": [
      "Mean of the means: 3.501\n",
      "Standard deviation of the means: 0.039\n"
     ]
    },
    {
     "data": {
      "image/png": "[encoded data removed]",
      "text/plain": [
       "<matplotlib.figure.Figure at 0x10fcc51d0>"
      ]
     },
     "metadata": {},
     "output_type": "display_data"
    }
   ],
   "source": [
    "fig,ax=plt.subplots(1,1); \n",
    "ax.hist(means,30)\n",
    "ax.set_xlabel('$\\overline{x}\\ \\ N=2000$');ax.set_ylabel('Occurences');ax.set_xlim([3.0,4.])\n",
    "ax.set_title('Number of rolls=2000')\n",
    "print 'Mean of the means: %1.3f' % np.mean(means)\n",
    "print 'Standard deviation of the means: %1.3f' % np.std(means)"
   ]
  },
  {
   "cell_type": "markdown",
   "metadata": {},
   "source": [
    "As we can see, the distribution of the means is *much* tighter, and the sample mean of the means is exactly what we would expect theoretically.  \n",
    "\n",
    "So for the 200-roll experiments we would say that we know the mean from any single experiment as $\\overline{x}\\pm0.122$.  For the 2000-roll experiments it is $\\overline{x}\\pm0.039$.  For a 20-roll experiment, the mean would be determined within one standard deviation as $\\overline{x}\\pm0.39$.  How do I know this?  Because the standard deviation is simply changing by a factor of $\\sqrt{N}$ each time, and indeed is just equal to $\\sqrt{var(x)}/\\sqrt{N} = \\sqrt{2.92/20}=0.39$.  "
   ]
  },
  {
   "cell_type": "code",
   "execution_count": 136,
   "metadata": {
    "collapsed": false
   },
   "outputs": [],
   "source": [
    "Nexpts = 2000\n",
    "means=zeros(Nexpts)\n",
    "for i in range(Nexpts):\n",
    "    xx=getrolls(20)\n",
    "    means[i]=np.mean(xx)\n",
    "means20=means"
   ]
  },
  {
   "cell_type": "code",
   "execution_count": 99,
   "metadata": {
    "collapsed": false
   },
   "outputs": [
    {
     "name": "stdout",
     "output_type": "stream",
     "text": [
      "Mean of the means: 3.509\n",
      "Standard deviation of the means: 0.382\n"
     ]
    },
    {
     "data": {
      "image/png": "[encoded data removed]",
      "text/plain": [
       "<matplotlib.figure.Figure at 0x10f942510>"
      ]
     },
     "metadata": {},
     "output_type": "display_data"
    }
   ],
   "source": [
    "fig,ax=plt.subplots(1,1); \n",
    "ax.hist(means,30)\n",
    "ax.set_xlabel('$\\overline{x}\\ \\ N=20$');ax.set_ylabel('Occurences');ax.set_xlim([3.0,4.])\n",
    "ax.set_title('Number of rolls=20')\n",
    "print 'Mean of the means: %1.3f' % np.mean(means)\n",
    "print 'Standard deviation of the means: %1.3f' % np.std(means)"
   ]
  },
  {
   "cell_type": "markdown",
   "metadata": {},
   "source": [
    "### Good Estimator?"
   ]
  },
  {
   "cell_type": "markdown",
   "metadata": {},
   "source": [
    "Is $\\overline{x}$ a good estimate of the underlying distribution mean, $\\mu_x$?  What characteristics do we seek in an estimator?\n",
    "\n",
    "  1. \"unbiased\" i.e. $\\mathrm{E}\\left[\\overline{x}\\right]=\\mu_x$\n",
    "  \n",
    "  2. \"consistent\": \n",
    "  \n",
    "      $$\\displaystyle\\lim_{N\\to\\infty} \\mathrm{E}\\left[\\left(\\overline{x}-\\mu_x\\right)^2\\right] =0$$\n",
    "      \n",
    "      i.e. the more data put into $\\overline{x}$ is, the closer it gets to the theoretical mean $\\mu_x$.\n",
    "      \n",
    "We saw above that both of these were indeed the case for the *sample mean* of the uniform distribution.  We can prove that it is true in general.\n",
    "\n",
    "**Unbiased?**\n",
    "From the definition of $\\overline{x}$, and the fact that the expected value of a sum of variables is the sum of the expected values:\n",
    "\n",
    "$$\\mathrm{E}\\left[\\overline{x}\\right] = \\frac{1}{N}\\sum_{i=1}^N \\mathrm{E}\\left[x_i\\right]$$\n",
    "\n",
    "$$= \\frac{1}{N}\\sum_{i=1}^N \\mu_x = \\mu_x$$\n",
    "\n",
    "So, yes, the sample mean is unbiased.\n",
    "\n",
    "**Consistent?**\n",
    "\n",
    "We want to show that  $$\\displaystyle\\lim_{N\\to\\infty} \\mathrm{E}\\left[\\left(\\overline{x}-\\mu_x\\right)^2\\right] =0$$\n",
    "\n",
    "We can always remove the mean with a change of variables: $y_i=x_i-\\mu_x$ so that we just have to show that \n",
    "\n",
    " $$\\displaystyle\\lim_{N\\to\\infty} \\mathrm{E}\\left[\\left(\\overline{y}\\right)^2\\right] =0$$\n",
    " \n",
    " \n",
    " So:\n",
    " \n",
    "\\begin{align}\n",
    " \\displaystyle\\lim_{N\\to\\infty} \\mathrm{E}\\left[\\left(\\overline{y}\\right)^2\\right]&=\n",
    " \\displaystyle \\lim_{N\\to\\infty} \\mathrm{E}\\left[\\left(\\frac{1}{N}\\sum_{i=1}^N y_i\\right)^2\\right]\\\\\n",
    " &= \\displaystyle \\lim_{N\\to\\infty} \\frac{1}{N^2}\\left(\\sum_{i=1}^N \\mathrm{E}\\left[y_i^2\\right]\\right)\\\\\n",
    " &=\\displaystyle \\lim_{N\\to\\infty} \\frac{1}{N^2}N \\sigma_x^2\\\\\n",
    " &=\\displaystyle \\lim_{N\\to\\infty} \\frac{1}{N} \\sigma_x^2\\\\\n",
    " &=0\n",
    "\\end{align}\n",
    " \n",
    "So, the *sample mean* is a *consistent* estimator of the distribtion mean.\n",
    " \n",
    "Note that here, we also showed that the variance of the *sample mean* $\\overline{x}$ decreases as the sample size $N$ increases:\n",
    "\n",
    "$$\\sigma_{\\overline{x}}^2=E\\left[\\left(\\overline{x}-\\mu_x\\right)^2\\right]=\\frac{1}{N} \\sigma_x^2$$\n",
    "\n",
    "which is what we showed emperically above. "
   ]
  },
  {
   "cell_type": "markdown",
   "metadata": {},
   "source": [
    "### Is the sample variance biased?"
   ]
  },
  {
   "cell_type": "markdown",
   "metadata": {},
   "source": [
    "As we noted above, the sample variance might be:\n",
    "\n",
    "$$\\sigma^2_b = \\frac{1}{N}\\sum_{i=1}^N \\left(x_i-\\overline{x}\\right)^2$$  \n",
    "\n",
    "This turns out to be biased.  Again, assume $\\mu_x=0.$ for simplicity.  Then,\n",
    "\n",
    "\\begin{align}\n",
    "    E\\left[\\sigma^2_b\\right] & = E\\left[\\frac{1}{N}\\sum_{i=1}^N \\left(x_i-\\overline{x}\\right)^2\\right]\\\\\n",
    "    &=  \\frac{1}{N}E\\left[\\sum_{i=1}^N \\left(x_i^2-2x_i\\overline{x}+\\overline{x}^2\\right)\\right]\\\\\n",
    "    &=\\frac{1}{N}E\\left[\\left(\\sum_{i=1}^N x_i^2\\right)-2N\\overline{x}^2+N\\overline{x}^2\\right]\\\\\n",
    "    &=E\\left[\\left(\\frac{1}{N}\\sum_{i=1}^N x_i^2\\right)-\\overline{x}^2\\right]\\\\\n",
    "    &=E\\left[x_i^2\\right]-E\\left[\\overline{x}^2\\right]\\\\\n",
    "    &=\\sigma_x^2-\\frac{1}{N}\\sigma_x^2\\\\\n",
    "    &=\\sigma_x^2\\left(1-\\frac{1}{N}\\right)\\\\\n",
    "\\end{align}\n",
    "\n",
    "So we see that the naive  estimator is biased low.  \n",
    "\n",
    "We can test this emperically by playing the same randomized game as above.  Here we calculate the variance of 6 rolls, 12 rolls, etc 2000 times each and then take the mean of the variances for the 2000 experiments:"
   ]
  },
  {
   "cell_type": "code",
   "execution_count": 132,
   "metadata": {
    "collapsed": false
   },
   "outputs": [],
   "source": [
    "Nexpts = 2000\n",
    "Nrolls=[6,12,24,200,2000]\n",
    "sampvarmean=zeros(6)\n",
    "for nn,Nroll in enumerate(Nrolls):\n",
    "    sampvars=zeros(Nexpts)\n",
    "    for i in range(Nexpts):\n",
    "        xx=getrolls(Nroll)\n",
    "        sampvars[i]=np.sum((xx-np.mean(xx))**2)/Nroll\n",
    "    sampvarmean[nn]=np.mean(sampvars)"
   ]
  },
  {
   "cell_type": "code",
   "execution_count": 133,
   "metadata": {
    "collapsed": false
   },
   "outputs": [
    {
     "name": "stdout",
     "output_type": "stream",
     "text": [
      "Nrolls mean expected\n",
      "      6 2.428 2.433\n",
      "     12 2.695 2.677\n",
      "     24 2.794 2.798\n",
      "    200 2.903 2.905\n",
      "   2000 2.917 2.919\n"
     ]
    }
   ],
   "source": [
    "print \"Nrolls mean expected\" \n",
    "for i in range(5):\n",
    "    print \"%7d %1.3f %1.3f\"% (Nrolls[i],sampvarmean[i],2.92*(1.-1./Nrolls[i]))"
   ]
  },
  {
   "cell_type": "markdown",
   "metadata": {},
   "source": [
    "So, as we see, the mean of the *sample variances* is biased low by a factor $(1-1/N_{rolls})$ (approximately).  Note as $N_{rolls}$ gets large, the bias drops. \n",
    "\n",
    "The *unbiased* estimator of the variance is simply:\n",
    "\n",
    "$$\\sigma^2 = \\frac{1}{N-1}\\sum_{i=1}^N \\left(x_i-\\overline{x}\\right)^2$$  \n"
   ]
  },
  {
   "cell_type": "code",
   "execution_count": 125,
   "metadata": {
    "collapsed": false
   },
   "outputs": [],
   "source": [
    "Nexpts = 2000\n",
    "Nrolls=[6,12,24,200,2000]\n",
    "sampvarmean=zeros(6)\n",
    "for nn,Nroll in enumerate(Nrolls):\n",
    "    sampvars=zeros(Nexpts)\n",
    "    for i in range(Nexpts):\n",
    "        xx=getrolls(Nroll)\n",
    "        sampvars[i]=np.sum((xx-np.mean(xx))**2)/(Nroll-1)\n",
    "    sampvarmean[nn]=np.mean(sampvars)"
   ]
  },
  {
   "cell_type": "code",
   "execution_count": 126,
   "metadata": {
    "collapsed": false
   },
   "outputs": [
    {
     "name": "stdout",
     "output_type": "stream",
     "text": [
      "Nrolls mean expected\n",
      "      6 2.928 2.920\n",
      "     12 2.936 2.920\n",
      "     24 2.924 2.920\n",
      "    200 2.911 2.920\n",
      "   2000 2.914 2.920\n"
     ]
    }
   ],
   "source": [
    "print \"Nrolls mean expected\" \n",
    "for i in range(5):\n",
    "    print \"%7d %1.3f %1.3f\"% (Nrolls[i],sampvarmean[i],2.92)"
   ]
  },
  {
   "cell_type": "markdown",
   "metadata": {},
   "source": [
    "Here we see that the estimator is not biased (though of course it is never exactly 2.92)."
   ]
  },
  {
   "cell_type": "markdown",
   "metadata": {},
   "source": [
    "## The Normal (Gaussian) distribution and the central limit theorem"
   ]
  },
  {
   "cell_type": "markdown",
   "metadata": {},
   "source": [
    "The Normal distribution (or Gaussian) is given by the probability density function:\n",
    "\n",
    "\\begin{equation}\n",
    "  p(x) = N(a,b)=\\frac{1}{b\\sqrt{2\\pi}} \\exp \\left[ - \\frac{(x-a)^2}{2b^2}\\right]\n",
    "\\end{equation}\n",
    "\n",
    "<figure>\n",
    "<IMG SRC=\"images/NormalDist.png\" WIDTH=400 ALIGN=\"right\">\n",
    "</figure>\n",
    "\n",
    "\n",
    "The expected value of $N(a,b)$ is $ E\\left[x\\right]=a$, and the variance is \n",
    "\n",
    "\\begin{equation}\n",
    "    E\\left[(x-a)^2\\right]=b^2\n",
    "\\end{equation}\n",
    "\n",
    "(these are both relatively easy to show using integral tables).  The Normal distribution should be familiar to most scientists; it is symmetric about $a$ and the width of the peaks is given by $b$, specifically the peaks drop by $e^{-1}$ at $x=a\\pm \\sqrt{2}b$. \n"
   ]
  },
  {
   "cell_type": "markdown",
   "metadata": {},
   "source": [
    "### Central Limit Theorem"
   ]
  },
  {
   "cell_type": "markdown",
   "metadata": {},
   "source": [
    "The central limit theorem states that the summation of realizations from a large number of *arbitrary* independent random variables will be normally distributed.  So, if $x_1(k), x_2(k),... x_N(k)$ are independent realizations of $N$ independent random variables, then if we define $x(k)$ as the sum of those realizations:\n",
    "\n",
    "\\begin{equation}\n",
    "  x(k)=\\sum_{i=1}^N a_i x_i(k)\n",
    "\\end{equation}\n",
    "\n",
    "and as $N\\to\\infty$, the summation $x(k)$ will be Normally distributed.\n",
    "\n",
    "The proof of this is one of the central results in statistics, and basically consists of showing that all the momments of $x(k)$ asymptote to the momments of a Normal distribution.  This proof is beyond our scope, though there are a number of proofs to be found on the web.  \n",
    "\n",
    "We basically saw this in the dice rolling simulations above.  The sample mean of $N$ rolls can be written as \n",
    "\\begin{equation}\n",
    "    \\overline{x}=\\frac{1}{N}\\sum_{i=1}^N x_i\n",
    "\\end{equation}\n",
    "and since the rolls ${x_i}$ are independent, the sample mean of each set of $N$ will approach a Normal distribution as $N$ gets large.  "
   ]
  },
  {
   "cell_type": "code",
   "execution_count": 224,
   "metadata": {
    "collapsed": false
   },
   "outputs": [],
   "source": [
    "def getRollsExpt(Nrolls,Nexpt,theseed=None):\n",
    "    np.random.seed(seed=theseed) # This just makes the \"random\" result the same everytime \n",
    "                            # I run the code.\n",
    "    xx=np.random.rand(Nexpt,Nrolls)*5.999999999+0.99999999 # this will be from 1. to 6.99999999\n",
    "    xx=np.floor(xx)\n",
    "    return xx\n"
   ]
  },
  {
   "cell_type": "code",
   "execution_count": 227,
   "metadata": {
    "collapsed": false
   },
   "outputs": [
    {
     "name": "stdout",
     "output_type": "stream",
     "text": [
      "(2000,)\n"
     ]
    }
   ],
   "source": [
    "Nexpts = 2000\n",
    "xx=getRollsExpt(20000,Nexpts)\n",
    "means=np.mean(xx,axis=1)\n",
    "means2mil=means"
   ]
  },
  {
   "cell_type": "code",
   "execution_count": 263,
   "metadata": {
    "collapsed": false
   },
   "outputs": [],
   "source": [
    "Nexpts = 2000\n",
    "Nrolls=3\n",
    "xx=getRollsExpt(Nrolls,Nexpts)\n",
    "means=np.mean(xx,axis=1)\n",
    "means5=means"
   ]
  },
  {
   "cell_type": "code",
   "execution_count": 264,
   "metadata": {
    "collapsed": false
   },
   "outputs": [
    {
     "data": {
      "text/plain": [
       "<matplotlib.legend.Legend at 0x11acce4d0>"
      ]
     },
     "execution_count": 264,
     "metadata": {},
     "output_type": "execute_result"
    },
    {
     "data": {
      "image/png": "[encoded data removed]",
      "text/plain": [
       "<matplotlib.figure.Figure at 0x11abb4150>"
      ]
     },
     "metadata": {},
     "output_type": "display_data"
    }
   ],
   "source": [
    "fig,ax=plt.subplots(1,1)\n",
    "bins = 30\n",
    "ax.hist(means20,bins,label='20 rolls',histtype='step',normed=True)\n",
    "ax.hist(means200,bins,label='200 rolls',histtype='step',normed=True)\n",
    "ax.hist(means2000,bins,label='2000 rolls',histtype='step',normed=True)\n",
    "ax.hist(means2mil,bins,label='$2e^4$ rolls',histtype='step',normed=True)\n",
    "ax.set_xlabel('mean roll');ax.set_ylabel('PDF [per roll increment]')\n",
    "ax.set_xlim([3.,4.])\n",
    "ax.legend()"
   ]
  },
  {
   "cell_type": "markdown",
   "metadata": {},
   "source": [
    "So, not only does the distribution get narrower, it looks more like a Normal distribution.  The comparison is a bit hard to see if we do it this way, so lets remove the mean and divide by the standard deviation.  "
   ]
  },
  {
   "cell_type": "code",
   "execution_count": 265,
   "metadata": {
    "collapsed": false
   },
   "outputs": [
    {
     "data": {
      "text/plain": [
       "<matplotlib.legend.Legend at 0x11b8d0610>"
      ]
     },
     "execution_count": 265,
     "metadata": {},
     "output_type": "execute_result"
    },
    {
     "data": {
      "image/png": "[encoded data removed]",
      "text/plain": [
       "<matplotlib.figure.Figure at 0x11ad17190>"
      ]
     },
     "metadata": {},
     "output_type": "display_data"
    }
   ],
   "source": [
    "fig,ax=plt.subplots(1,1)\n",
    "bins = 30\n",
    "td = [means5,means20,means200,means2000,means2mil]\n",
    "lab = ['3 rolls','20 rolls','200 rolls','2000 rolls','$2e5$ rolls']\n",
    "histos=list()\n",
    "for nn,me in enumerate(td):\n",
    "    histo, bins, patches = ax.hist((me-np.mean(me))/np.std(me),bins,\n",
    "                                   label=lab[nn],histtype='step',normed=True)\n",
    "    histos.append(histo)\n",
    "ax.set_xlabel('mean roll');ax.set_ylabel('PDF [per roll increment]')\n",
    "ax.legend()"
   ]
  },
  {
   "cell_type": "markdown",
   "metadata": {},
   "source": [
    "Looked at this way, we see that even the distribution of the mean of 20 rolls is quite similar to a Normal distribution. "
   ]
  },
  {
   "cell_type": "markdown",
   "metadata": {},
   "source": [
    "### Testing if a distribution is Normal."
   ]
  },
  {
   "cell_type": "markdown",
   "metadata": {},
   "source": [
    "Informally, we can simply plot a normal distribution on top of our observed distributions."
   ]
  },
  {
   "cell_type": "code",
   "execution_count": 266,
   "metadata": {
    "collapsed": false
   },
   "outputs": [
    {
     "data": {
      "image/png": "[encoded data removed]",
      "text/plain": [
       "<matplotlib.figure.Figure at 0x11ad17190>"
      ]
     },
     "metadata": {},
     "output_type": "display_data"
    }
   ],
   "source": [
    "import matplotlib.mlab as mlab\n",
    "\n",
    "midbins=bins[0:-1]-diff(bins)[0]\n",
    "y = mlab.normpdf(midbins, 0, 1.)\n",
    "ax.plot(midbins,y,'k--',label='Normal Dist')\n",
    "ax.legend()\n",
    "display(fig)\n"
   ]
  },
  {
   "cell_type": "markdown",
   "metadata": {},
   "source": [
    "From this we see that there is not a large difference between 200 rolls and 20,000 rolls in terms of the shape of the distribution.  We have to have as few as three rolls for the difference to be very profound. We can quantify this by taking the square of the difference between the theoretical distribution and the observed:"
   ]
  },
  {
   "cell_type": "code",
   "execution_count": 267,
   "metadata": {
    "collapsed": false
   },
   "outputs": [
    {
     "name": "stdout",
     "output_type": "stream",
     "text": [
      "     3 rolls: 1.7695\n",
      "    20 rolls: 0.2419\n",
      "   200 rolls: 0.0790\n",
      "  2000 rolls: 0.0609\n",
      " $2e5$ rolls: 0.0705\n"
     ]
    }
   ],
   "source": [
    "for i in range(5):\n",
    "    print '%12s: %2.4f' %(lab[i],np.sum((histos[i]-y)**2))"
   ]
  },
  {
   "cell_type": "markdown",
   "metadata": {},
   "source": [
    "Note this is kind of a poor test because the $N_{rolls}=3$ distribution has some bins in it with zeros.  A more fair test is to compare the cumulative distributions.  "
   ]
  },
  {
   "cell_type": "code",
   "execution_count": 268,
   "metadata": {
    "collapsed": false
   },
   "outputs": [
    {
     "name": "stdout",
     "output_type": "stream",
     "text": [
      "     3 rolls: 0.2699\n",
      "    20 rolls: 0.2036\n",
      "   200 rolls: 0.1879\n",
      "  2000 rolls: 0.1870\n",
      " $2e5$ rolls: 0.1899\n"
     ]
    },
    {
     "data": {
      "image/png": "[encoded data removed]",
      "text/plain": [
       "<matplotlib.figure.Figure at 0x11abb4a50>"
      ]
     },
     "metadata": {},
     "output_type": "display_data"
    }
   ],
   "source": [
    "import scipy.stats as stats\n",
    "fig,ax=plt.subplots(1,1)\n",
    "bins = 30\n",
    "td = [means5,means20,means200,means2000,means2mil]\n",
    "histos=list()\n",
    "for nn,me in enumerate(td):\n",
    "    histo, bins, patches = ax.hist((me-np.mean(me))/np.std(me),bins,\n",
    "                                   label=lab[nn],histtype='step',normed=True,\n",
    "                                   cumulative=True,align='right')\n",
    "    histos.append(histo)\n",
    "ax.set_xlabel('mean roll');ax.set_ylabel('PDF [per roll increment]')\n",
    "y = stats.norm.cdf(midbins, 0, 1.)\n",
    "ax.plot(midbins,y,'k--',label='Normal Dist')\n",
    "ax.legend(loc=2)\n",
    "ax.set_ylim([0,1.1])\n",
    "for i in range(5):\n",
    "    print '%12s: %2.4f' %(lab[i],np.sum((histos[i]-y)**2))"
   ]
  },
  {
   "cell_type": "markdown",
   "metadata": {},
   "source": [
    "Here we see that three rolls is a poorer fit to the cumulative distributions, but less than twice as bad.  "
   ]
  },
  {
   "cell_type": "markdown",
   "metadata": {},
   "source": [
    "## Confidence intervals: How do we know if our dice is loaded?"
   ]
  },
  {
   "cell_type": "markdown",
   "metadata": {},
   "source": [
    "The short answer is that we can never be sure!  Its theoretically possible to roll the dice 200 times, and get 6 every time.  It is very unlikely! And we can quantify exactly how unlikely.  (In this case its $(1/6)^{200}=2.3\\times10^{-156}$).  \n",
    "\n",
    "So, imagine we are only able to roll the dice 200 times, $N_{roll}=200$, before we run out of time, money, or patience.  We know that the mean of those 200 rolls should be 3.5 for the average experiment.  We also know however, that the variance of those means is $2.92/N_{rolls}=0.0146$, or that the standard deviation is $\\sigma_{200}=0.121$. From the central limit theorem, we know that the distribution of the means will be a Normal distribution, with mean 3.5, and standard deviation 0.121.    \n",
    "\n",
    "Since we theoretically know the expected distribution in such pleasant detail, we can easily determine the interval in which we expect 95% of the means from the 200-roll experiments to fall in.  We pick 2.5% and 97.5% off the theoretical cummulitive distribution of the normal curve:"
   ]
  },
  {
   "cell_type": "code",
   "execution_count": 297,
   "metadata": {
    "collapsed": false
   },
   "outputs": [
    {
     "name": "stdout",
     "output_type": "stream",
     "text": [
      "3.26338169085\n",
      "3.7376188094\n",
      "(3.2628443578706534, 3.7371556421293466)\n"
     ]
    },
    {
     "data": {
      "text/plain": [
       "<matplotlib.text.Text at 0x11e158790>"
      ]
     },
     "execution_count": 297,
     "metadata": {},
     "output_type": "execute_result"
    },
    {
     "data": {
      "image/png": "[encoded data removed]",
      "text/plain": [
       "<matplotlib.figure.Figure at 0x11dd9ded0>"
      ]
     },
     "metadata": {},
     "output_type": "display_data"
    }
   ],
   "source": [
    "x = np.linspace(3.5-1,3.5+1,2000)\n",
    "y=stats.norm.cdf(x,loc=3.5,scale=0.121)\n",
    "\n",
    "fig,axs=plt.subplots(2,1,sharex=True)\n",
    "ax=axs[0]\n",
    "ax.plot(x,y)\n",
    "ind = where(y>=0.025)[0][0]\n",
    "ax.plot(x[ind],y[ind],'gd')\n",
    "ax.text(x[ind],y[ind],'    CDF=0.025')\n",
    "print x[ind]\n",
    "ind = where(y>=1.-0.025)[0][0]\n",
    "ax.plot(x[ind],y[ind],'rd')\n",
    "ax.text(x[ind],y[ind],'    CDF=0.975')\n",
    "\n",
    "ax.set_ylabel('P(x): CDF')\n",
    "print x[ind]\n",
    "# we can also get this from the stats.norm.interval:\n",
    "interval=stats.norm.interval(0.95,loc=3.5,scale=0.121)\n",
    "print interval\n",
    "\n",
    "# plot the pdf.  Fill in 95% of the distribution...\n",
    "y2=stats.norm.pdf(x,loc=3.5,scale=0.121)\n",
    "ax=axs[1]\n",
    "ax.plot(x,y2)\n",
    "inds=where((x>interval[0]) & (x<interval[1]))\n",
    "ax.fill_between(x[inds],y2[inds])\n",
    "ax.set_xlabel('x - Mean of 200 rolls')\n",
    "ax.set_ylabel('p(x): pdf')"
   ]
  },
  {
   "cell_type": "markdown",
   "metadata": {},
   "source": [
    "So, from this we see that 95% of the time a 200-roll mean $\\{\\overline{x}_{200}\\}$ will be between 3.26 and 3.74.  \n",
    "\n",
    "So, how do we turn this into a statistical statement?  If we roll the dice 200 times and caltulate $\\overline{x}_{200}= 3.75$, we say that 95% of the time this mean will be associated with a different distribution than a fair six-sided dice rolled 200 times, and that this result is significantly different from our null hypothesis that the mean will be 3.5.\n",
    "\n",
    "Of course that doesn't mean the dice is loaded. And if we were to choose a looser confidence criteria, say 99%, we would not say that this dice was loaded to 99% significance. \n",
    "\n",
    "A lot of bad things happen when people talk about significance.  We can't prove this dice is loaded, no matter how significant the results.  If we roll the dice 2000 times and the mean is still near 3.75, then we will have more confidence (well, a lot more) that the dice is loaded.  In fact there is only a $3.2\\times10^{-9}\\%$ chance that the dice is still fair if that is the case.  "
   ]
  },
  {
   "cell_type": "code",
   "execution_count": 312,
   "metadata": {
    "collapsed": false
   },
   "outputs": [
    {
     "name": "stdout",
     "output_type": "stream",
     "text": [
      "-3.209688e-11\n"
     ]
    }
   ],
   "source": [
    "# get the value of the cdf for 3.75 if the standard deviation is \n",
    "# a factor of sqrt(10) smaller\n",
    "xx=stats.norm.cdf(3.75,loc=3.5,scale=0.121/sqrt(10))\n",
    "print '%e'%(xx-1.)"
   ]
  },
  {
   "cell_type": "markdown",
   "metadata": {},
   "source": [
    "### What if we don't know the variance of the distribution?"
   ]
  },
  {
   "cell_type": "markdown",
   "metadata": {},
   "source": [
    "For the dice roll we knew the standard deviation of the mean of the rolls because we knew the standard deviation of the underlying distribution.  Unfortunately, in life, we are not always given this.  Can we still make statistical inferences about the underlying distribution?  \n",
    "\n",
    "Note that above, if we knew the variance $\\sigma_x^2$ then we could normalize $\\overline{x}-\\mu$ by the standard deviation, and thus have a Normal distribution of standard devaition 1:\n",
    "\n",
    "\\begin{equation}\n",
    "      x'=\\frac{\\overline{x}\\sqrt{N}}{\\sigma_x}\n",
    "\\end{equation}\n",
    "\n",
    "Using the same idea we consider the random variable $y$:\n",
    "\n",
    "\\begin{equation}\n",
    "      x'=\\frac{\\overline{x}\\sqrt{N}}{s_x}\n",
    "\\end{equation}\n",
    "\n",
    "where $s_x$ is the *sample variance* defined above as \n",
    "\\begin{equation}\n",
    "      s_x^2=\\frac{1}{N-1}\\sum_{i=1}^N \\left(x_i-\\overline{x}\\right)^2\n",
    "\\end{equation}\n",
    "\n",
    "The random variable $\\overline{x}$ is a Normal distribution, as discussed above.\n",
    "\n",
    "The randome variable $s_x^2$ is the sum of $N$ normal distributions squared, N-1 of which are independent.  So, $s_x^2$ is a **Chi-squared** distribution, written $\\chi^2_n$, where $n$ is the degrees of freedom, in this case equal to $n=N-1$.  \n"
   ]
  },
  {
   "cell_type": "code",
   "execution_count": 337,
   "metadata": {
    "collapsed": false
   },
   "outputs": [
    {
     "data": {
      "text/plain": [
       "(0.0, 0.4)"
      ]
     },
     "execution_count": 337,
     "metadata": {},
     "output_type": "execute_result"
    },
    {
     "data": {
      "image/png": "[encoded data removed]",
      "text/plain": [
       "<matplotlib.figure.Figure at 0x11e43b150>"
      ]
     },
     "metadata": {},
     "output_type": "display_data"
    }
   ],
   "source": [
    "x = np.linspace(0.,65.,1000)\n",
    "fig,ax=plt.subplots(1,1)\n",
    "for ndeg in [1,2,4,8,16,32]:\n",
    "    y=stats.chi2.pdf(x,ndeg)\n",
    "    ax.plot(x,y,label=('n=%2d'%ndeg))\n",
    "ax.legend();ax.set_title(r'$\\chi^2_n$ distribution'); ax.set_xlabel('$s_x^2$');\n",
    "ax.set_ylabel(r'$p\\left(s_x^2 \\right)$: PDF')\n",
    "ax.set_ylim([0.,0.4])"
   ]
  },
  {
   "cell_type": "markdown",
   "metadata": {},
   "source": [
    "As $n\\to\\infty$ the sum approaches a Normal distribution, with mean $\\mu_{\\chi^2_n}=n$ and variance $\\sigma_{\\chi^2_n}^2=2n$.\n",
    "\n",
    "The ratio of these two distributions is called the student-t distribution, and governs the distribution of the *sample mean* normalized by the *sample variance*.  "
   ]
  },
  {
   "cell_type": "code",
   "execution_count": 350,
   "metadata": {
    "collapsed": false
   },
   "outputs": [
    {
     "data": {
      "text/plain": [
       "(0.0, 0.4)"
      ]
     },
     "execution_count": 350,
     "metadata": {},
     "output_type": "execute_result"
    },
    {
     "data": {
      "image/png": "[encoded data removed]",
      "text/plain": [
       "<matplotlib.figure.Figure at 0x11e1fc250>"
      ]
     },
     "metadata": {},
     "output_type": "display_data"
    }
   ],
   "source": [
    "x = np.linspace(-10,10.,1000)\n",
    "fig,ax=plt.subplots(1,1)\n",
    "for ndeg in [1,2,4,8,16,32]:\n",
    "    y=stats.t.pdf(x,ndeg)\n",
    "    ax.plot(x,y,label=('n=%2d'%ndeg))\n",
    "y=stats.norm.pdf(x)\n",
    "ax.plot(x,y,'k--',label='Normal')\n",
    "ax.legend();ax.set_title('$t_n$ distribution'); ax.set_xlabel(r'$x\\prime$')\n",
    "ax.set_ylabel('$p(x\\prime)$: PDF')\n",
    "ax.set_ylim([0.,0.4])"
   ]
  },
  {
   "cell_type": "markdown",
   "metadata": {},
   "source": [
    "For large-N the student-t distribution of $x'$ looks just like the Normal distribution.  for smaller values of N, the distribution has larger tails."
   ]
  },
  {
   "cell_type": "markdown",
   "metadata": {},
   "source": [
    "### Applying student-t to the dice rolls?"
   ]
  },
  {
   "cell_type": "markdown",
   "metadata": {},
   "source": [
    "Rolling the dice 200 times means we have 199 degrees of freedom for the student-t distribution.  So that gives us an idea what the 95% confidence intervals are for any value of $\\overline{x}_{200}\\sqrt{N}/s_x$ are.  "
   ]
  },
  {
   "cell_type": "code",
   "execution_count": 352,
   "metadata": {
    "collapsed": false
   },
   "outputs": [
    {
     "name": "stdout",
     "output_type": "stream",
     "text": [
      "(-1.9719565442493949, 1.9719565442493949)\n"
     ]
    }
   ],
   "source": [
    "interval=stats.t.interval(0.95,df=199)\n",
    "print interval"
   ]
  },
  {
   "cell_type": "markdown",
   "metadata": {},
   "source": [
    "So we do one experiment, report the mean, and compute the 95% confidence intervals:"
   ]
  },
  {
   "cell_type": "code",
   "execution_count": 360,
   "metadata": {
    "collapsed": false
   },
   "outputs": [
    {
     "name": "stdout",
     "output_type": "stream",
     "text": [
      "3.575\n",
      "2.71796482412\n",
      "3.58 +/- 0.38\n"
     ]
    }
   ],
   "source": [
    "xx=getrolls(200,theseed=4590)\n",
    "xbar = np.mean(xx)\n",
    "sx = np.var(xx,ddof=1)\n",
    "\n",
    "print xbar\n",
    "print sx\n",
    "inter = interval[1]*sx/sqrt(200)\n",
    "print '%1.2f +/- %1.2f'%(xbar,inter)"
   ]
  },
  {
   "cell_type": "markdown",
   "metadata": {},
   "source": [
    "So, this says that the mean of the underlying distribution lies between 3.2 and 3.96 95% of the time.  \n",
    "\n",
    "Of course with fewer rolls, these 95% confidence intervals get much larger:"
   ]
  },
  {
   "cell_type": "code",
   "execution_count": 368,
   "metadata": {
    "collapsed": false
   },
   "outputs": [
    {
     "name": "stdout",
     "output_type": "stream",
     "text": [
      "3.30 +/- 1.95\n"
     ]
    }
   ],
   "source": [
    "Nrolls=20\n",
    "xx=getrolls(Nrolls,theseed=467)\n",
    "xbar = np.mean(xx)\n",
    "sx = np.var(xx,ddof=1)\n",
    "\n",
    "inter = interval[1]*sx/sqrt(Nrolls)\n",
    "print '%1.2f +/- %1.2f'%(xbar,inter)"
   ]
  },
  {
   "cell_type": "markdown",
   "metadata": {},
   "source": [
    "## Monte Carlo simulations"
   ]
  },
  {
   "cell_type": "markdown",
   "metadata": {},
   "source": [
    "What we have been doing with the dice example is performing simple [Monte Carlo](http://en.wikipedia.org/wiki/Monte_Carlo_method) simulations.  All this means is that we  simulated random realizations of our experiments and looked at the statistics of the results.  When possible, it is always desireable to determine the statistical character of an experiment analytically from first principals.  For instance, we can pretty readily deduce that the mean roll of a six-sided dice will be 3.5, and that the variance of the rolls will be 2.92, and that if we average $N$ rolls together, the average will have a variance of $2.92/N$.  However, if the function we want to know the distribution of was a lot more complicated than a simple mean of variables with a known distribution, we can resort to Monte Carlo simulations to determine the structure of the resulting distribution."
   ]
  },
  {
   "cell_type": "markdown",
   "metadata": {},
   "source": [
    "### Example"
   ]
  },
  {
   "cell_type": "markdown",
   "metadata": {},
   "source": [
    "Suppose instead of wanting to know the distribution of $\\overline{x}$ we want to know the distribution of $\\overline{\\exp(x)}$, where again $x(k)$ are dice rolls from a six-sided dice?  The very simple form of the dice rolls makes the answer easy to calculate, but lets infer it from running Monte Carlo experiments just like we did above."
   ]
  },
  {
   "cell_type": "code",
   "execution_count": 396,
   "metadata": {
    "collapsed": false
   },
   "outputs": [
    {
     "name": "stdout",
     "output_type": "stream",
     "text": [
      "Nrolls mean +/- std;       std*sqrt(N)\n",
      "   1 105.289 +/- 140.025; 140.025\n",
      "   3 102.955 +/-  82.615; 143.093\n",
      "  30 105.874 +/-  26.617; 145.787\n",
      " 300 106.089 +/-   8.200; 142.030\n",
      "3000 106.082 +/-   2.579; 141.256\n"
     ]
    },
    {
     "data": {
      "image/png": "[encoded data removed]",
      "text/plain": [
       "<matplotlib.figure.Figure at 0x11e534f50>"
      ]
     },
     "metadata": {},
     "output_type": "display_data"
    }
   ],
   "source": [
    "fig,ax=plt.subplots(1,1)\n",
    "print 'Nrolls mean +/- std;       std*sqrt(N)'\n",
    "for Nrolls in [1,3,30,300,3000]:\n",
    "    xx = getRollsExpt(Nrolls,2000)\n",
    "    means = np.mean(exp(xx),axis=1)\n",
    "    \n",
    "    ax.hist(means,50,histtype='step',normed=True)\n",
    "    print '%4d %1.3f +/- %7.3f; %5.3f'%(Nrolls,np.mean(means),sqrt(np.var(means)),\n",
    "                                    sqrt(Nrolls*np.var(means)))\n",
    "ax.set_xlabel('$e^x$');ax.set_ylabel('$pdf(e^x$)');"
   ]
  }
 ],
 "metadata": {
  "kernelspec": {
   "display_name": "Python 2",
   "language": "python",
   "name": "python2"
  },
  "language_info": {
   "codemirror_mode": {
    "name": "ipython",
    "version": 2
   },
   "file_extension": ".py",
   "mimetype": "text/x-python",
   "name": "python",
   "nbconvert_exporter": "python",
   "pygments_lexer": "ipython2",
   "version": "2.7.9"
  }
 },
 "nbformat": 4,
 "nbformat_minor": 0
}
