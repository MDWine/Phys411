{
 "metadata": {
  "name": "",
  "signature": "sha256:59136b29c7dc49abb9c4769b7c155d73978f73d2ccb8ff015f12594f5fd47f5c"
 },
 "nbformat": 3,
 "nbformat_minor": 0,
 "worksheets": [
  {
   "cells": [
    {
     "cell_type": "code",
     "collapsed": false,
     "input": [
      "from IPython.core.display import HTML\n",
      "def css_styling():\n",
      "    styles = open(\"../styles/custom.css\", \"r\").read();return HTML(styles)\n",
      "css_styling()"
     ],
     "language": "python",
     "metadata": {},
     "outputs": [
      {
       "html": [
        "<link href='http://fonts.googleapis.com/css?family=Fenix' rel='stylesheet' type='text/css'>\n",
        "<link href='http://fonts.googleapis.com/css?family=Alegreya+Sans:100,300,400,500,700,800,900,100italic,300italic,400italic,500italic,700italic,800italic,900italic' rel='stylesheet' type='text/css'>\n",
        "<link href='http://fonts.googleapis.com/css?family=Source+Code+Pro:300,400' rel='stylesheet' type='text/css'>\n",
        "<style>\n",
        "    @font-face {\n",
        "        font-family: \"Computer Modern\";\n",
        "        src: url('http://mirrors.ctan.org/fonts/cm-unicode/fonts/otf/cmunss.otf');\n",
        "    }\n",
        "    div.cell{\n",
        "        width:800px;\n",
        "        margin-left:5% !important;\n",
        "        margin-right:auto;\n",
        "    }\n",
        "    h1 {\n",
        "        font-family: 'Alegreya Sans', sans-serif;\n",
        "    }\n",
        "    h2 {\n",
        "        font-family: 'Alegreya Sans', sans-serif;\n",
        "        color:#CD2305;\n",
        "    }\n",
        "    h3{\n",
        "\t\tfont-family: 'Fenix', serif;\n",
        "        margin-top:12px;\n",
        "        margin-bottom: 3px;\n",
        "        color:#CD2305;\n",
        "       }\n",
        "\th4{\n",
        "\t\tfont-family: 'Fenix', serif;\n",
        "        color:#CD2305;\n",
        "       }\n",
        "    h5 {\n",
        "        font-family: 'Alegreya Sans', sans-serif;\n",
        "        color:#CD2305;\n",
        "    }\t   \n",
        "    div.text_cell_render{\n",
        "    /*    font-family: 'Alegreya Sans',Computer Modern, \"Helvetica Neue\", Arial, Helvetica, Geneva, sans-serif; */\n",
        "        font-family: 'Fenix', serif;\n",
        "        line-height: 105%;\n",
        "        font-size: 140%;\n",
        "        width:700px;\n",
        "        margin-left:-10% !important;\n",
        "\n",
        "    }\n",
        "    .CodeMirror{\n",
        "            font-family: 'Bitstream Vera Sans Mono','Lucida Console',monospace;\n",
        "\t\t\tfont-size: 90%;\n",
        "    }\n",
        "/*    .prompt{\n",
        "        display: None;\n",
        "    }*/\n",
        "    .text_cell_render h1 {\n",
        "        font-weight: 200;\n",
        "        font-size: 24pt;\n",
        "\t\tline-height: 100%;\n",
        "        color:#CD2305;\n",
        "        margin-bottom: 0.5em;\n",
        "        margin-top: 0.5em;\n",
        "        display: block;\n",
        "    }\t\n",
        "    .text_cell_render h5 {\n",
        "        font-weight: 300;\n",
        "        font-size: 16pt;\n",
        "        color: #CD2305;\n",
        "        font-style: italic;\n",
        "        margin-bottom: .5em;\n",
        "        margin-top: 0.5em;\n",
        "        display: block;\n",
        "    }\n",
        "    \n",
        "    .warning{\n",
        "        color: rgb( 240, 20, 20 )\n",
        "        }  \n",
        "</style>\n",
        "<script>\n",
        "    MathJax.Hub.Config({\n",
        "                        TeX: {\n",
        "                           extensions: [\"AMSmath.js\"]\n",
        "                           },\n",
        "                tex2jax: {\n",
        "                    inlineMath: [ ['$','$'], [\"\\\\(\",\"\\\\)\"] ],\n",
        "                    displayMath: [ ['$$','$$'], [\"\\\\[\",\"\\\\]\"] ]\n",
        "                },\n",
        "                displayAlign: 'center', // Change this to 'center' to center equations.\n",
        "                \"HTML-CSS\": {\n",
        "                    styles: {'.MathJax_Display': {\"margin\": 4}}\n",
        "                }\n",
        "        });\n",
        "</script>"
       ],
       "metadata": {},
       "output_type": "pyout",
       "prompt_number": 1,
       "text": [
        "<IPython.core.display.HTML at 0x107ddc8d0>"
       ]
      }
     ],
     "prompt_number": 1
    },
    {
     "cell_type": "markdown",
     "metadata": {},
     "source": [
      "<figure>\n",
      "<IMG SRC=\"images/PhysicsLogo.jpg\" WIDTH=100 ALIGN=\"right\">\n",
      "</figure>\n",
      "# [Physics 411](http://jklymak.github.io/Phy411/) Time Series Analysis\n",
      "*Jody Klymak*\n"
     ]
    },
    {
     "cell_type": "heading",
     "level": 1,
     "metadata": {},
     "source": [
      "Week 2: Statistics of Bivariate Variables"
     ]
    },
    {
     "cell_type": "markdown",
     "metadata": {},
     "source": [
      "\n",
      "<figure>\n",
      "<IMG SRC=\"http://upload.wikimedia.org/wikipedia/commons/thumb/7/77/Okuns_law_quarterly_differences.svg/1280px-Okuns_law_quarterly_differences.svg.png\" WIDTH=320 ALIGN=\"right\" STYLE=\"padding-left:20px\" ALT=\"The Trouble with QSAR (or How I Learned To Stop Worrying and Embrace Fallacy) DOI: 10.1021/ci700332k\">\n",
      "</figure>\n",
      "\n",
      "We often collect data sets, rather than just single variables.  Often we do so because we think they are related.  For instance, we might look at economic indicators and think that Gross Domestic Product and Unemployment are related, and indeed they are, as shown on the right.  \n",
      "\n",
      "\n",
      "<figure>\n",
      "<IMG SRC=\"images/mexican_lemons_thumb2.jpg\" STYLE=\"padding-left:20px\" WIDTH=320 ALIGN=\"right\" ALT=\"The Trouble with QSAR (or How I Learned To Stop Worrying and Embrace Fallacy) DOI: 10.1021/ci700332k\">\n",
      "</figure>\n",
      "\n",
      "Of course, terrible lies can be told by fitting ill-conditioned data; don't worry, the plot on the right (DOI:10.1021/ci700332k) was making the same point.  So, as scientists we alsways have to be careful to traet the data fairly.  There are some more fun examples at [Spurious Correlations](http://www.tylervigen.com).\n",
      "\n",
      "(The error made in those correlations, not shared by the economic plot above, is that they correlated data sets with long term trends that had nothing to do with each other.  The economic plot removes the large-scale trends by considering the derivative of the data, often a good idea to test true correlation between two time series.)"
     ]
    },
    {
     "cell_type": "heading",
     "level": 2,
     "metadata": {},
     "source": [
      "Correlation"
     ]
    },
    {
     "cell_type": "markdown",
     "metadata": {},
     "source": [
      "We are often interested in whether two variables are \"correlated\" or not, and there are formal methods of measuring the degree of correlation.  First, we define the joint probability density."
     ]
    },
    {
     "cell_type": "heading",
     "level": 3,
     "metadata": {},
     "source": [
      "Joint probability density"
     ]
    },
    {
     "cell_type": "markdown",
     "metadata": {},
     "source": [
      "So now we consider two random variables, $\\{x(k)\\}$ and $\\{y(k)\\}$.  These of course have their individual *probability density functions*, $p(x)$, and $p(y)$.  However we can also consider their **joint probability density** $p(x,y)$ defined in the same way as the univariate probability:\n",
      "\n",
      "\\begin{equation}\n",
      "    p(x,y) = \\displaystyle\\lim_{\\Delta y\\to 0}  \\displaystyle\\lim_{\\Delta x\\to 0} \\frac{1}{ \\Delta x \\Delta y}\\mathrm{prob}\\left[ x\\lt x(k)\\lt x+\\Delta x; \\ y\\lt y(k)\\lt y+\\Delta y\\right] \n",
      "\\end{equation}\n",
      "\n",
      "Note that $0\\leq p(x,y) \\leq 1$.  \n",
      "\n",
      "From this definition, the probability that $a\\leq x\\leq b$ *and* $c\\leq y\\leq d$ is given by the double integral:\n",
      "\n",
      "\\begin{equation}\n",
      "    \\mathrm{prob}[a\\leq x\\leq b; c\\leq y\\leq d]=\\int_c^d\\int_a^b p(x,y) \\mathrm{d}x\\mathrm{d}y\n",
      "\\end{equation}\n",
      "\n",
      "If we integrate one of the dimensions from $-\\infty$ to $\\infty$, then we recover the one-dimensional probability density of the other variable.  i.e.:\n",
      "\n",
      "\\begin{equation}\n",
      "    p(x)=\\int_{-\\infty}^{\\infty} p(x,y)\\,\\mathrm{d}y\n",
      "\\end{equation}\n",
      "\n",
      "and of course the integral of the total domain is unity:\n",
      "\\begin{equation}\n",
      "    \\int_{-\\infty}^{\\infty}\\int_{-\\infty}^{\\infty} p(x,y)\\,\\mathrm{d}x\\mathrm{d}y=1\n",
      "\\end{equation}\n",
      "\n"
     ]
    },
    {
     "cell_type": "heading",
     "level": 4,
     "metadata": {},
     "source": [
      "Example: Two Dice"
     ]
    },
    {
     "cell_type": "markdown",
     "metadata": {},
     "source": [
      "For example, lets consider two dice rolled at the same time.  These would have a joint probability density of \n",
      "\n",
      "\\begin{equation}\n",
      "    p(x,y) = \\frac{1}{36} \\sum_{x_i=1}^6\\sum_{y_i=1}^6 \\delta(x_i,y_i)\n",
      "\\end{equation}\n",
      "\n",
      "We can represent this graphically as"
     ]
    },
    {
     "cell_type": "code",
     "collapsed": false,
     "input": [
      "import numpy as np\n",
      "import matplotlib.pyplot as plt\n",
      "\n",
      "x = np.arange(1,7.,1.)\n",
      "y = np.arange(1,7.,1.)\n",
      "fig,ax=plt.subplots(1,1)\n",
      "for i in range(6):\n",
      "    ax.plot(i+1.+0.*y,y,'k.',markersize=12)\n",
      "ax.set_xlim([0,7]);ax.set_ylim([0,7])\n",
      "ax.set_xlabel('Dice x');ax.set_ylabel('Dice y');ax.set_title('Joint Prob Fcn, dice rolls')"
     ],
     "language": "python",
     "metadata": {},
     "outputs": [
      {
       "metadata": {},
       "output_type": "pyout",
       "prompt_number": 10,
       "text": [
        "<matplotlib.text.Text at 0x108a163d0>"
       ]
      },
      {
       "metadata": {},
       "output_type": "display_data",
       "png": "[encoded data removed]",
       "text": [
        "<matplotlib.figure.Figure at 0x1086abf50>"
       ]
      }
     ],
     "prompt_number": 10
    },
    {
     "cell_type": "markdown",
     "metadata": {},
     "source": [
      "where each dot represents a $\\delta(x)$ function with amplitude $1/36$.  This is a somewhat clunky representation, and if we had discrete variables like this we might just make a table.\n",
      "\n",
      "As, expected, integrating gives us the original probability of each roll on a single dice:\n",
      "\n",
      "\\begin{equation}\n",
      "    \\int_{-\\infty}^{\\infty} p(x,y)\\ \\mathrm{d}y = \\frac{1}{6} \\sum_{x_i=1}^6 \\delta(x_i)\n",
      "\\end{equation}\n"
     ]
    },
    {
     "cell_type": "heading",
     "level": 3,
     "metadata": {},
     "source": [
      "Independent variables"
     ]
    },
    {
     "cell_type": "markdown",
     "metadata": {},
     "source": [
      "The example above is an example of two independent variables.  The probability of a certain value of $x$ being rolled, $p(x)$, does not depend on a certain value of $y$ being rolled.  Formally, we say two variables are independent if their joint PDF can be written as the product of their individual PDFs:\n",
      "\n",
      "\\begin{equation}\n",
      "    p(x,y)=p(x)p(y)\n",
      "\\end{equation}\n",
      "\n",
      "We see that graphically above in that the probability densities do not depend on each other.  We can also see it from the form of the joint PDF:\n",
      "\n",
      "\\begin{align}\n",
      "    p(x,y) & = \\frac{1}{36} \\sum_{x_i=1}^6\\sum_{y_i=1}^6 \\delta(x_i)\\delta(y_i)\\\\\n",
      "    &= \\frac{1}{6} \\sum_{x_i=1}^6 \\delta(x_i)\\ \\  \\frac{1}{6}\\sum_{y_i=1}^6\\delta(y_i)\\\\\n",
      "    &= p(x)p(y)\n",
      "\\end{align}\n"
     ]
    },
    {
     "cell_type": "heading",
     "level": 4,
     "metadata": {},
     "source": [
      "Example: Not independent variables"
     ]
    },
    {
     "cell_type": "markdown",
     "metadata": {},
     "source": [
      "Lets construc a pair of random variables that are not independent.  Suppose we roll the dice, and call the result $x_k$, and we flip a coin and define $y_x=x_k+1$ if we get keads and $y_k=x_k-1$ if we get tails.  Hopefully it is obvious that $y_k$ and $x_k$ are not independent.  \n",
      "\n",
      "We can write out the math for this:\n",
      "\n",
      "\\begin{equation}\n",
      "    p(x,y) = \\frac{1}{6}\\frac{1}{2}\\sum_{x_i=1}^6 \\left[\\delta(x_i,x_i+1)+\\delta(x_i,x_i-1)\\right]\n",
      "\\end{equation}\n",
      "\n",
      "and plot it:"
     ]
    },
    {
     "cell_type": "code",
     "collapsed": false,
     "input": [
      "import numpy as np\n",
      "import matplotlib.pyplot as plt\n",
      "\n",
      "x = np.arange(1,7.,1.)\n",
      "y = np.array([-1.,1.])\n",
      "fig,ax=plt.subplots(1,1)\n",
      "for i in range(6):\n",
      "    ax.plot(i+1.+0.*y,y+i+1,'k.',markersize=12)\n",
      "ax.set_xlim([-1,7]);ax.set_ylim([-1,7.3])\n",
      "ax.set_xlabel('Dice x');ax.set_ylabel( 'y=x+coin flip');ax.set_title('Joint Prob Fcn, dice and dice + coin flip')"
     ],
     "language": "python",
     "metadata": {},
     "outputs": [
      {
       "metadata": {},
       "output_type": "pyout",
       "prompt_number": 18,
       "text": [
        "<matplotlib.text.Text at 0x1097d5b50>"
       ]
      },
      {
       "metadata": {},
       "output_type": "display_data",
       "png": "[encoded data removed]",
       "text": [
        "<matplotlib.figure.Figure at 0x10978b450>"
       ]
      }
     ],
     "prompt_number": 18
    },
    {
     "cell_type": "markdown",
     "metadata": {},
     "source": [
      "This example is not independent, as should be clear graphically, and there is no way to remove $x_i$ from the expression for the $y$-dependence of the probability function, so $p(x,y)\\neq p(x)p(y)$."
     ]
    },
    {
     "cell_type": "heading",
     "level": 4,
     "metadata": {},
     "source": [
      "Properties of independent variables:"
     ]
    },
    {
     "cell_type": "markdown",
     "metadata": {},
     "source": [
      "If variables are independent then the mean of their products is the product of their means:\n",
      "\n",
      "\\begin{align}\n",
      "E(x,y) &= \\int\\int p(x,y) \\ \\mathrm{d}x\\mathrm{d}y\\\\\n",
      "    &= \\int\\int p(x)p(y) \\ \\mathrm{d}x\\mathrm{d}y\\\\\n",
      "    &= \\int p(x)\\ \\mathrm{d}x\\, \\int p(y)\\ \\mathrm{d}y\\\\\n",
      "    &= E(x)E(y)\n",
      "\\end{align}\n",
      "\n",
      "and the variance of their sum squared is the sum of their variances.  If $x_1$ and $x_2$ have zero mean:\n",
      "\n",
      "\\begin{align}\n",
      "    E(x_1^2+x_2^2) &= E(x_1^2+x_2^2+2x_1x_2)\\\\\n",
      "    &= E(x_1^2)+E(x_2^2)+2E(x_1)E(x_2)\\\\\n",
      "    &= E(x_1^2)+E(x_2^2)\n",
      "\\end{align}"
     ]
    },
    {
     "cell_type": "heading",
     "level": 2,
     "metadata": {},
     "source": [
      "Correlation co-efficient"
     ]
    },
    {
     "cell_type": "markdown",
     "metadata": {},
     "source": [
      "The **Linear Correlation Co-efficient** is defined as\n",
      "\n",
      "\\begin{equation}\n",
      "    C_{xy} \\equiv \\frac{1}{\\sigma_x\\sigma_y}\\int_{-\\infty}^{\\infty}\\int_{-\\infty}^{\\infty} p(x,y) (x-\\mu_x)(y-\\mu_y)\\ \\mathrm{d}x\\,\\mathrm{d}y\n",
      "\\end{equation}\n",
      "\n",
      "where $\\mu_x$ is the *mean* of $x$, and $\\sigma_x^2$ is the *variance*.  Note that $-1\\leq C_{xy}\\leq+1$.  \n",
      "\n",
      "We say that two variables are **linearly uncorrelated** when $C_{xy}=0$.  \n",
      "\n",
      "Note my use of the qualifier \"linear\" in both definitions.  That is beacause this only tests if the variables are linearly uncorrelated to each other, and does not tell us if they are independent.  It is trivial to come up with an example of two dependent variables that are *linearly uncorrelated*, $C_{xy}=0$."
     ]
    },
    {
     "cell_type": "heading",
     "level": 4,
     "metadata": {},
     "source": [
      "Ex: Linearly uncorrelated, but not independent"
     ]
    },
    {
     "cell_type": "markdown",
     "metadata": {},
     "source": [
      "Suppose $x_k$ is a variable governed by a normal distribution, mean zero, standard deviation 1, $N(0,1)$.  If $y_k=x_k^2$, clearly these are not independent ($p(x,y)\\neq p(x)p(y)$).  However, the linear correlation co-efficient is zero!\n",
      "\n",
      "\\begin{align}\n",
      "    C_{xy} = \\frac{E(xy)}{\\sigma_x\\sigma_y}= \\frac{E(x^3)}{\\sigma_x\\sigma_y}=0\n",
      "\\end{align}\n",
      "\n",
      "because the cube of the Normal distribution is still a symmetric distribution about $x=0$.  \n",
      "\n",
      "So, $C_{xy}$ tells us the fraction of the variance that is linearly correlated between two variables.  "
     ]
    },
    {
     "cell_type": "heading",
     "level": 4,
     "metadata": {},
     "source": [
      "Ex: Dice roll plus coin flip"
     ]
    },
    {
     "cell_type": "markdown",
     "metadata": {},
     "source": [
      "These are clearly correlated, so lets see what the correlation co-efficient is.  \n",
      "\n"
     ]
    }
   ],
   "metadata": {}
  }
 ]
}