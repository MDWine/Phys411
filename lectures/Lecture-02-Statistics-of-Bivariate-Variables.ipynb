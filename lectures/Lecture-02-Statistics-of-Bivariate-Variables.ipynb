{
 "cells": [
  {
   "cell_type": "code",
   "execution_count": 4,
   "metadata": {
    "collapsed": false
   },
   "outputs": [
    {
     "data": {
      "text/html": [
       "<link href='http://fonts.googleapis.com/css?family=Fenix' rel='stylesheet' type='text/css'>\n",
       "<link href='http://fonts.googleapis.com/css?family=Alegreya+Sans:100,300,400,500,700,800,900,100italic,300italic,400italic,500italic,700italic,800italic,900italic' rel='stylesheet' type='text/css'>\n",
       "<link href='http://fonts.googleapis.com/css?family=Source+Code+Pro:300,400' rel='stylesheet' type='text/css'>\n",
       "<style>\n",
       "    @font-face {\n",
       "        font-family: \"Computer Modern\";\n",
       "        src: url('http://mirrors.ctan.org/fonts/cm-unicode/fonts/otf/cmunss.otf');\n",
       "    }\n",
       "    div.cell{\n",
       "        /* width:800px; */\n",
       "\t\tmargin-left:-7em;\n",
       "        margin-right:auto;\n",
       "    }\n",
       "    h1 {\n",
       "        font-family: 'Alegreya Sans', sans-serif;\n",
       "    }\n",
       "    h2 {\n",
       "        font-family: 'Alegreya Sans', sans-serif;\n",
       "        color:#CD2305;\n",
       "    }\n",
       "    h3{\n",
       "\t\tfont-family: 'Fenix', serif;\n",
       "        margin-top:12px;\n",
       "        margin-bottom: 3px;\n",
       "        color:#CD2305;\n",
       "       }\n",
       "\th4{\n",
       "\t\tfont-family: 'Fenix', serif;\n",
       "        color:#CD2305;\n",
       "       }\n",
       "    h5 {\n",
       "        font-family: 'Alegreya Sans', sans-serif;\n",
       "        color:#CD2305;\n",
       "    }\t   \n",
       "    div.text_cell_render{\n",
       "        font-family: 'Alegreya Sans',Computer Modern, \"Helvetica Neue\", Arial, Helvetica, Geneva, sans-serif; \n",
       "        /*font-family: 'Alegreya Sans', sans-serif;*/\n",
       "        font-size: 120%;\n",
       "        line-height: 120%;\n",
       "        width:55em;\n",
       "        margin-left:0% !important;\n",
       "\n",
       "    }\n",
       "    .CodeMirror{\n",
       "            font-family: 'Bitstream Vera Sans Mono','Lucida Console',monospace;\n",
       "\t\t\tfont-size: 90%;\n",
       "    }\n",
       "/*    .prompt{\n",
       "        display: None;\n",
       "    }*/\n",
       "    .text_cell_render h1 {\n",
       "        font-weight: 200;\n",
       "        font-size: 24pt;\n",
       "\t\tline-height: 100%;\n",
       "        color:#CD2305;\n",
       "        margin-bottom: 0.5em;\n",
       "        margin-top: 0.5em;\n",
       "        display: block;\n",
       "    }\t\n",
       "    .text_cell_render h5 {\n",
       "        font-weight: 300;\n",
       "        font-size: 16pt;\n",
       "        color: #CD2305;\n",
       "        font-style: italic;\n",
       "        margin-bottom: .5em;\n",
       "        margin-top: 0.5em;\n",
       "        display: block;\n",
       "    }\n",
       "    \n",
       "    .warning{\n",
       "        color: rgb( 240, 20, 20 )\n",
       "        }  \n",
       "</style>\n",
       "<script>\n",
       "    MathJax.Hub.Config({\n",
       "                        TeX: {\n",
       "                           extensions: [\"AMSmath.js\"]\n",
       "                           },\n",
       "                tex2jax: {\n",
       "                    inlineMath: [ ['$','$'], [\"\\\\(\",\"\\\\)\"] ],\n",
       "                    displayMath: [ ['$$','$$'], [\"\\\\[\",\"\\\\]\"] ]\n",
       "                },\n",
       "                displayAlign: 'center', // Change this to 'center' to center equations.\n",
       "                \"HTML-CSS\": {\n",
       "                    styles: {'.MathJax_Display': {\"margin\": 4}}\n",
       "                }\n",
       "        });\n",
       "</script>\n"
      ],
      "text/plain": [
       "<IPython.core.display.HTML object>"
      ]
     },
     "execution_count": 4,
     "metadata": {},
     "output_type": "execute_result"
    }
   ],
   "source": [
    "from IPython.core.display import HTML\n",
    "def css_styling():\n",
    "    styles = open(\"../styles/custom.css\", \"r\").read()\n",
    "    return HTML(styles)\n",
    "css_styling()"
   ]
  },
  {
   "cell_type": "markdown",
   "metadata": {},
   "source": [
    "<figure>\n",
    "<IMG SRC=\"images/PhysicsLogo.jpg\" WIDTH=100 ALIGN=\"right\">\n",
    "</figure>\n",
    "\n",
    "# [Physics 411](http://jklymak.github.io/Phy411/) Time Series Analysis\n",
    "*Jody Klymak*\n"
   ]
  },
  {
   "cell_type": "markdown",
   "metadata": {},
   "source": [
    "# Week 2: Statistics of Bivariate Variables"
   ]
  },
  {
   "cell_type": "markdown",
   "metadata": {},
   "source": [
    "\n",
    "<figure>\n",
    "<IMG SRC=\"http://upload.wikimedia.org/wikipedia/commons/thumb/7/77/Okuns_law_quarterly_differences.svg/1280px-Okuns_law_quarterly_differences.svg.png\" WIDTH=320 ALIGN=\"right\" STYLE=\"padding-left:20px\" ALT=\"The Trouble with QSAR (or How I Learned To Stop Worrying and Embrace Fallacy) DOI: 10.1021/ci700332k\">\n",
    "</figure>\n",
    "\n",
    "We often collect data sets, rather than just single variables.  Often we do so because we think they are related.  For instance, we might look at economic indicators and think that Gross Domestic Product and Unemployment are related, and indeed they are, as shown on the right.  \n",
    "\n",
    "\n",
    "<figure>\n",
    "<IMG SRC=\"images/mexican_lemons_thumb2.jpg\" STYLE=\"padding-left:20px\" WIDTH=320 ALIGN=\"right\" ALT=\"The Trouble with QSAR (or How I Learned To Stop Worrying and Embrace Fallacy) DOI: 10.1021/ci700332k\">\n",
    "</figure>\n",
    "\n",
    "Of course, terrible lies can be told by fitting ill-conditioned data; don't worry, the plot on the right (DOI:10.1021/ci700332k) was making the same point.  So, as scientists we alsways have to be careful to treat the data fairly.  There are some more fun examples at [Spurious Correlations](http://www.tylervigen.com).\n",
    "\n",
    "(The error made in those correlations, not shared by the economic plot above, is that they correlated data sets with long term trends that had nothing to do with each other.  The economic plot removes the large-scale trends by considering the derivative of the data, often a good idea to test true correlation between two time series.)"
   ]
  },
  {
   "cell_type": "markdown",
   "metadata": {},
   "source": [
    "## Correlation"
   ]
  },
  {
   "cell_type": "markdown",
   "metadata": {},
   "source": [
    "We are often interested in whether two variables are \"correlated\" or not, and there are formal methods of measuring the degree of correlation.  First, we define the joint probability density."
   ]
  },
  {
   "cell_type": "markdown",
   "metadata": {},
   "source": [
    "### Joint probability density"
   ]
  },
  {
   "cell_type": "markdown",
   "metadata": {},
   "source": [
    "Consider two random variables, $\\{x(k)\\}$ and $\\{y(k)\\}$.  These of course have their individual *probability density functions*, $p(x)$, and $p(y)$.  However we can also consider their **joint probability density** $p(x,y)$ defined in the same way as the univariate probability:\n",
    "\n",
    "\\begin{equation}\n",
    "    p(x,y) = \\displaystyle\\lim_{\\Delta y\\to 0}  \\displaystyle\\lim_{\\Delta x\\to 0} \\frac{1}{ \\Delta x \\Delta y}\\mathrm{prob}\\left[ x\\lt x(k)\\lt x+\\Delta x; \\ y\\lt y(k)\\lt y+\\Delta y\\right] \n",
    "\\end{equation}\n",
    "\n",
    "Note that $0\\leq p(x,y) \\leq 1$.  \n",
    "\n",
    "From this definition, the probability that $a\\leq x\\leq b$ *and* $c\\leq y\\leq d$ is given by the double integral:\n",
    "\n",
    "\\begin{equation}\n",
    "    \\mathrm{prob}[a\\leq x\\leq b; c\\leq y\\leq d]=\\int_c^d\\int_a^b p(x,y) \\mathrm{d}x\\mathrm{d}y\n",
    "\\end{equation}\n",
    "\n",
    "If we integrate one of the dimensions from $-\\infty$ to $\\infty$, then we recover the one-dimensional probability density of the other variable.  i.e.:\n",
    "\n",
    "\\begin{equation}\n",
    "    p(x)=\\int_{-\\infty}^{\\infty} p(x,y)\\,\\mathrm{d}y\n",
    "\\end{equation}\n",
    "\n",
    "and of course the integral of the total domain is unity:\n",
    "\\begin{equation}\n",
    "    \\int_{-\\infty}^{\\infty}\\int_{-\\infty}^{\\infty} p(x,y)\\,\\mathrm{d}x\\mathrm{d}y=1\n",
    "\\end{equation}\n",
    "\n"
   ]
  },
  {
   "cell_type": "markdown",
   "metadata": {},
   "source": [
    "#### Example: Two Dice"
   ]
  },
  {
   "cell_type": "markdown",
   "metadata": {},
   "source": [
    "For example, lets consider two dice rolled at the same time.  These would have a joint probability density of \n",
    "\n",
    "\\begin{equation}\n",
    "    p(x,y) = \\frac{1}{36} \\sum_{x_i=1}^6\\sum_{y_i=1}^6 \\delta(x_i,y_i)\n",
    "\\end{equation}\n",
    "\n",
    "We can represent this graphically as"
   ]
  },
  {
   "cell_type": "code",
   "execution_count": 11,
   "metadata": {
    "collapsed": false
   },
   "outputs": [
    {
     "data": {
      "text/plain": [
       "<matplotlib.text.Text at 0x10a3a8690>"
      ]
     },
     "execution_count": 11,
     "metadata": {},
     "output_type": "execute_result"
    },
    {
     "data": {
      "image/png": "[encoded data removed]",
      "text/plain": [
       "<matplotlib.figure.Figure at 0x10a33e490>"
      ]
     },
     "metadata": {},
     "output_type": "display_data"
    }
   ],
   "source": [
    "import numpy as np\n",
    "import matplotlib.pyplot as plt\n",
    "%matplotlib inline\n",
    "\n",
    "x = np.arange(1,7.,1.)\n",
    "y = np.arange(1,7.,1.)\n",
    "fig,ax=plt.subplots(1,1)\n",
    "for i in range(6):\n",
    "    ax.plot(i+1.+0.*y,y,'k.',markersize=12)\n",
    "ax.set_xlim([0,7]);ax.set_ylim([0,7])\n",
    "ax.set_xlabel('Dice x');ax.set_ylabel('Dice y');ax.set_title('Joint Prob Fcn, dice rolls')"
   ]
  },
  {
   "cell_type": "markdown",
   "metadata": {},
   "source": [
    "where each dot represents a $\\delta(x)$ function with amplitude $1/36$.  This is a somewhat clunky representation, and if we had discrete variables like this we might just make a table.\n",
    "\n",
    "As, expected, integrating gives us the original probability of each roll on a single dice:\n",
    "\n",
    "\\begin{equation}\n",
    "    \\int_{-\\infty}^{\\infty} p(x,y)\\ \\mathrm{d}y = \\frac{1}{6} \\sum_{x_i=1}^6 \\delta(x_i)\n",
    "\\end{equation}\n"
   ]
  },
  {
   "cell_type": "markdown",
   "metadata": {},
   "source": [
    "### Independent variables"
   ]
  },
  {
   "cell_type": "markdown",
   "metadata": {},
   "source": [
    "The example above is an example of two independent variables.  The probability of a certain value of $x$ being rolled, $p(x)$, does not depend on a certain value of $y$ being rolled.  Formally, we say two variables are independent if their joint PDF can be written as the product of their individual PDFs:\n",
    "\n",
    "\\begin{equation}\n",
    "    p(x,y)=p(x)p(y)\n",
    "\\end{equation}\n",
    "\n",
    "We see that graphically above in that the probability densities do not depend on each other.  We can also see it from the form of the joint PDF:\n",
    "\n",
    "\\begin{align}\n",
    "    p(x,y) & = \\frac{1}{36} \\sum_{x_i=1}^6\\sum_{y_i=1}^6 \\delta(x_i)\\delta(y_i)\\\\\n",
    "    &= \\frac{1}{6} \\sum_{x_i=1}^6 \\delta(x_i)\\ \\  \\frac{1}{6}\\sum_{y_i=1}^6\\delta(y_i)\\\\\n",
    "    &= p(x)p(y)\n",
    "\\end{align}\n"
   ]
  },
  {
   "cell_type": "markdown",
   "metadata": {},
   "source": [
    "#### Example: Not independent variables"
   ]
  },
  {
   "cell_type": "markdown",
   "metadata": {},
   "source": [
    "Lets construct a pair of random variables that are not independent.  Suppose we roll the dice, and call the result $x_k$, and we flip a coin and define $y_x=x_k+1$ if we get heads, and $y_k=x_k-1$ if we get tails.  Hopefully it is obvious that $y_k$ and $x_k$ are not independent.  \n",
    "\n",
    "We can write out the math for this:\n",
    "\n",
    "\\begin{equation}\n",
    "    p(x,y) = \\frac{1}{6}\\frac{1}{2}\\sum_{x_i=1}^6 \\left[\\delta(x-x_i,x-x_i+1)+\\delta(x-x_i,x-x_i-1)\\right]\n",
    "\\end{equation}\n",
    "\n",
    "and plot it:"
   ]
  },
  {
   "cell_type": "code",
   "execution_count": 12,
   "metadata": {
    "collapsed": false
   },
   "outputs": [
    {
     "data": {
      "text/plain": [
       "<matplotlib.text.Text at 0x10a6abc50>"
      ]
     },
     "execution_count": 12,
     "metadata": {},
     "output_type": "execute_result"
    },
    {
     "data": {
      "image/png": "[encoded data removed]",
      "text/plain": [
       "<matplotlib.figure.Figure at 0x10a5afc10>"
      ]
     },
     "metadata": {},
     "output_type": "display_data"
    }
   ],
   "source": [
    "import numpy as np\n",
    "import matplotlib.pyplot as plt\n",
    "\n",
    "x = np.arange(1,7.,1.)\n",
    "y = np.array([-1.,1.])\n",
    "fig,ax=plt.subplots(1,1)\n",
    "for i in range(6):\n",
    "    ax.plot(i+1.+0.*y,y+i+1,'k.',markersize=12)\n",
    "ax.set_xlim([-1,7]);ax.set_ylim([-1,7.3])\n",
    "ax.set_xlabel('Dice x');ax.set_ylabel( 'y=x+coin flip');ax.set_title('Joint Prob Fcn, dice and dice + coin flip')"
   ]
  },
  {
   "cell_type": "markdown",
   "metadata": {},
   "source": [
    "This example is not independent, as should be clear graphically, and there is no way to remove $x_i$ from the expression for the $y$-dependence of the probability function, so $p(x,y)\\neq p(x)p(y)$."
   ]
  },
  {
   "cell_type": "markdown",
   "metadata": {},
   "source": [
    "#### Properties of independent variables:"
   ]
  },
  {
   "cell_type": "markdown",
   "metadata": {},
   "source": [
    "If variables are independent then the mean of their products is the product of their means:\n",
    "\n",
    "\\begin{align}\n",
    "E(x,y) &= \\int\\int p(x,y) \\ \\mathrm{d}x\\mathrm{d}y\\\\\n",
    "    &= \\int\\int p(x)p(y) \\ \\mathrm{d}x\\mathrm{d}y\\\\\n",
    "    &= \\int p(x)\\ \\mathrm{d}x\\, \\int p(y)\\ \\mathrm{d}y\\\\\n",
    "    &= E(x)E(y)\n",
    "\\end{align}\n",
    "\n",
    "and the variance of their sum squared is the sum of their variances.  If $x_1$ and $x_2$ have zero mean:\n",
    "\n",
    "\\begin{align}\n",
    "    E((x_1+x_2)^2) &= E(x_1^2+x_2^2+2x_1x_2)\\\\\n",
    "    &= E(x_1^2)+E(x_2^2)+2E(x_1)E(x_2)\\\\\n",
    "    &= E(x_1^2)+E(x_2^2)\n",
    "\\end{align}"
   ]
  },
  {
   "cell_type": "markdown",
   "metadata": {},
   "source": [
    "### Correlation co-efficient"
   ]
  },
  {
   "cell_type": "markdown",
   "metadata": {},
   "source": [
    "The **Linear Correlation Co-efficient** is defined as\n",
    "\n",
    "\\begin{equation}\n",
    "    C_{xy} \\equiv \\frac{1}{\\sigma_x\\sigma_y}\\int_{-\\infty}^{\\infty}\\int_{-\\infty}^{\\infty} p(x,y) (x-\\mu_x)(y-\\mu_y)\\ \\mathrm{d}x\\,\\mathrm{d}y\n",
    "\\end{equation}\n",
    "\n",
    "where $\\mu_x$ is the *mean* of $x$, and $\\sigma_x^2$ is the *variance*.  Note that $-1\\leq C_{xy}\\leq+1$.  \n",
    "\n",
    "We say that two variables are **linearly uncorrelated** when $C_{xy}=0$.  \n",
    "\n",
    "Note my use of the qualifier \"linear\" in both definitions.  That is beacause this only tests if the variables are linearly uncorrelated to each other, and does not tell us if they are independent.  It is trivial to come up with an example of two dependent variables that are *linearly uncorrelated*, $C_{xy}=0$."
   ]
  },
  {
   "cell_type": "markdown",
   "metadata": {},
   "source": [
    "#### Ex: Linearly uncorrelated, but not independent"
   ]
  },
  {
   "cell_type": "markdown",
   "metadata": {},
   "source": [
    "Suppose $x_k$ is a variable governed by a normal distribution, mean zero, standard deviation 1, $N(0,1)$.  If $y_k=x_k^2$, clearly these are not independent ($p(x,y)\\neq p(x)p(y)$).  However, the linear correlation co-efficient is zero!\n",
    "\n",
    "\\begin{align}\n",
    "    C_{xy} = \\frac{E(xy)}{\\sigma_x\\sigma_y}= \\frac{E(x^3)}{\\sigma_x\\sigma_y}=0\n",
    "\\end{align}\n",
    "\n",
    "because the cube of the Normal distribution is still a symmetric distribution about $x=0$.  \n",
    "\n",
    "So, $C_{xy}$ tells us the fraction of the variance that is linearly correlated between two variables.  "
   ]
  },
  {
   "cell_type": "markdown",
   "metadata": {},
   "source": [
    "#### Ex: Dice roll plus coin flip"
   ]
  },
  {
   "cell_type": "markdown",
   "metadata": {},
   "source": [
    "These are clearly correlated, so lets see what the correlation co-efficient is.  We could muck around with summations, but lets just do it in python."
   ]
  },
  {
   "cell_type": "code",
   "execution_count": 13,
   "metadata": {
    "collapsed": false
   },
   "outputs": [
    {
     "name": "stdout",
     "output_type": "stream",
     "text": [
      "[[ 0.08333333  0.          0.          0.          0.          0.        ]\n",
      " [ 0.          0.08333333  0.          0.          0.          0.        ]\n",
      " [ 0.08333333  0.          0.08333333  0.          0.          0.        ]\n",
      " [ 0.          0.08333333  0.          0.08333333  0.          0.        ]\n",
      " [ 0.          0.          0.08333333  0.          0.08333333  0.        ]\n",
      " [ 0.          0.          0.          0.08333333  0.          0.08333333]\n",
      " [ 0.          0.          0.          0.          0.08333333  0.        ]\n",
      " [ 0.          0.          0.          0.          0.          0.08333333]]\n",
      "var x = 2.92\n",
      "var x = 3.92\n",
      "Cxy= 0.86\n",
      "slow Cxy= 0.86\n"
     ]
    }
   ],
   "source": [
    "x=np.arange(1,7)-3.5\n",
    "y=np.arange(0,8)-3.5 # subtract the mean\n",
    "\n",
    "p = np.zeros((8,6))\n",
    "for i in range(6):\n",
    "    \n",
    "    p[i,i]+=1./12.\n",
    "    p[i+2,i]+=1./12.\n",
    "\n",
    "print p\n",
    "# get the 1-d pdfs:\n",
    "px = np.sum(p,axis=0)\n",
    "py = np.sum(p,axis=1)\n",
    "# get the variances\n",
    "sx2=np.sum(px*x**2)\n",
    "print 'var x = %1.2f'%sx2\n",
    "sy2=np.sum(py*y**2)\n",
    "print 'var x = %1.2f'%sy2\n",
    "\n",
    "# calculate the correlation co-efficient\n",
    "X,Y=np.meshgrid(x,y) # make a grid of x and y.  Fast way.\n",
    "C=np.sum(X*Y*p)/np.sqrt(sx2)/np.sqrt(sy2)\n",
    "print 'Cxy= %1.2f'%C\n",
    "\n",
    "# slow:\n",
    "C=0\n",
    "for xi,xx in enumerate(x):\n",
    "    for yi,yy in enumerate(y):\n",
    "        C+=xx*yy*p[yi,xi]\n",
    "C=C/np.sqrt(sx2)/np.sqrt(sy2)\n",
    "print 'slow Cxy= %1.2f'%C"
   ]
  },
  {
   "cell_type": "markdown",
   "metadata": {},
   "source": [
    "### Approximations with real data"
   ]
  },
  {
   "cell_type": "markdown",
   "metadata": {},
   "source": [
    "#### Approximate joint PDFs"
   ]
  },
  {
   "cell_type": "markdown",
   "metadata": {},
   "source": [
    "Of course with real data we do not know the joint pdf and we have to estimate the correlation co-efficients (just like we have to estimate the mean and the variance).  Often we get a feel for the joint pdf just by plotting the two variables as dots versus one another.\n",
    "\n",
    "Lets say $x$ is a variable, and $y=x+n$, where $n$ is some noise on top of $x$.  We would probably intuit that these are correlated if we looked at a scatter plot."
   ]
  },
  {
   "cell_type": "code",
   "execution_count": 14,
   "metadata": {
    "collapsed": false
   },
   "outputs": [
    {
     "data": {
      "text/plain": [
       "<matplotlib.text.Text at 0x10a612610>"
      ]
     },
     "execution_count": 14,
     "metadata": {},
     "output_type": "execute_result"
    },
    {
     "data": {
      "image/png": "[encoded data removed]",
      "text/plain": [
       "<matplotlib.figure.Figure at 0x10a741dd0>"
      ]
     },
     "metadata": {},
     "output_type": "display_data"
    }
   ],
   "source": [
    "N=200\n",
    "ntosig=0.3\n",
    "x = np.random.randn(N)\n",
    "y = x + np.random.randn(N)*ntosig\n",
    "fig,ax=plt.subplots(1,1)\n",
    "ax.plot(x,y,'.')\n",
    "ax.set_xlabel('x [V]');ax.set_ylabel('y [V]')"
   ]
  },
  {
   "cell_type": "markdown",
   "metadata": {},
   "source": [
    "Of course if there are too many data points this can get quite messy:"
   ]
  },
  {
   "cell_type": "code",
   "execution_count": 15,
   "metadata": {
    "collapsed": false
   },
   "outputs": [
    {
     "data": {
      "text/plain": [
       "<matplotlib.text.Text at 0x10a856110>"
      ]
     },
     "execution_count": 15,
     "metadata": {},
     "output_type": "execute_result"
    },
    {
     "data": {
      "image/png": "[encoded data removed]",
      "text/plain": [
       "<matplotlib.figure.Figure at 0x106b6e9d0>"
      ]
     },
     "metadata": {},
     "output_type": "display_data"
    }
   ],
   "source": [
    "N=20000\n",
    "ntosig=0.3\n",
    "x = np.random.randn(N)\n",
    "y = x + np.random.randn(N)*ntosig\n",
    "fig,ax=plt.subplots(1,1)\n",
    "ax.plot(x,y,'.')\n",
    "ax.set_xlabel('x [V]');ax.set_ylabel('y [V]')"
   ]
  },
  {
   "cell_type": "markdown",
   "metadata": {},
   "source": [
    "An alternative is to contour or pseudo contour the data density in bins, just like we did histgrams for univariate data.  `matplotlib` provides a simple function for this."
   ]
  },
  {
   "cell_type": "code",
   "execution_count": 16,
   "metadata": {
    "collapsed": false
   },
   "outputs": [
    {
     "data": {
      "text/plain": [
       "<matplotlib.text.Text at 0x10ab792d0>"
      ]
     },
     "execution_count": 16,
     "metadata": {},
     "output_type": "execute_result"
    },
    {
     "data": {
      "image/png": "[encoded data removed]",
      "text/plain": [
       "<matplotlib.figure.Figure at 0x106b7c490>"
      ]
     },
     "metadata": {},
     "output_type": "display_data"
    }
   ],
   "source": [
    "import matplotlib.cm as cm # import the colormaps.\n",
    "\n",
    "fig,ax=plt.subplots(1,1)\n",
    "(n,xx,yy,im)=ax.hist2d(x,y,bins=100,cmap=cm.Reds,cmin=0.,normed=True)\n",
    "plt.colorbar(im,shrink=0.5)\n",
    "ax.set_xlabel('x [V]');ax.set_ylabel('y [V]');ax.set_title('Joint PDF of x and y')"
   ]
  },
  {
   "cell_type": "markdown",
   "metadata": {},
   "source": [
    "This is a little more helpful when there is so much data to look at. "
   ]
  },
  {
   "cell_type": "markdown",
   "metadata": {},
   "source": [
    "#### Approximate correlation co-efficient"
   ]
  },
  {
   "cell_type": "markdown",
   "metadata": {},
   "source": [
    "This is calculated as you might expect:\n",
    "\n",
    "\\begin{equation}\n",
    "      r_{xy} = \\frac{s_{xy}}{s_xs_y} =\\frac{1}{N-1}\\frac{\\sum_{i=1}^N (x_i-\\overline{x})(y_i-\\overline{y})}{s_xs_y}\n",
    "\\end{equation}\n",
    "\n",
    "Note, of course, that $r_{xy}$ is a random variable, and therefore has a probability distribution function, means, and variances.  It therefore is subject to confidence intervals.\n",
    "\n",
    "A clever person named Fisher figured out that if we consider the function of $r_{xy}=r$\n",
    "\n",
    "\\begin{equation}\n",
    "    F(r)=\\mathrm{arctanh}(r)\n",
    "\\end{equation}\n",
    "then $F(r)$ approaches a Normal distribution as $N\\to\\infty$, with a standard devaition of $\\sigma_F=\\frac{1}{\\sqrt{N-3}}$.\n",
    "\n",
    "So, if we calculate $r$, then the 95% confidence interval for $F(r)$ is $\\pm 1.96/\\sqrt{N-3}$, and we can calculate the confidence intervals on $r$ by taking $\\tanh\\left(F(r)\\pm1.96/\\sqrt{N-3}\\right)$.  (Remember the 95% confidence intervals for a Gaussian with standard deviation of 1 is $\\pm1.96$)\n",
    "\n",
    "Consider the following example with the data from above:"
   ]
  },
  {
   "cell_type": "code",
   "execution_count": 18,
   "metadata": {
    "collapsed": false
   },
   "outputs": [
    {
     "name": "stdout",
     "output_type": "stream",
     "text": [
      "0.981199620479\n",
      "r= 0.981 (0.980,0.982)\n"
     ]
    }
   ],
   "source": [
    "N=7000\n",
    "ntosig=.2\n",
    "x = np.random.randn(N);x=x-np.mean(x)\n",
    "y = x + np.random.randn(N)*ntosig;y=y-np.mean(y)\n",
    "\n",
    "r = np.sum(x*y)/np.std(x,ddof=1)/np.std(y,ddof=1)/(N-1)\n",
    "print r\n",
    "F = np.arctanh(r)\n",
    "Fp95 = F+1.96/np.sqrt(N-3)\n",
    "Fm95 = F-1.96/np.sqrt(N-3)\n",
    "rp=np.tanh(Fp95)\n",
    "rm=np.tanh(Fm95)\n",
    "print \"r= %1.3f (%1.3f,%1.3f)\"%(r,rm,rp)"
   ]
  },
  {
   "cell_type": "markdown",
   "metadata": {},
   "source": [
    "So, for the correlation co-efficient between $x$ and $y$ is estimated to be between 0.980 and 0.982, 95% of the time.   If we had less data the spread in the 95% confidence interval would be wider:"
   ]
  },
  {
   "cell_type": "code",
   "execution_count": 24,
   "metadata": {
    "collapsed": false
   },
   "outputs": [
    {
     "name": "stdout",
     "output_type": "stream",
     "text": [
      "0.987581013533\n",
      "r= 0.988 (0.946,0.997)\n"
     ]
    }
   ],
   "source": [
    "N=10\n",
    "ntosig=0.2\n",
    "x = np.random.randn(N);x=x-np.mean(x)\n",
    "y = x + np.random.randn(N)*ntosig;y=y-np.mean(y)\n",
    "\n",
    "r = np.sum(x*y)/np.std(x,ddof=1)/np.std(y,ddof=1)/(N-1)\n",
    "print r\n",
    "F = np.arctanh(r)\n",
    "Fp95 = F+1.96/np.sqrt(N-3)\n",
    "Fm95 = F-1.96/np.sqrt(N-3)\n",
    "rp=np.tanh(Fp95)\n",
    "rm=np.tanh(Fm95)\n",
    "print \"r= %1.3f (%1.3f,%1.3f)\"%(r,rm,rp)"
   ]
  },
  {
   "cell_type": "markdown",
   "metadata": {},
   "source": [
    "## Linear Regression"
   ]
  },
  {
   "cell_type": "markdown",
   "metadata": {},
   "source": [
    "Suppose we have a linear process $y$ that depends on variable $x$.  Then $\\tilde{y}=A+Bx$.  However, of course we have noise on any real measurements so we collect $y_k = \\tilde{y}_k + \\epsilon_k$ where $\\epsilon_k$ is a noise process.  \n",
    "\n",
    "So, suppose we measure $y_k$ $N$ times, and that we know $x_k$. **Linear regression** fits $y_k$ to a linear model as a function of $x$ that minimizes the magnitude of the noise.  To do this, we define the mean error as:\n",
    "\n",
    "\\begin{align}\n",
    "    Q & \\equiv  \\sum_{i=1}^N \\epsilon_i^2\\\\\n",
    "        &=  \\sum_{i=1}^N (y_i-a-bx_i)^2\\\\\n",
    "\\end{align}\n",
    "\n",
    "<figure>\n",
    "<IMG SRC=\"images/Regress.png\" WIDTH=370  STYLE=\"padding-left:20px\">\n",
    "</figure>\n",
    "\n",
    "So our fit for $A$ and $B$ will be $a$ and $b$.  We want to minimize $Q$, so we want\n",
    "\\begin{equation}\n",
    "    \\frac{\\partial Q}{\\partial a} =  \\frac{\\partial Q}{\\partial b} = 0\n",
    "\\end{equation}\n",
    "The first is easy:\n",
    "\\begin{align}\n",
    "    0 & = \\frac{\\partial Q}{\\partial a} \\\\\n",
    "        &=  -\\sum_{i=1}^N 2 (y_i-a-bx_i)\\\\\n",
    "        &=  \\overline{y}-a-b\\overline{x}\\\\\n",
    "\\end{align}\n",
    "or $a=\\overline{y}-b\\overline{x}$\n",
    "\n",
    "The second is:\n",
    "\\begin{align}\n",
    "    0 & = \\frac{\\partial Q}{\\partial b} \\\\\n",
    "        &=   -\\sum_{i=1}^N 2 (y_i-a-bx_i)x_i\\\\\n",
    "        &=  \\sum_{i=1}^N  (y_i-\\overline{y}+b\\overline{x}-bx_i)x_i\\\\\n",
    "\\end{align}\n",
    "So\n",
    "\\begin{align}\n",
    "    b &= \\frac{\\sum_{i=1}^N  \\left(y_i-\\overline{y}\\right)x_i} {\\sum_{i=1}^N  \\left(x_i-\\overline{x}\\right)x_i}\\\\\n",
    "    &= \\frac{\\sum_{i=1}^N  x_iy_i-N\\overline{x}\\overline{y}} {\\sum_{i=1}^N x_i^2-N\\overline{x}^2}\n",
    "\\end{align}\n",
    "\n",
    "It is worth noting that the fit line passes through the point $(\\overline{x},\\overline{y})$, so it is often helpful to simply remove the mean of x and y and minimize the error in the overdetermined equation:\n",
    "\n",
    "\\begin{equation}\n",
    "    \\mathbf{y} = b \\mathbf{x}\n",
    "\\end{equation}\n",
    "\n",
    "The same result ensues.  \n",
    "\n",
    "The slope fit $b$ is a random variables, and as such has an uncertainty associated with it.  If $y$ given $x$ is Normally distributed, then the varaible \n",
    "\n",
    "\n",
    "\\begin{equation}\n",
    "    \\left(b-E(b)\\right) \\left( \\sum_{i=1}^N \\left(x_i-\\overline{x}\\right)^2\\right)^{1/2}\n",
    "    = s_{y|x} t_{N-2}\n",
    "\\end{equation}\n",
    "\n",
    "follows a student-t distribution with $N-2$ degrees of freedom, and standard devaition given by $s_{y|x}$, the sample standard deviation of the observed values about the prediction:\n",
    "\n",
    "\\begin{equation}\n",
    "     s_{y|x} = \\left[\\frac{\\sum_{i=1}^N \\left( y_i-\\tilde{y}_i \\right)^2 }{N-2} \\right]^{1/2}\n",
    "\\end{equation}\n",
    "\n",
    "Note that it is really only $b$ that is truly random, because no matter what the fit it passes through $\\overline{x},\\overline{y}$, so $a$ changes to make that happen.  \n",
    "\n"
   ]
  },
  {
   "cell_type": "markdown",
   "metadata": {},
   "source": [
    "### Example from above"
   ]
  },
  {
   "cell_type": "markdown",
   "metadata": {},
   "source": [
    "Just using the data from above, we can perform a linear regression.  What do we expect the values of $b$ and $a$ to be?"
   ]
  },
  {
   "cell_type": "code",
   "execution_count": 25,
   "metadata": {
    "collapsed": false
   },
   "outputs": [
    {
     "name": "stdout",
     "output_type": "stream",
     "text": [
      "10\n",
      "Slope b is between 0.907184 and 1.177583 with 95% probability\n"
     ]
    },
    {
     "data": {
      "text/plain": [
       "<matplotlib.collections.PolyCollection at 0x10aff0610>"
      ]
     },
     "execution_count": 25,
     "metadata": {},
     "output_type": "execute_result"
    },
    {
     "data": {
      "image/png": "[encoded data removed]",
      "text/plain": [
       "<matplotlib.figure.Figure at 0x10ab59dd0>"
      ]
     },
     "metadata": {},
     "output_type": "display_data"
    }
   ],
   "source": [
    "print N\n",
    "b = np.sum(x*y)-N*np.mean(x)*np.mean(y)\n",
    "b = b/(np.sum(x**2)-N*np.mean(x)**2)\n",
    "a = np.mean(y)-b*np.mean(x)\n",
    "yhat=b*x+a\n",
    "\n",
    "fig,ax=plt.subplots(1,1)\n",
    "ax.plot(x,y,'.')\n",
    "ax.plot(x,yhat,'-',label='Fit: y=%1.4f+%1.4fx'%(a,b))\n",
    "plt.legend(loc=0)\n",
    "ax.set_xlabel('X [V]');ax.set_ylabel('Y [V]');\n",
    "\n",
    "# get the error bounds...\n",
    "syx=np.sqrt(np.sum((y-yhat)**2)/(N-2))\n",
    "import scipy.stats as stats\n",
    "\n",
    "bdn,bup=stats.t.interval(0.95,df=N-2,scale=syx)\n",
    "bb=np.array([bdn,bup])\n",
    "bb=bb/np.sqrt(np.sum((x-np.mean(x))**2))\n",
    "print 'Slope b is between %f and %f with 95%% probability'%(b+bb[0],b+bb[1])\n",
    "xx=np.sort(x)\n",
    "yhathigh=(b+bb[1])*(xx-np.mean(x))+np.mean(y)\n",
    "yhatlow=(b+bb[0])*(xx-np.mean(x))+np.mean(y)\n",
    "ax.fill_between(xx,yhathigh,yhatlow,alpha=0.4)"
   ]
  },
  {
   "cell_type": "markdown",
   "metadata": {},
   "source": [
    "This conforms to our expectation based on how y was made.  Of course if we had more data, the confidence in the slope would be better."
   ]
  },
  {
   "cell_type": "code",
   "execution_count": 28,
   "metadata": {
    "collapsed": false
   },
   "outputs": [
    {
     "name": "stdout",
     "output_type": "stream",
     "text": [
      "7000\n",
      "Slope b is between 0.994549 and 1.003727 with 95% probability\n"
     ]
    },
    {
     "data": {
      "text/plain": [
       "((-4.0, 4.0), (-4.0, 4.0))"
      ]
     },
     "execution_count": 28,
     "metadata": {},
     "output_type": "execute_result"
    },
    {
     "data": {
      "image/png": "[encoded data removed]",
      "text/plain": [
       "<matplotlib.figure.Figure at 0x10a369e50>"
      ]
     },
     "metadata": {},
     "output_type": "display_data"
    }
   ],
   "source": [
    "N=7000\n",
    "ntosig=.2\n",
    "np.random.seed(456)\n",
    "x = np.random.randn(N);x=x-np.mean(x)\n",
    "np.random.seed(986)\n",
    "y = x + np.random.randn(N)*ntosig;y=y-np.mean(y)\n",
    "np.random.seed()\n",
    "\n",
    "print N\n",
    "b = np.sum(x*y)-N*np.mean(x)*np.mean(y)\n",
    "b = b/(np.sum(x**2)-N*np.mean(x)**2)\n",
    "a = np.mean(y)-b*np.mean(x)\n",
    "yhat=b*x+a\n",
    "\n",
    "fig,ax=plt.subplots(1,1)\n",
    "ax.plot(x,y,'.')\n",
    "ax.plot(x,yhat,'-',label='Fit: y=%1.4f+%1.4fx'%(a,b))\n",
    "plt.legend(loc=0)\n",
    "ax.set_xlabel('X [V]');ax.set_ylabel('Y [V]');\n",
    "\n",
    "# get the error bounds...\n",
    "syx=np.sqrt(np.sum((y-yhat)**2)/(N-2))\n",
    "import scipy.stats as stats\n",
    "bdn,bup=stats.t.interval(0.95,df=N-2,scale=syx)\n",
    "bb=np.array([bdn,bup])\n",
    "bb=bb/np.sqrt(np.sum((x-np.mean(x))**2))\n",
    "print 'Slope b is between %f and %f with 95%% probability'%(b+bb[0],b+bb[1])\n",
    "xx=np.sort(x)\n",
    "yhathigh=(b+bb[1])*(xx-np.mean(x))+np.mean(y)\n",
    "yhatlow=(b+bb[0])*(xx-np.mean(x))+np.mean(y)\n",
    "ax.fill_between(xx,yhathigh,yhatlow,alpha=0.4)\n",
    "ax.set_xlim([-4.,4.]),ax.set_ylim([-4.,4.])"
   ]
  },
  {
   "cell_type": "markdown",
   "metadata": {},
   "source": [
    "### Quantifying the goodness of fit"
   ]
  },
  {
   "cell_type": "markdown",
   "metadata": {},
   "source": [
    "Determining if any model is a \"good fit\" is somewhat subjective, and depends on your data and your model.  Obviously, if we fit a straight line to two data points the fit is perfect, but the result is meaningless unless we are sure there is no error in those two data points.  \n",
    "\n",
    "The **Linear Correlation Co-efficient** is often denoted $R^2$, and for $x$ and $y$ *with zero mean* is given by:\n",
    "\n",
    "\\begin{equation}\n",
    "    R^2 = \\frac{\\left(\\sum xy \\right)^2}{\\sum x^2 \\sum y^2}\n",
    "\\end{equation}\n",
    "\n",
    "and is the same as the correlation co-efficient given above.  Note that this can be calculated without recourse to the fitting of the linear model, and as we discussed gives the fraction of the data that is linearly correlated between the two data populations.\n",
    "\n",
    "The **Standard Error** is simply the error in the slope described above.\n",
    "\n",
    "However, there is a problem.  What happens if we have a big outlier?"
   ]
  },
  {
   "cell_type": "code",
   "execution_count": 29,
   "metadata": {
    "collapsed": false
   },
   "outputs": [
    {
     "name": "stdout",
     "output_type": "stream",
     "text": [
      "20\n",
      "Slope b is between 7.917030 and 8.603723 with 95% probability\n"
     ]
    },
    {
     "data": {
      "text/plain": [
       "<matplotlib.collections.PolyCollection at 0x10cbd59d0>"
      ]
     },
     "execution_count": 29,
     "metadata": {},
     "output_type": "execute_result"
    },
    {
     "data": {
      "image/png": "[encoded data removed]",
      "text/plain": [
       "<matplotlib.figure.Figure at 0x10ab26c50>"
      ]
     },
     "metadata": {},
     "output_type": "display_data"
    }
   ],
   "source": [
    "N=20\n",
    "ntosig=.4\n",
    "np.random.seed(456)\n",
    "\n",
    "x = np.random.randn(N);\n",
    "x[0]=50.\n",
    "x=x-np.mean(x)\n",
    "np.random.seed(986)\n",
    "yy= np.random.randn(N)*ntosig;\n",
    "yy[0]=yy[0]*1000.\n",
    "y = x +yy\n",
    "y=y-np.mean(y)\n",
    "np.random.seed()\n",
    "\n",
    "print N\n",
    "b = np.sum(x*y)-N*np.mean(x)*np.mean(y)\n",
    "b = b/(np.sum(x**2)-N*np.mean(x)**2)\n",
    "a = np.mean(y)-b*np.mean(x)\n",
    "yhat=b*x+a\n",
    "\n",
    "fig,ax=plt.subplots(1,1)\n",
    "ax.plot(x,y,'.')\n",
    "ax.plot(x,yhat,'-',label='Fit: y=%1.4f+%1.4fx'%(a,b))\n",
    "plt.legend(loc=0)\n",
    "ax.set_xlabel('X [V]');ax.set_ylabel('Y [V]');\n",
    "\n",
    "# get the error bounds...\n",
    "syx=np.sqrt(np.sum((y-yhat)**2)/(N-2))\n",
    "import scipy.stats as stats\n",
    "bdn,bup=stats.t.interval(0.95,df=N-2,scale=syx)\n",
    "bb=np.array([bdn,bup])\n",
    "bb=bb/np.sqrt(np.sum((x-np.mean(x))**2))\n",
    "print 'Slope b is between %f and %f with 95%% probability'%(b+bb[0],b+bb[1])\n",
    "xx=np.sort(x)\n",
    "yhathigh=(b+bb[1])*(xx-np.mean(x))+np.mean(y)\n",
    "yhatlow=(b+bb[0])*(xx-np.mean(x))+np.mean(y)\n",
    "ax.fill_between(xx,yhathigh,yhatlow,alpha=0.4)\n",
    "#ax.set_xlim([-4.,4.]),ax.set_ylim([-4.,4.])"
   ]
  },
  {
   "cell_type": "markdown",
   "metadata": {},
   "source": [
    "Hopefully a good data analyst would look at this plot and decide that the fit, while good to the outlier and the center of the true data cloud, is dominating the linear fit.  There is no standard \"goodness of fit\" that will magically tell you if this point is useful or not, or if it deserves to skew all your data.\n",
    "\n",
    "This point of course violates the asumption that $y_i-\\tilde{y}_i$ is normally distributed.  One way to check this would be to **Bootstrap** the data."
   ]
  },
  {
   "cell_type": "markdown",
   "metadata": {},
   "source": [
    "### Bootstrapped slope estimates"
   ]
  },
  {
   "cell_type": "markdown",
   "metadata": {},
   "source": [
    "Bootstrapping is a very useful statistical technique that allows us to tease out statistical relationships that make no assumptions about the underlying statistics.  \n",
    "\n",
    "In the  case above we don't know that the outlier violates our underlying assumptions.  However, we can plot it and see it is an outlier pretty easily.  We can also think about what would happen if we fit only 1/3 of the data a bunch of random times, and see what the resulting distribution of the slope $b$ is.  We might expect $b$ to have a binomial distribution in that case, $b\\approx 1$ where the outlier is not in the data, and $b\\approx 10$ when the outlier is there.  \n",
    "\n",
    "To perform the bootstrap we take a random subsample of our data of length $N/3$ for instance, and we recalculate the slope a few hundred times:"
   ]
  },
  {
   "cell_type": "code",
   "execution_count": 32,
   "metadata": {
    "collapsed": false
   },
   "outputs": [
    {
     "name": "stdout",
     "output_type": "stream",
     "text": [
      "20\n"
     ]
    }
   ],
   "source": [
    "# do the bootstrap:\n",
    "Nboot=1000\n",
    "print N\n",
    "Nsub=np.floor(N/3)\n",
    "bs=np.zeros(Nboot)\n",
    "\n",
    "for i in range(Nboot):\n",
    "    inds=np.random.rand(Nsub)\n",
    "    inds = np.floor(inds*N).astype(int)\n",
    "    b = np.sum(x[inds]*y[inds])-Nsub*np.mean(x[inds])*np.mean(y[inds])\n",
    "    b = b/(np.sum(x[inds]**2)-Nsub*np.mean(x[inds])**2)\n",
    "    bs[i]=b"
   ]
  },
  {
   "cell_type": "code",
   "execution_count": 33,
   "metadata": {
    "collapsed": false
   },
   "outputs": [
    {
     "data": {
      "text/plain": [
       "<matplotlib.text.Text at 0x10af23ad0>"
      ]
     },
     "execution_count": 33,
     "metadata": {},
     "output_type": "execute_result"
    },
    {
     "data": {
      "image/png": "[encoded data removed]",
      "text/plain": [
       "<matplotlib.figure.Figure at 0x10a7ee550>"
      ]
     },
     "metadata": {},
     "output_type": "display_data"
    }
   ],
   "source": [
    "fig,ax=plt.subplots(1,1)\n",
    "ax.hist(bs,100,normed=True);\n",
    "ax.set_xlabel('b')\n",
    "ax.set_ylabel('PDF')"
   ]
  },
  {
   "cell_type": "markdown",
   "metadata": {},
   "source": [
    "So, we see two things.  First is that the distribution of $b$ is indeed binomial, with a mode near 8.5, an a second near 1.  We can also see that the distribution of $b$ around those two modes does look Normal, or close to it.  The bootstrapping proceedure has allowed us to see that there are two underlying trends in the data.  However, if there were more points along the $b=8.5$ line and they were randomly interspersed with data on the $b=1.0$ even this procedure will have difficulty determining the change in slope.  In that case we would need to rely on some other clever model or a way to screen separate the two processes from one another."
   ]
  }
 ],
 "metadata": {
  "kernelspec": {
   "display_name": "Python 2",
   "language": "python",
   "name": "python2"
  },
  "language_info": {
   "codemirror_mode": {
    "name": "ipython",
    "version": 2
   },
   "file_extension": ".py",
   "mimetype": "text/x-python",
   "name": "python",
   "nbconvert_exporter": "python",
   "pygments_lexer": "ipython2",
   "version": "2.7.10"
  }
 },
 "nbformat": 4,
 "nbformat_minor": 0
}
