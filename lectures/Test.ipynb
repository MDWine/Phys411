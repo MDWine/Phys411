{
 "cells": [
  {
   "cell_type": "markdown",
   "metadata": {},
   "source": [
    "\\begin{align}\n",
    "    \\mathbf{C}_k\\cdot \\mathbf{C}_l & = \\sum_{n=1}^N \\cos\\left(\\frac{2\\pi k n}{N} \\right) \\cos\\left(\\frac{2\\pi l n}{N} \\right)\\\\\n",
    "    &= \\sum_{n=1}^N \\frac{1}{2} \\left(\n",
    "        \\cos\\left(\\frac{2\\pi n}{N} (k+l)\\right) + \n",
    "        \\cos\\left(\\frac{2\\pi n}{N} (k-l)\\right) \n",
    "        \\right)\\\\\n",
    "    &= \\frac{N}{2}\\, \\delta(k-l)  \\\\\n",
    "     \\mathbf{S}_k\\cdot \\mathbf{S}_l &= \\frac{N}{2}\\,\\delta(k-l)\\\\\n",
    "    \\mathbf{C}_k\\cdot \\mathbf{S}_l &= 0\\\\\n",
    "\\end{align}"
   ]
  },
  {
   "cell_type": "code",
   "execution_count": null,
   "metadata": {
    "collapsed": true
   },
   "outputs": [],
   "source": []
  }
 ],
 "metadata": {
  "kernelspec": {
   "display_name": "Python 2",
   "language": "python",
   "name": "python2"
  },
  "language_info": {
   "codemirror_mode": {
    "name": "ipython",
    "version": 2
   },
   "file_extension": ".py",
   "mimetype": "text/x-python",
   "name": "python",
   "nbconvert_exporter": "python",
   "pygments_lexer": "ipython2",
   "version": "2.7.10"
  }
 },
 "nbformat": 4,
 "nbformat_minor": 0
}
