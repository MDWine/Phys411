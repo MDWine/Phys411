{
 "cells": [
  {
   "cell_type": "code",
   "execution_count": null,
   "metadata": {
    "cellrole": "header",
    "collapsed": false,
    "deletable": false,
    "nbgrader": {
     "checksum": "097c7a720c7abbc46c92ccf8e10a5e17",
     "grade": false,
     "grade_id": "a",
     "locked": true,
     "solution": false
    }
   },
   "outputs": [],
   "source": [
    "%matplotlib inline"
   ]
  },
  {
   "cell_type": "markdown",
   "metadata": {
    "deletable": false,
    "nbgrader": {
     "checksum": "bc8cb96301d34b18912788088061cf70",
     "grade": false,
     "grade_id": "b",
     "locked": true,
     "solution": false
    }
   },
   "source": [
    "<figure>\n",
    "<IMG SRC=\"../lectures/images/PhysicsLogo.jpg\" WIDTH=100 ALIGN=\"right\">\n",
    "</figure>\n",
    "# [Physics 411](http://jklymak.github.io/Phy411/) Time Series Analysis\n",
    "*Jody Klymak*\n"
   ]
  },
  {
   "cell_type": "markdown",
   "metadata": {
    "deletable": false,
    "nbgrader": {
     "checksum": "c29408e3fb086f5f8865023fb7c8ab1f",
     "grade": false,
     "grade_id": "c",
     "locked": true,
     "solution": false
    }
   },
   "source": [
    "# Assignment 1"
   ]
  },
  {
   "cell_type": "markdown",
   "metadata": {
    "deletable": false,
    "nbgrader": {
     "checksum": "d02129ca50db2623373d78fb97ba6cfb",
     "grade": false,
     "grade_id": "simsignals",
     "locked": true,
     "solution": false
    }
   },
   "source": [
    "## Q1: Simulate aliasing of sinusoidal signals\n",
    "\n",
    "For this problem you will simulate the phenomena of aliasing.  This will give you pracitice in making synthetic time series, subsetting data, and plotting your results.\n",
    "\n",
    "**1** To start, make a time vector that goes from 0 to 120 s, with 10000 entries in it.  Then make a synthetic time series that has two close in frequency sine waves:\n",
    "\n",
    "$$ x = A_1 \\cos (\\omega t) + A_2 \\cos ((\\omega_1+\\delta \\omega ) t) $$\n",
    "\n",
    "where $\\omega$ is the \"carrier\" frequency, and $\\delta \\omega << \\omega$ is the difference in frequencies between the two waves.  For simplicty, you could make $A_1=A_2=1. [V]$.  Feel free to choose an interesting $\\omega$.\n",
    "\n",
    "<hr>"
   ]
  },
  {
   "cell_type": "code",
   "execution_count": null,
   "metadata": {
    "collapsed": false,
    "deletable": false,
    "nbgrader": {
     "checksum": "615a3555604924ddd12af9c6646e2bec",
     "grade": true,
     "grade_id": "a1_1",
     "locked": false,
     "points": 2,
     "solution": true
    }
   },
   "outputs": [],
   "source": [
    "# YOUR CODE HERE\n",
    "raise NotImplementedError()"
   ]
  },
  {
   "cell_type": "markdown",
   "metadata": {
    "deletable": false,
    "nbgrader": {
     "checksum": "7039247193d1161afca6a0a126eba8d7",
     "grade": false,
     "grade_id": "q1_2",
     "locked": true,
     "solution": false
    }
   },
   "source": [
    "**2** Now plot the two component waves and the full value of $x$ as a time series.  Preferably on the same axis.  Make sure to label your axes and include a legend<hr>"
   ]
  },
  {
   "cell_type": "code",
   "execution_count": null,
   "metadata": {
    "collapsed": false,
    "deletable": false,
    "nbgrader": {
     "checksum": "9569d50b7c0cf5dbff8fc5c4f2cd5ff3",
     "grade": true,
     "grade_id": "a1_2",
     "locked": false,
     "points": 1,
     "solution": true
    }
   },
   "outputs": [],
   "source": [
    "# YOUR CODE HERE\n",
    "raise NotImplementedError()"
   ]
  },
  {
   "cell_type": "markdown",
   "metadata": {
    "deletable": false,
    "nbgrader": {
     "checksum": "d0fe1012904aaca1f1a56eef4224acf9",
     "grade": false,
     "grade_id": "q1_3",
     "locked": true,
     "solution": false
    }
   },
   "source": [
    "**3** Try a few different values of $\\delta\\omega$, and compare.<hr>"
   ]
  },
  {
   "cell_type": "code",
   "execution_count": null,
   "metadata": {
    "collapsed": false,
    "deletable": false,
    "nbgrader": {
     "checksum": "0500f2e4f93552b77e33a8c381e788e1",
     "grade": true,
     "grade_id": "a1_3",
     "locked": false,
     "points": 1,
     "solution": true
    }
   },
   "outputs": [],
   "source": [
    "# YOUR CODE HERE\n",
    "raise NotImplementedError()"
   ]
  },
  {
   "cell_type": "markdown",
   "metadata": {
    "deletable": false,
    "nbgrader": {
     "checksum": "090eb5099734c8735d02c86c67ddeecd",
     "grade": false,
     "grade_id": "q1_4",
     "locked": true,
     "solution": false
    }
   },
   "source": [
    "**4** Now, just so this works, let me specify some numbers for you.  Make $\\omega=\\frac{2\\pi}{3}$, and $\\delta\\omega=\\omega/10.$.  Plot the original time series, and a subsampled time series that just consists of every 200th point.  In a \"Markdown\" box below the code (or as a comment) describe the difference in these two signals as quantifiably as you can.  <hr>"
   ]
  },
  {
   "cell_type": "code",
   "execution_count": null,
   "metadata": {
    "collapsed": false,
    "deletable": false,
    "nbgrader": {
     "checksum": "ee9437c63369e341f34e6a6e4e239cde",
     "grade": true,
     "grade_id": "a1_4",
     "locked": false,
     "points": 1,
     "solution": true
    }
   },
   "outputs": [],
   "source": [
    "# YOUR CODE HERE\n",
    "raise NotImplementedError()"
   ]
  },
  {
   "cell_type": "markdown",
   "metadata": {
    "deletable": false,
    "nbgrader": {
     "checksum": "d29d730213370be4c00d2d98e705d8a2",
     "grade": true,
     "grade_id": "a1_4b",
     "locked": false,
     "points": 1,
     "solution": true
    }
   },
   "source": [
    "YOUR ANSWER HERE"
   ]
  },
  {
   "cell_type": "markdown",
   "metadata": {
    "deletable": false,
    "nbgrader": {
     "checksum": "4842831801bff8f2602c9d74818ba289",
     "grade": false,
     "grade_id": "q2",
     "locked": true,
     "solution": false
    }
   },
   "source": [
    "## Q2: Demonstrate the central limit theorem for a very unfair coin flip."
   ]
  },
  {
   "cell_type": "markdown",
   "metadata": {
    "deletable": false,
    "nbgrader": {
     "checksum": "fc4bba3e489044841dba83e6507c6a59",
     "grade": false,
     "grade_id": "q2_1",
     "locked": true,
     "solution": false
    }
   },
   "source": [
    "Consider a coin that is twice as likely to come up heads as tails. To put a number on it, call tails $x=-1/2$ and heads $x=+1/2$.  \n",
    "\n",
    "**1** What are the mean, $\\mu_x$, and variance $\\sigma_x^2$ of this process?\n",
    "\n",
    "<hr>"
   ]
  },
  {
   "cell_type": "markdown",
   "metadata": {
    "deletable": false,
    "nbgrader": {
     "checksum": "a9b533eebcf3d50f0f900ba39023c666",
     "grade": true,
     "grade_id": "a2_1",
     "locked": false,
     "points": 1,
     "solution": true
    }
   },
   "source": [
    "YOUR ANSWER HERE"
   ]
  },
  {
   "cell_type": "code",
   "execution_count": null,
   "metadata": {
    "collapsed": false,
    "deletable": false,
    "nbgrader": {
     "checksum": "7d0d9f7cb67237717cc8ac1fe949206d",
     "grade": true,
     "grade_id": "a2_1b",
     "locked": false,
     "points": 1,
     "solution": true
    }
   },
   "outputs": [],
   "source": [
    "# YOUR CODE HERE\n",
    "raise NotImplementedError()"
   ]
  },
  {
   "cell_type": "markdown",
   "metadata": {
    "deletable": false,
    "nbgrader": {
     "checksum": "0aa02b9353ec427c52e2896fecc3077f",
     "grade": false,
     "grade_id": "q2_2",
     "locked": true,
     "solution": false
    }
   },
   "source": [
    "**2** Plot or represent the *probability distribution*  (or cumulative distrubution) of this process.\n",
    "<hr>"
   ]
  },
  {
   "cell_type": "code",
   "execution_count": null,
   "metadata": {
    "collapsed": false,
    "deletable": false,
    "nbgrader": {
     "checksum": "6de1efa85af79a97ae602c66e2987034",
     "grade": true,
     "grade_id": "a2_2",
     "locked": false,
     "points": 1,
     "solution": true
    }
   },
   "outputs": [],
   "source": [
    "# YOUR CODE HERE\n",
    "raise NotImplementedError()"
   ]
  },
  {
   "cell_type": "markdown",
   "metadata": {
    "deletable": false,
    "nbgrader": {
     "checksum": "4a9094782ce41f831b7085f9bd155d7f",
     "grade": false,
     "grade_id": "q2_3",
     "locked": true,
     "solution": false
    }
   },
   "source": [
    "**3** Write a function using the `np.random.rand` function to simulate the coin flip.  It shoudl return $+1/2+$ twice as often as $-1/2$.  Demonstrate that your function works.\n",
    "<hr>"
   ]
  },
  {
   "cell_type": "code",
   "execution_count": null,
   "metadata": {
    "collapsed": false,
    "deletable": false,
    "nbgrader": {
     "checksum": "7f5939ff24c36342ea02a42ca1c749e0",
     "grade": true,
     "grade_id": "a2_3",
     "locked": false,
     "points": 1,
     "solution": true
    }
   },
   "outputs": [],
   "source": [
    "# YOUR CODE HERE\n",
    "raise NotImplementedError()"
   ]
  },
  {
   "cell_type": "markdown",
   "metadata": {
    "deletable": false,
    "nbgrader": {
     "checksum": "59004a0f6dbe3330c027860ef6870f51",
     "grade": false,
     "grade_id": "q2_4",
     "locked": true,
     "solution": false
    }
   },
   "source": [
    "**4** Perform $N_{flip}$ and take the sample mean $\\overline{x}$ of the values.  Do this 2000 times, and show that as $N_{flip}\\to\\infty$ the distribution of $\\overline{x}$ approaches a Normal distribution by plotting the histograms of the means for each.  For $N_{flip}$ choose 2, 16, 64, 256. \n",
    "\n",
    "Comment on how the convergence of $\\overline{x}$ for the unfair coin compares to the convergence of the sample mean of the dice roll from the notes.  \n",
    "<hr>"
   ]
  },
  {
   "cell_type": "code",
   "execution_count": null,
   "metadata": {
    "collapsed": false,
    "deletable": false,
    "nbgrader": {
     "checksum": "54d760ee1c3ef6b18bf6ba408b70dabd",
     "grade": true,
     "grade_id": "a2_4",
     "locked": false,
     "points": 1,
     "solution": true
    }
   },
   "outputs": [],
   "source": [
    "# YOUR CODE HERE\n",
    "raise NotImplementedError()"
   ]
  },
  {
   "cell_type": "markdown",
   "metadata": {
    "deletable": false,
    "nbgrader": {
     "checksum": "ee75076bfbc6d24019efd0c5ab51cd3d",
     "grade": true,
     "grade_id": "a2_4b",
     "locked": false,
     "points": 1,
     "solution": true
    }
   },
   "source": [
    "YOUR ANSWER HERE"
   ]
  },
  {
   "cell_type": "markdown",
   "metadata": {
    "deletable": false,
    "nbgrader": {
     "checksum": "2314a6c9ac555c8671867fb5561cd05c",
     "grade": false,
     "grade_id": "q2_5",
     "locked": true,
     "solution": false
    }
   },
   "source": [
    "<hr>\n",
    "**5** Replot the histograms, removing the mean and normalizing by the standard deviation.  Also show the CDF for normal distribution with mean zero and standard deviation of 1.\n",
    "<hr>"
   ]
  },
  {
   "cell_type": "code",
   "execution_count": null,
   "metadata": {
    "collapsed": false,
    "deletable": false,
    "nbgrader": {
     "checksum": "40f2e648620b85e89e21d7fa81b2e10b",
     "grade": true,
     "grade_id": "a2_5",
     "locked": false,
     "points": 1,
     "solution": true
    }
   },
   "outputs": [],
   "source": [
    "# YOUR CODE HERE\n",
    "raise NotImplementedError()"
   ]
  },
  {
   "cell_type": "markdown",
   "metadata": {
    "deletable": false,
    "nbgrader": {
     "checksum": "02e87477f47681492bc23f7fcbb44362",
     "grade": false,
     "grade_id": "q3",
     "locked": true,
     "solution": false
    }
   },
   "source": [
    "## Q3: Look at the Deep Cove weather data: "
   ]
  },
  {
   "cell_type": "markdown",
   "metadata": {
    "deletable": false,
    "nbgrader": {
     "checksum": "ac2e5c1a0b9357dd37a1119fe1f58660",
     "grade": false,
     "grade_id": "q3_1",
     "locked": true,
     "solution": false
    }
   },
   "source": [
    "There are two data sets, one with a sample every minute at \n",
    "\n",
    "`http://web.uvic.ca/~jklymak/Phy411/Data/MinuteData/DeepCoveNew.txt`.\n",
    "\n",
    "Download it locally, or use `genfromtxt` with the url as an argument.\n",
    "\n",
    "The second is hourly data of the smae station and a lot more.\n",
    "\n",
    "`http://web.uvic.ca/~jklymak/Phy411/Data/MinuteData/AllHourly.txt`\n"
   ]
  },
  {
   "cell_type": "code",
   "execution_count": null,
   "metadata": {
    "collapsed": false,
    "deletable": false,
    "nbgrader": {
     "checksum": "8b57353b92d6ba01f4b29e5b8ab0404c",
     "grade": false,
     "grade_id": "q3_1a",
     "locked": true,
     "solution": false
    }
   },
   "outputs": [],
   "source": [
    "minutedata=np.genfromtxt('http://web.uvic.ca/~jklymak/Phy411/Data/MinuteData/DeepCoveNew.txt')[:,1]\n",
    "hourdata=np.genfromtxt('http://web.uvic.ca/~jklymak/Phy411/Data/AllHourly.txt')[6,2:]\n"
   ]
  },
  {
   "cell_type": "markdown",
   "metadata": {
    "deletable": false,
    "nbgrader": {
     "checksum": "99540b2439a479810131859e7739ea59",
     "grade": false,
     "grade_id": "q3_1b",
     "locked": true,
     "solution": false
    }
   },
   "source": [
    "**1** Compare the normalized histograms of the two time series.  Also calculate the means and the standard deviations.\n",
    "<hr>"
   ]
  },
  {
   "cell_type": "code",
   "execution_count": null,
   "metadata": {
    "collapsed": false,
    "deletable": false,
    "nbgrader": {
     "checksum": "52c4c81e0ec214549a425bc05fdd7bca",
     "grade": true,
     "grade_id": "a3_1",
     "locked": false,
     "points": 1,
     "solution": true
    }
   },
   "outputs": [],
   "source": [
    "# YOUR CODE HERE\n",
    "raise NotImplementedError()"
   ]
  },
  {
   "cell_type": "markdown",
   "metadata": {
    "deletable": false,
    "nbgrader": {
     "checksum": "0c0521b5539c5ffbb5e8e1180b52d2b6",
     "grade": false,
     "grade_id": "q3_2",
     "locked": true,
     "solution": false
    }
   },
   "source": [
    "**2** Comment on the shape of these histograms.  Are they Normal?  Speculate as to why they have this shape.\n",
    "<hr>"
   ]
  },
  {
   "cell_type": "markdown",
   "metadata": {
    "deletable": false,
    "nbgrader": {
     "checksum": "149b9740d6df24397ed172bc07abecdc",
     "grade": true,
     "grade_id": "a3_2",
     "locked": false,
     "points": 1,
     "solution": true
    }
   },
   "source": [
    "YOUR ANSWER HERE"
   ]
  },
  {
   "cell_type": "markdown",
   "metadata": {
    "deletable": false,
    "nbgrader": {
     "checksum": "038261499e1a51398c0e6cfaf3019510",
     "grade": false,
     "grade_id": "q3_3",
     "locked": true,
     "solution": false
    }
   },
   "source": [
    "<hr>\n",
    "**3** Redo the histogram and the statistics with just the temperature at 3 PM (both time series start at midnight local time).\n",
    "<hr>"
   ]
  },
  {
   "cell_type": "code",
   "execution_count": null,
   "metadata": {
    "collapsed": false,
    "deletable": false,
    "nbgrader": {
     "checksum": "f7159b6a204c09f8dba8443317414f7d",
     "grade": true,
     "grade_id": "a3_3",
     "locked": false,
     "points": 1,
     "solution": true
    }
   },
   "outputs": [],
   "source": [
    "# YOUR CODE HERE\n",
    "raise NotImplementedError()"
   ]
  },
  {
   "cell_type": "markdown",
   "metadata": {
    "deletable": false,
    "nbgrader": {
     "checksum": "f200f38935706380bb858d9f695e7658",
     "grade": false,
     "grade_id": "q3_4",
     "locked": true,
     "solution": false
    }
   },
   "source": [
    "**4** Redo the histogram and the statistics with just the temperature at 5 AM (both time series start at midnight local time)."
   ]
  },
  {
   "cell_type": "code",
   "execution_count": null,
   "metadata": {
    "collapsed": false,
    "deletable": false,
    "nbgrader": {
     "checksum": "6c85e3beeb15ac63b4de5a4b1a50a0b1",
     "grade": true,
     "grade_id": "a3_4",
     "locked": false,
     "points": 1,
     "solution": true
    }
   },
   "outputs": [],
   "source": [
    "# YOUR CODE HERE\n",
    "raise NotImplementedError()"
   ]
  }
 ],
 "metadata": {
  "kernelspec": {
   "display_name": "Python 2",
   "language": "python",
   "name": "python2"
  },
  "language_info": {
   "codemirror_mode": {
    "name": "ipython",
    "version": 2
   },
   "file_extension": ".py",
   "mimetype": "text/x-python",
   "name": "python",
   "nbconvert_exporter": "python",
   "pygments_lexer": "ipython2",
   "version": "2.7.10"
  }
 },
 "nbformat": 4,
 "nbformat_minor": 0
}